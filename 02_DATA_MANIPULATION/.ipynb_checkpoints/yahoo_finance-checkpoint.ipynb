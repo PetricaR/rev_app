{
 "cells": [
  {
   "cell_type": "code",
   "execution_count": 1,
   "id": "3b60daed-dc4a-4e60-939a-6af49932bfc5",
   "metadata": {},
   "outputs": [],
   "source": [
    "import yfinance as yf\n",
    "import pandas as pd"
   ]
  },
  {
   "cell_type": "code",
   "execution_count": 2,
   "id": "e91b51ed",
   "metadata": {},
   "outputs": [],
   "source": [
    "stock_symobl = \"AMRX\""
   ]
  },
  {
   "cell_type": "code",
   "execution_count": 3,
   "id": "de6d0de2-36a9-4368-8061-28d9deddc300",
   "metadata": {},
   "outputs": [],
   "source": [
    "stock = yf.Ticker(stock_symobl)"
   ]
  },
  {
   "cell_type": "code",
   "execution_count": 4,
   "id": "1d589126-4e0b-4842-aa56-9673f25fc9ca",
   "metadata": {
    "scrolled": true
   },
   "outputs": [
    {
     "data": {
      "text/html": [
       "<div>\n",
       "<style scoped>\n",
       "    .dataframe tbody tr th:only-of-type {\n",
       "        vertical-align: middle;\n",
       "    }\n",
       "\n",
       "    .dataframe tbody tr th {\n",
       "        vertical-align: top;\n",
       "    }\n",
       "\n",
       "    .dataframe thead th {\n",
       "        text-align: right;\n",
       "    }\n",
       "</style>\n",
       "<table border=\"1\" class=\"dataframe\">\n",
       "  <thead>\n",
       "    <tr style=\"text-align: right;\">\n",
       "      <th></th>\n",
       "      <th>Open</th>\n",
       "      <th>High</th>\n",
       "      <th>Low</th>\n",
       "      <th>Close</th>\n",
       "      <th>Volume</th>\n",
       "      <th>Dividends</th>\n",
       "      <th>Stock Splits</th>\n",
       "    </tr>\n",
       "    <tr>\n",
       "      <th>Date</th>\n",
       "      <th></th>\n",
       "      <th></th>\n",
       "      <th></th>\n",
       "      <th></th>\n",
       "      <th></th>\n",
       "      <th></th>\n",
       "      <th></th>\n",
       "    </tr>\n",
       "  </thead>\n",
       "  <tbody>\n",
       "    <tr>\n",
       "      <th>2020-05-27</th>\n",
       "      <td>5.05</td>\n",
       "      <td>5.130</td>\n",
       "      <td>4.705</td>\n",
       "      <td>4.95</td>\n",
       "      <td>2327000</td>\n",
       "      <td>0</td>\n",
       "      <td>0</td>\n",
       "    </tr>\n",
       "    <tr>\n",
       "      <th>2020-05-28</th>\n",
       "      <td>4.87</td>\n",
       "      <td>5.020</td>\n",
       "      <td>4.790</td>\n",
       "      <td>4.84</td>\n",
       "      <td>1170100</td>\n",
       "      <td>0</td>\n",
       "      <td>0</td>\n",
       "    </tr>\n",
       "    <tr>\n",
       "      <th>2020-05-29</th>\n",
       "      <td>4.74</td>\n",
       "      <td>4.895</td>\n",
       "      <td>4.660</td>\n",
       "      <td>4.87</td>\n",
       "      <td>1383300</td>\n",
       "      <td>0</td>\n",
       "      <td>0</td>\n",
       "    </tr>\n",
       "    <tr>\n",
       "      <th>2020-06-01</th>\n",
       "      <td>4.87</td>\n",
       "      <td>4.910</td>\n",
       "      <td>4.750</td>\n",
       "      <td>4.76</td>\n",
       "      <td>1777200</td>\n",
       "      <td>0</td>\n",
       "      <td>0</td>\n",
       "    </tr>\n",
       "    <tr>\n",
       "      <th>2020-06-02</th>\n",
       "      <td>4.78</td>\n",
       "      <td>4.810</td>\n",
       "      <td>4.635</td>\n",
       "      <td>4.70</td>\n",
       "      <td>1534400</td>\n",
       "      <td>0</td>\n",
       "      <td>0</td>\n",
       "    </tr>\n",
       "    <tr>\n",
       "      <th>...</th>\n",
       "      <td>...</td>\n",
       "      <td>...</td>\n",
       "      <td>...</td>\n",
       "      <td>...</td>\n",
       "      <td>...</td>\n",
       "      <td>...</td>\n",
       "      <td>...</td>\n",
       "    </tr>\n",
       "    <tr>\n",
       "      <th>2021-05-20</th>\n",
       "      <td>5.77</td>\n",
       "      <td>5.780</td>\n",
       "      <td>5.650</td>\n",
       "      <td>5.70</td>\n",
       "      <td>423900</td>\n",
       "      <td>0</td>\n",
       "      <td>0</td>\n",
       "    </tr>\n",
       "    <tr>\n",
       "      <th>2021-05-21</th>\n",
       "      <td>5.74</td>\n",
       "      <td>5.855</td>\n",
       "      <td>5.680</td>\n",
       "      <td>5.72</td>\n",
       "      <td>486800</td>\n",
       "      <td>0</td>\n",
       "      <td>0</td>\n",
       "    </tr>\n",
       "    <tr>\n",
       "      <th>2021-05-24</th>\n",
       "      <td>5.76</td>\n",
       "      <td>5.800</td>\n",
       "      <td>5.640</td>\n",
       "      <td>5.65</td>\n",
       "      <td>416200</td>\n",
       "      <td>0</td>\n",
       "      <td>0</td>\n",
       "    </tr>\n",
       "    <tr>\n",
       "      <th>2021-05-25</th>\n",
       "      <td>5.68</td>\n",
       "      <td>5.730</td>\n",
       "      <td>5.550</td>\n",
       "      <td>5.57</td>\n",
       "      <td>557300</td>\n",
       "      <td>0</td>\n",
       "      <td>0</td>\n",
       "    </tr>\n",
       "    <tr>\n",
       "      <th>2021-05-26</th>\n",
       "      <td>5.62</td>\n",
       "      <td>5.685</td>\n",
       "      <td>5.600</td>\n",
       "      <td>5.65</td>\n",
       "      <td>348000</td>\n",
       "      <td>0</td>\n",
       "      <td>0</td>\n",
       "    </tr>\n",
       "  </tbody>\n",
       "</table>\n",
       "<p>253 rows × 7 columns</p>\n",
       "</div>"
      ],
      "text/plain": [
       "            Open   High    Low  Close   Volume  Dividends  Stock Splits\n",
       "Date                                                                   \n",
       "2020-05-27  5.05  5.130  4.705   4.95  2327000          0             0\n",
       "2020-05-28  4.87  5.020  4.790   4.84  1170100          0             0\n",
       "2020-05-29  4.74  4.895  4.660   4.87  1383300          0             0\n",
       "2020-06-01  4.87  4.910  4.750   4.76  1777200          0             0\n",
       "2020-06-02  4.78  4.810  4.635   4.70  1534400          0             0\n",
       "...          ...    ...    ...    ...      ...        ...           ...\n",
       "2021-05-20  5.77  5.780  5.650   5.70   423900          0             0\n",
       "2021-05-21  5.74  5.855  5.680   5.72   486800          0             0\n",
       "2021-05-24  5.76  5.800  5.640   5.65   416200          0             0\n",
       "2021-05-25  5.68  5.730  5.550   5.57   557300          0             0\n",
       "2021-05-26  5.62  5.685  5.600   5.65   348000          0             0\n",
       "\n",
       "[253 rows x 7 columns]"
      ]
     },
     "execution_count": 4,
     "metadata": {},
     "output_type": "execute_result"
    }
   ],
   "source": [
    "# get historical market data\n",
    "hist = stock.history(period=\"1y\")\n",
    "hist"
   ]
  },
  {
   "cell_type": "code",
   "execution_count": null,
   "id": "8c1e2a72",
   "metadata": {},
   "outputs": [],
   "source": [
    "hist['RSI']"
   ]
  },
  {
   "cell_type": "code",
   "execution_count": null,
   "id": "d1a23575",
   "metadata": {},
   "outputs": [],
   "source": []
  },
  {
   "cell_type": "code",
   "execution_count": null,
   "id": "4662eac8",
   "metadata": {},
   "outputs": [],
   "source": []
  },
  {
   "cell_type": "code",
   "execution_count": null,
   "id": "50e00f41",
   "metadata": {},
   "outputs": [],
   "source": []
  },
  {
   "cell_type": "code",
   "execution_count": null,
   "id": "5e39aa8c",
   "metadata": {},
   "outputs": [],
   "source": []
  },
  {
   "cell_type": "code",
   "execution_count": null,
   "id": "9f6322e3-2815-4cf0-b224-b2e0d956ea75",
   "metadata": {
    "scrolled": true
   },
   "outputs": [],
   "source": [
    "hist['Close'].plot(figsize=(16,8));"
   ]
  },
  {
   "cell_type": "code",
   "execution_count": null,
   "id": "049ae045",
   "metadata": {},
   "outputs": [],
   "source": [
    "#hist.to_csv('NIO_STOCK.csv', index=True)"
   ]
  },
  {
   "cell_type": "code",
   "execution_count": null,
   "id": "002a113b",
   "metadata": {},
   "outputs": [],
   "source": [
    "# show actions (dividends, splits)\n",
    "stock.actions"
   ]
  },
  {
   "cell_type": "code",
   "execution_count": null,
   "id": "2bfc6eea",
   "metadata": {},
   "outputs": [],
   "source": [
    "# show institutional holders\n",
    "stock.institutional_holders"
   ]
  },
  {
   "cell_type": "code",
   "execution_count": null,
   "id": "7a95d37c",
   "metadata": {},
   "outputs": [],
   "source": [
    "# show balance sheet\n",
    "stock.balance_sheet"
   ]
  },
  {
   "cell_type": "code",
   "execution_count": null,
   "id": "98f42697",
   "metadata": {},
   "outputs": [],
   "source": [
    "# show cashflow\n",
    "stock.cashflow"
   ]
  },
  {
   "cell_type": "code",
   "execution_count": null,
   "id": "550fd87d",
   "metadata": {},
   "outputs": [],
   "source": [
    "# show earnings\n",
    "stock.earnings"
   ]
  },
  {
   "cell_type": "code",
   "execution_count": null,
   "id": "03965f36",
   "metadata": {},
   "outputs": [],
   "source": [
    "# show sustainability\n",
    "stock.sustainability"
   ]
  },
  {
   "cell_type": "code",
   "execution_count": null,
   "id": "c3f1f2ba",
   "metadata": {},
   "outputs": [],
   "source": [
    "# show analysts recommendations\n",
    "stock.recommendations"
   ]
  },
  {
   "cell_type": "code",
   "execution_count": null,
   "id": "08ca7cb7",
   "metadata": {},
   "outputs": [],
   "source": [
    "# show next event (earnings, etc)\n",
    "stock.calendar"
   ]
  },
  {
   "cell_type": "code",
   "execution_count": null,
   "id": "a997d0f1",
   "metadata": {},
   "outputs": [],
   "source": [
    "# show options expirations\n",
    "stock.options"
   ]
  },
  {
   "cell_type": "code",
   "execution_count": null,
   "id": "246296fa",
   "metadata": {},
   "outputs": [],
   "source": [
    "def get_data(tickers):\n",
    "    \n",
    "    data = yf.download(tickers,  # or pdr.get_data_yahoo(...\n",
    "            # tickers list or string as well\n",
    "            # tickers = \"PATH\",\n",
    "\n",
    "            # use \"period\" instead of start/end\n",
    "            # valid periods: 1d,5d,1mo,3mo,6mo,1y,2y,5y,10y,ytd,max\n",
    "            # (optional, default is '1mo')\n",
    "            period = \"1d\",\n",
    "\n",
    "            # fetch data by interval (including intraday if period < 60 days)\n",
    "            # valid intervals: 1m,2m,5m,15m,30m,60m,90m,1h,1d,5d,1wk,1mo,3mo\n",
    "            # (optional, default is '1d')\n",
    "            interval = \"1m\",\n",
    "\n",
    "            # group by ticker (to access via data['SPY'])\n",
    "            # (optional, default is 'column')\n",
    "            group_by = 'ticker',\n",
    "\n",
    "            # adjust all OHLC automatically\n",
    "            # (optional, default is False)\n",
    "            auto_adjust = True,\n",
    "\n",
    "            # download pre/post regular market hours data\n",
    "            # (optional, default is False)\n",
    "            prepost = True,\n",
    "\n",
    "            # use threads for mass downloading? (True/False/Integer)\n",
    "            # (optional, default is True)\n",
    "            threads = True,\n",
    "\n",
    "            # proxy URL scheme use use when downloading?\n",
    "            # (optional, default is None)\n",
    "            proxy = None\n",
    "        )\n",
    "    # data['Close'].plot(figsize=(16,8));\n",
    "    return data"
   ]
  },
  {
   "cell_type": "code",
   "execution_count": null,
   "id": "83cdc058",
   "metadata": {
    "scrolled": true
   },
   "outputs": [],
   "source": [
    "data = get_data('DISCA')"
   ]
  },
  {
   "cell_type": "code",
   "execution_count": null,
   "id": "6dd7cd7d",
   "metadata": {},
   "outputs": [],
   "source": [
    "data"
   ]
  },
  {
   "cell_type": "code",
   "execution_count": null,
   "id": "57c8680b",
   "metadata": {},
   "outputs": [],
   "source": [
    "import schedule\n",
    "import time\n",
    "\n",
    "def job():\n",
    "    data = get_data('PATH')\n",
    "    data['Close'].plot(figsize=(16,8));\n",
    "\n",
    "# schedule.every(1).seconds.do(job)\n",
    "schedule.every(1).minutes.do(job)\n",
    "# schedule.every().hour.do(job)\n",
    "# schedule.every().day.at(\"10:30\").do(job)\n",
    "# schedule.every(5).to(10).minutes.do(job)\n",
    "# schedule.every().monday.do(job)\n",
    "# schedule.every().wednesday.at(\"13:15\").do(job)\n",
    "# schedule.every().minute.at(\":17\").do(job)\n",
    "\n",
    "while True:\n",
    "    schedule.run_pending()\n",
    "    time.sleep(60)"
   ]
  },
  {
   "cell_type": "code",
   "execution_count": null,
   "id": "bc0e45ec",
   "metadata": {},
   "outputs": [],
   "source": []
  },
  {
   "cell_type": "code",
   "execution_count": null,
   "id": "2e127d62",
   "metadata": {},
   "outputs": [],
   "source": []
  }
 ],
 "metadata": {
  "kernelspec": {
   "display_name": "test_env",
   "language": "python",
   "name": "test_env"
  },
  "language_info": {
   "codemirror_mode": {
    "name": "ipython",
    "version": 3
   },
   "file_extension": ".py",
   "mimetype": "text/x-python",
   "name": "python",
   "nbconvert_exporter": "python",
   "pygments_lexer": "ipython3",
   "version": "3.8.5"
  }
 },
 "nbformat": 4,
 "nbformat_minor": 5
}
