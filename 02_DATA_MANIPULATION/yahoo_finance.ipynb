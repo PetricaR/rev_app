{
 "cells": [
  {
   "cell_type": "code",
   "execution_count": 2,
   "metadata": {},
   "outputs": [],
   "source": [
    "import yfinance as yf\r\n",
    "import pandas as pd\r\n",
    "import pandas_datareader as pdr\r\n",
    "import datetime as dt\r\n",
    "import matplotlib.pyplot as plt\r\n",
    "from alpha_vantage.techindicators import TechIndicators\r\n",
    "import matplotlib.pyplot as plt"
   ]
  },
  {
   "cell_type": "code",
   "execution_count": 3,
   "metadata": {},
   "outputs": [],
   "source": [
    "stock_symobl = \"RBLX\""
   ]
  },
  {
   "cell_type": "code",
   "execution_count": 4,
   "metadata": {},
   "outputs": [],
   "source": [
    "stock = yf.Ticker(stock_symobl)"
   ]
  },
  {
   "cell_type": "code",
   "execution_count": 5,
   "metadata": {
    "scrolled": true
   },
   "outputs": [],
   "source": [
    "# get historical market data\r\n",
    "hist = stock.history(period=\"1y\")"
   ]
  },
  {
   "cell_type": "code",
   "execution_count": 6,
   "metadata": {},
   "outputs": [
    {
     "data": {
      "text/html": "<div>\n<style scoped>\n    .dataframe tbody tr th:only-of-type {\n        vertical-align: middle;\n    }\n\n    .dataframe tbody tr th {\n        vertical-align: top;\n    }\n\n    .dataframe thead th {\n        text-align: right;\n    }\n</style>\n<table border=\"1\" class=\"dataframe\">\n  <thead>\n    <tr style=\"text-align: right;\">\n      <th></th>\n      <th>Open</th>\n      <th>High</th>\n      <th>Low</th>\n      <th>Close</th>\n      <th>Volume</th>\n      <th>Dividends</th>\n      <th>Stock Splits</th>\n    </tr>\n    <tr>\n      <th>Date</th>\n      <th></th>\n      <th></th>\n      <th></th>\n      <th></th>\n      <th></th>\n      <th></th>\n      <th></th>\n    </tr>\n  </thead>\n  <tbody>\n    <tr>\n      <th>2021-03-10</th>\n      <td>64.500000</td>\n      <td>74.830002</td>\n      <td>60.500000</td>\n      <td>69.500000</td>\n      <td>97069300</td>\n      <td>0</td>\n      <td>0</td>\n    </tr>\n    <tr>\n      <th>2021-03-11</th>\n      <td>74.930000</td>\n      <td>77.779999</td>\n      <td>70.129997</td>\n      <td>73.900002</td>\n      <td>59629300</td>\n      <td>0</td>\n      <td>0</td>\n    </tr>\n    <tr>\n      <th>2021-03-12</th>\n      <td>72.470001</td>\n      <td>72.959999</td>\n      <td>69.110001</td>\n      <td>69.699997</td>\n      <td>19714700</td>\n      <td>0</td>\n      <td>0</td>\n    </tr>\n    <tr>\n      <th>2021-03-15</th>\n      <td>70.019997</td>\n      <td>74.059998</td>\n      <td>66.250000</td>\n      <td>72.150002</td>\n      <td>19549800</td>\n      <td>0</td>\n      <td>0</td>\n    </tr>\n    <tr>\n      <th>2021-03-16</th>\n      <td>73.730003</td>\n      <td>78.000000</td>\n      <td>73.180000</td>\n      <td>77.000000</td>\n      <td>30274400</td>\n      <td>0</td>\n      <td>0</td>\n    </tr>\n    <tr>\n      <th>2021-03-17</th>\n      <td>76.029999</td>\n      <td>79.099998</td>\n      <td>74.889999</td>\n      <td>76.790001</td>\n      <td>10054100</td>\n      <td>0</td>\n      <td>0</td>\n    </tr>\n    <tr>\n      <th>2021-03-18</th>\n      <td>76.000000</td>\n      <td>77.000000</td>\n      <td>66.800003</td>\n      <td>67.300003</td>\n      <td>9627400</td>\n      <td>0</td>\n      <td>0</td>\n    </tr>\n    <tr>\n      <th>2021-03-19</th>\n      <td>69.470001</td>\n      <td>72.699997</td>\n      <td>68.080002</td>\n      <td>70.500000</td>\n      <td>6776500</td>\n      <td>0</td>\n      <td>0</td>\n    </tr>\n    <tr>\n      <th>2021-03-22</th>\n      <td>71.809998</td>\n      <td>72.489998</td>\n      <td>69.540001</td>\n      <td>70.000000</td>\n      <td>4238500</td>\n      <td>0</td>\n      <td>0</td>\n    </tr>\n    <tr>\n      <th>2021-03-23</th>\n      <td>70.099998</td>\n      <td>71.750000</td>\n      <td>67.629997</td>\n      <td>68.000000</td>\n      <td>4456000</td>\n      <td>0</td>\n      <td>0</td>\n    </tr>\n    <tr>\n      <th>2021-03-24</th>\n      <td>69.970001</td>\n      <td>70.000000</td>\n      <td>64.010002</td>\n      <td>64.500000</td>\n      <td>5460000</td>\n      <td>0</td>\n      <td>0</td>\n    </tr>\n    <tr>\n      <th>2021-03-25</th>\n      <td>62.009998</td>\n      <td>69.849998</td>\n      <td>60.689999</td>\n      <td>67.849998</td>\n      <td>6283000</td>\n      <td>0</td>\n      <td>0</td>\n    </tr>\n    <tr>\n      <th>2021-03-26</th>\n      <td>67.889999</td>\n      <td>71.199997</td>\n      <td>64.769997</td>\n      <td>70.970001</td>\n      <td>4531200</td>\n      <td>0</td>\n      <td>0</td>\n    </tr>\n    <tr>\n      <th>2021-03-29</th>\n      <td>69.000000</td>\n      <td>69.089996</td>\n      <td>66.510002</td>\n      <td>67.029999</td>\n      <td>4351600</td>\n      <td>0</td>\n      <td>0</td>\n    </tr>\n    <tr>\n      <th>2021-03-30</th>\n      <td>66.980003</td>\n      <td>66.989998</td>\n      <td>64.474998</td>\n      <td>65.169998</td>\n      <td>3394500</td>\n      <td>0</td>\n      <td>0</td>\n    </tr>\n    <tr>\n      <th>2021-03-31</th>\n      <td>65.500000</td>\n      <td>67.190002</td>\n      <td>64.570000</td>\n      <td>64.830002</td>\n      <td>4094900</td>\n      <td>0</td>\n      <td>0</td>\n    </tr>\n    <tr>\n      <th>2021-04-01</th>\n      <td>66.800003</td>\n      <td>69.669998</td>\n      <td>65.900002</td>\n      <td>67.339996</td>\n      <td>4063100</td>\n      <td>0</td>\n      <td>0</td>\n    </tr>\n    <tr>\n      <th>2021-04-05</th>\n      <td>70.139999</td>\n      <td>72.860001</td>\n      <td>68.559998</td>\n      <td>70.760002</td>\n      <td>8609500</td>\n      <td>0</td>\n      <td>0</td>\n    </tr>\n    <tr>\n      <th>2021-04-06</th>\n      <td>71.239998</td>\n      <td>72.389999</td>\n      <td>70.760002</td>\n      <td>71.320000</td>\n      <td>3915500</td>\n      <td>0</td>\n      <td>0</td>\n    </tr>\n    <tr>\n      <th>2021-04-07</th>\n      <td>70.699997</td>\n      <td>71.139999</td>\n      <td>67.879997</td>\n      <td>68.730003</td>\n      <td>4424800</td>\n      <td>0</td>\n      <td>0</td>\n    </tr>\n    <tr>\n      <th>2021-04-08</th>\n      <td>69.470001</td>\n      <td>71.489998</td>\n      <td>68.839996</td>\n      <td>70.760002</td>\n      <td>4244000</td>\n      <td>0</td>\n      <td>0</td>\n    </tr>\n    <tr>\n      <th>2021-04-09</th>\n      <td>70.500000</td>\n      <td>74.989998</td>\n      <td>70.205002</td>\n      <td>71.830002</td>\n      <td>9245500</td>\n      <td>0</td>\n      <td>0</td>\n    </tr>\n    <tr>\n      <th>2021-04-12</th>\n      <td>71.820000</td>\n      <td>77.000000</td>\n      <td>71.510002</td>\n      <td>75.000000</td>\n      <td>8004100</td>\n      <td>0</td>\n      <td>0</td>\n    </tr>\n    <tr>\n      <th>2021-04-13</th>\n      <td>74.690002</td>\n      <td>83.410004</td>\n      <td>73.510002</td>\n      <td>82.050003</td>\n      <td>17893700</td>\n      <td>0</td>\n      <td>0</td>\n    </tr>\n    <tr>\n      <th>2021-04-14</th>\n      <td>79.110001</td>\n      <td>80.570000</td>\n      <td>74.051003</td>\n      <td>75.349998</td>\n      <td>14785800</td>\n      <td>0</td>\n      <td>0</td>\n    </tr>\n    <tr>\n      <th>2021-04-15</th>\n      <td>75.500000</td>\n      <td>80.750000</td>\n      <td>74.559998</td>\n      <td>79.660004</td>\n      <td>8841100</td>\n      <td>0</td>\n      <td>0</td>\n    </tr>\n    <tr>\n      <th>2021-04-16</th>\n      <td>78.000000</td>\n      <td>79.360001</td>\n      <td>75.120003</td>\n      <td>75.849998</td>\n      <td>5156200</td>\n      <td>0</td>\n      <td>0</td>\n    </tr>\n    <tr>\n      <th>2021-04-19</th>\n      <td>75.870003</td>\n      <td>78.300003</td>\n      <td>71.430000</td>\n      <td>72.000000</td>\n      <td>6637700</td>\n      <td>0</td>\n      <td>0</td>\n    </tr>\n    <tr>\n      <th>2021-04-20</th>\n      <td>71.500000</td>\n      <td>71.739998</td>\n      <td>67.300003</td>\n      <td>69.239998</td>\n      <td>8393600</td>\n      <td>0</td>\n      <td>0</td>\n    </tr>\n    <tr>\n      <th>2021-04-21</th>\n      <td>68.809998</td>\n      <td>71.989998</td>\n      <td>67.599998</td>\n      <td>71.760002</td>\n      <td>4525000</td>\n      <td>0</td>\n      <td>0</td>\n    </tr>\n    <tr>\n      <th>2021-04-22</th>\n      <td>71.500000</td>\n      <td>73.790001</td>\n      <td>69.099998</td>\n      <td>69.849998</td>\n      <td>3372200</td>\n      <td>0</td>\n      <td>0</td>\n    </tr>\n    <tr>\n      <th>2021-04-23</th>\n      <td>70.040001</td>\n      <td>72.379997</td>\n      <td>69.589996</td>\n      <td>71.779999</td>\n      <td>2729300</td>\n      <td>0</td>\n      <td>0</td>\n    </tr>\n    <tr>\n      <th>2021-04-26</th>\n      <td>72.000000</td>\n      <td>75.919998</td>\n      <td>71.309998</td>\n      <td>74.900002</td>\n      <td>4192700</td>\n      <td>0</td>\n      <td>0</td>\n    </tr>\n    <tr>\n      <th>2021-04-27</th>\n      <td>74.769997</td>\n      <td>75.370003</td>\n      <td>72.330002</td>\n      <td>74.349998</td>\n      <td>3200600</td>\n      <td>0</td>\n      <td>0</td>\n    </tr>\n    <tr>\n      <th>2021-04-28</th>\n      <td>74.769997</td>\n      <td>76.930000</td>\n      <td>73.639999</td>\n      <td>75.639999</td>\n      <td>3084300</td>\n      <td>0</td>\n      <td>0</td>\n    </tr>\n    <tr>\n      <th>2021-04-29</th>\n      <td>76.709999</td>\n      <td>77.599998</td>\n      <td>72.830002</td>\n      <td>76.120003</td>\n      <td>4374900</td>\n      <td>0</td>\n      <td>0</td>\n    </tr>\n    <tr>\n      <th>2021-04-30</th>\n      <td>74.809998</td>\n      <td>76.989998</td>\n      <td>73.910004</td>\n      <td>74.550003</td>\n      <td>2418400</td>\n      <td>0</td>\n      <td>0</td>\n    </tr>\n    <tr>\n      <th>2021-05-03</th>\n      <td>74.860001</td>\n      <td>75.099998</td>\n      <td>70.610001</td>\n      <td>71.080002</td>\n      <td>3212200</td>\n      <td>0</td>\n      <td>0</td>\n    </tr>\n    <tr>\n      <th>2021-05-04</th>\n      <td>71.000000</td>\n      <td>71.690002</td>\n      <td>67.657997</td>\n      <td>69.620003</td>\n      <td>5379900</td>\n      <td>0</td>\n      <td>0</td>\n    </tr>\n    <tr>\n      <th>2021-05-05</th>\n      <td>70.599998</td>\n      <td>70.599998</td>\n      <td>66.459999</td>\n      <td>66.589996</td>\n      <td>3206400</td>\n      <td>0</td>\n      <td>0</td>\n    </tr>\n    <tr>\n      <th>2021-05-06</th>\n      <td>66.500000</td>\n      <td>67.000000</td>\n      <td>63.830002</td>\n      <td>65.059998</td>\n      <td>6004200</td>\n      <td>0</td>\n      <td>0</td>\n    </tr>\n    <tr>\n      <th>2021-05-07</th>\n      <td>67.010002</td>\n      <td>68.480003</td>\n      <td>66.199997</td>\n      <td>67.900002</td>\n      <td>4767400</td>\n      <td>0</td>\n      <td>0</td>\n    </tr>\n    <tr>\n      <th>2021-05-10</th>\n      <td>68.839996</td>\n      <td>69.290001</td>\n      <td>64.000000</td>\n      <td>64.000000</td>\n      <td>8124100</td>\n      <td>0</td>\n      <td>0</td>\n    </tr>\n    <tr>\n      <th>2021-05-11</th>\n      <td>64.879997</td>\n      <td>77.787003</td>\n      <td>64.699997</td>\n      <td>77.650002</td>\n      <td>30995000</td>\n      <td>0</td>\n      <td>0</td>\n    </tr>\n    <tr>\n      <th>2021-05-12</th>\n      <td>74.209999</td>\n      <td>76.000000</td>\n      <td>71.089996</td>\n      <td>75.529999</td>\n      <td>20823900</td>\n      <td>0</td>\n      <td>0</td>\n    </tr>\n    <tr>\n      <th>2021-05-13</th>\n      <td>75.150002</td>\n      <td>75.150002</td>\n      <td>67.510002</td>\n      <td>69.680000</td>\n      <td>17769500</td>\n      <td>0</td>\n      <td>0</td>\n    </tr>\n    <tr>\n      <th>2021-05-14</th>\n      <td>71.199997</td>\n      <td>73.430000</td>\n      <td>69.250000</td>\n      <td>70.949997</td>\n      <td>7664100</td>\n      <td>0</td>\n      <td>0</td>\n    </tr>\n    <tr>\n      <th>2021-05-17</th>\n      <td>70.949997</td>\n      <td>76.970001</td>\n      <td>70.910004</td>\n      <td>76.930000</td>\n      <td>16797600</td>\n      <td>0</td>\n      <td>0</td>\n    </tr>\n    <tr>\n      <th>2021-05-18</th>\n      <td>76.699997</td>\n      <td>77.589996</td>\n      <td>73.480003</td>\n      <td>74.989998</td>\n      <td>11688200</td>\n      <td>0</td>\n      <td>0</td>\n    </tr>\n    <tr>\n      <th>2021-05-19</th>\n      <td>70.330002</td>\n      <td>76.269997</td>\n      <td>70.330002</td>\n      <td>75.220001</td>\n      <td>10886300</td>\n      <td>0</td>\n      <td>0</td>\n    </tr>\n    <tr>\n      <th>2021-05-20</th>\n      <td>75.720001</td>\n      <td>76.910004</td>\n      <td>73.010002</td>\n      <td>76.330002</td>\n      <td>10951000</td>\n      <td>0</td>\n      <td>0</td>\n    </tr>\n    <tr>\n      <th>2021-05-21</th>\n      <td>77.480003</td>\n      <td>84.684998</td>\n      <td>77.309998</td>\n      <td>82.500000</td>\n      <td>31613800</td>\n      <td>0</td>\n      <td>0</td>\n    </tr>\n    <tr>\n      <th>2021-05-24</th>\n      <td>82.599998</td>\n      <td>89.639999</td>\n      <td>82.500000</td>\n      <td>89.230003</td>\n      <td>23117700</td>\n      <td>0</td>\n      <td>0</td>\n    </tr>\n    <tr>\n      <th>2021-05-25</th>\n      <td>90.000000</td>\n      <td>90.110001</td>\n      <td>85.510002</td>\n      <td>89.320000</td>\n      <td>14314600</td>\n      <td>0</td>\n      <td>0</td>\n    </tr>\n    <tr>\n      <th>2021-05-26</th>\n      <td>89.949997</td>\n      <td>95.000000</td>\n      <td>88.750000</td>\n      <td>89.709999</td>\n      <td>17543500</td>\n      <td>0</td>\n      <td>0</td>\n    </tr>\n    <tr>\n      <th>2021-05-27</th>\n      <td>89.260002</td>\n      <td>97.500000</td>\n      <td>87.589996</td>\n      <td>97.470001</td>\n      <td>19850300</td>\n      <td>0</td>\n      <td>0</td>\n    </tr>\n    <tr>\n      <th>2021-05-28</th>\n      <td>96.849998</td>\n      <td>98.949997</td>\n      <td>92.529999</td>\n      <td>93.769997</td>\n      <td>13439300</td>\n      <td>0</td>\n      <td>0</td>\n    </tr>\n  </tbody>\n</table>\n</div>",
      "text/plain": "                 Open       High        Low      Close    Volume  Dividends  \\\nDate                                                                          \n2021-03-10  64.500000  74.830002  60.500000  69.500000  97069300          0   \n2021-03-11  74.930000  77.779999  70.129997  73.900002  59629300          0   \n2021-03-12  72.470001  72.959999  69.110001  69.699997  19714700          0   \n2021-03-15  70.019997  74.059998  66.250000  72.150002  19549800          0   \n2021-03-16  73.730003  78.000000  73.180000  77.000000  30274400          0   \n2021-03-17  76.029999  79.099998  74.889999  76.790001  10054100          0   \n2021-03-18  76.000000  77.000000  66.800003  67.300003   9627400          0   \n2021-03-19  69.470001  72.699997  68.080002  70.500000   6776500          0   \n2021-03-22  71.809998  72.489998  69.540001  70.000000   4238500          0   \n2021-03-23  70.099998  71.750000  67.629997  68.000000   4456000          0   \n2021-03-24  69.970001  70.000000  64.010002  64.500000   5460000          0   \n2021-03-25  62.009998  69.849998  60.689999  67.849998   6283000          0   \n2021-03-26  67.889999  71.199997  64.769997  70.970001   4531200          0   \n2021-03-29  69.000000  69.089996  66.510002  67.029999   4351600          0   \n2021-03-30  66.980003  66.989998  64.474998  65.169998   3394500          0   \n2021-03-31  65.500000  67.190002  64.570000  64.830002   4094900          0   \n2021-04-01  66.800003  69.669998  65.900002  67.339996   4063100          0   \n2021-04-05  70.139999  72.860001  68.559998  70.760002   8609500          0   \n2021-04-06  71.239998  72.389999  70.760002  71.320000   3915500          0   \n2021-04-07  70.699997  71.139999  67.879997  68.730003   4424800          0   \n2021-04-08  69.470001  71.489998  68.839996  70.760002   4244000          0   \n2021-04-09  70.500000  74.989998  70.205002  71.830002   9245500          0   \n2021-04-12  71.820000  77.000000  71.510002  75.000000   8004100          0   \n2021-04-13  74.690002  83.410004  73.510002  82.050003  17893700          0   \n2021-04-14  79.110001  80.570000  74.051003  75.349998  14785800          0   \n2021-04-15  75.500000  80.750000  74.559998  79.660004   8841100          0   \n2021-04-16  78.000000  79.360001  75.120003  75.849998   5156200          0   \n2021-04-19  75.870003  78.300003  71.430000  72.000000   6637700          0   \n2021-04-20  71.500000  71.739998  67.300003  69.239998   8393600          0   \n2021-04-21  68.809998  71.989998  67.599998  71.760002   4525000          0   \n2021-04-22  71.500000  73.790001  69.099998  69.849998   3372200          0   \n2021-04-23  70.040001  72.379997  69.589996  71.779999   2729300          0   \n2021-04-26  72.000000  75.919998  71.309998  74.900002   4192700          0   \n2021-04-27  74.769997  75.370003  72.330002  74.349998   3200600          0   \n2021-04-28  74.769997  76.930000  73.639999  75.639999   3084300          0   \n2021-04-29  76.709999  77.599998  72.830002  76.120003   4374900          0   \n2021-04-30  74.809998  76.989998  73.910004  74.550003   2418400          0   \n2021-05-03  74.860001  75.099998  70.610001  71.080002   3212200          0   \n2021-05-04  71.000000  71.690002  67.657997  69.620003   5379900          0   \n2021-05-05  70.599998  70.599998  66.459999  66.589996   3206400          0   \n2021-05-06  66.500000  67.000000  63.830002  65.059998   6004200          0   \n2021-05-07  67.010002  68.480003  66.199997  67.900002   4767400          0   \n2021-05-10  68.839996  69.290001  64.000000  64.000000   8124100          0   \n2021-05-11  64.879997  77.787003  64.699997  77.650002  30995000          0   \n2021-05-12  74.209999  76.000000  71.089996  75.529999  20823900          0   \n2021-05-13  75.150002  75.150002  67.510002  69.680000  17769500          0   \n2021-05-14  71.199997  73.430000  69.250000  70.949997   7664100          0   \n2021-05-17  70.949997  76.970001  70.910004  76.930000  16797600          0   \n2021-05-18  76.699997  77.589996  73.480003  74.989998  11688200          0   \n2021-05-19  70.330002  76.269997  70.330002  75.220001  10886300          0   \n2021-05-20  75.720001  76.910004  73.010002  76.330002  10951000          0   \n2021-05-21  77.480003  84.684998  77.309998  82.500000  31613800          0   \n2021-05-24  82.599998  89.639999  82.500000  89.230003  23117700          0   \n2021-05-25  90.000000  90.110001  85.510002  89.320000  14314600          0   \n2021-05-26  89.949997  95.000000  88.750000  89.709999  17543500          0   \n2021-05-27  89.260002  97.500000  87.589996  97.470001  19850300          0   \n2021-05-28  96.849998  98.949997  92.529999  93.769997  13439300          0   \n\n            Stock Splits  \nDate                      \n2021-03-10             0  \n2021-03-11             0  \n2021-03-12             0  \n2021-03-15             0  \n2021-03-16             0  \n2021-03-17             0  \n2021-03-18             0  \n2021-03-19             0  \n2021-03-22             0  \n2021-03-23             0  \n2021-03-24             0  \n2021-03-25             0  \n2021-03-26             0  \n2021-03-29             0  \n2021-03-30             0  \n2021-03-31             0  \n2021-04-01             0  \n2021-04-05             0  \n2021-04-06             0  \n2021-04-07             0  \n2021-04-08             0  \n2021-04-09             0  \n2021-04-12             0  \n2021-04-13             0  \n2021-04-14             0  \n2021-04-15             0  \n2021-04-16             0  \n2021-04-19             0  \n2021-04-20             0  \n2021-04-21             0  \n2021-04-22             0  \n2021-04-23             0  \n2021-04-26             0  \n2021-04-27             0  \n2021-04-28             0  \n2021-04-29             0  \n2021-04-30             0  \n2021-05-03             0  \n2021-05-04             0  \n2021-05-05             0  \n2021-05-06             0  \n2021-05-07             0  \n2021-05-10             0  \n2021-05-11             0  \n2021-05-12             0  \n2021-05-13             0  \n2021-05-14             0  \n2021-05-17             0  \n2021-05-18             0  \n2021-05-19             0  \n2021-05-20             0  \n2021-05-21             0  \n2021-05-24             0  \n2021-05-25             0  \n2021-05-26             0  \n2021-05-27             0  \n2021-05-28             0  "
     },
     "execution_count": 6,
     "metadata": {},
     "output_type": "execute_result"
    }
   ],
   "source": [
    "hist"
   ]
  },
  {
   "cell_type": "code",
   "execution_count": 44,
   "metadata": {},
   "outputs": [],
   "source": [
    "# delta = hist['Close'].diff()\r\n",
    "# up = delta.clip(lower=0)\r\n",
    "# down = -1*delta.clip(upper=0)\r\n",
    "# ema_up = up.ewm(com=13, adjust=False).mean()\r\n",
    "# ema_down = down.ewm(com=13, adjust=False).mean()\r\n",
    "# rs = ema_up/ema_down\r\n",
    "# hist['RSI'] = 100 - (100/(1 + rs))"
   ]
  },
  {
   "cell_type": "code",
   "execution_count": 45,
   "metadata": {},
   "outputs": [],
   "source": [
    "# # Skip first 14 days to have real values\r\n",
    "\r\n",
    "# hist = hist.iloc[14:]\r\n",
    "\r\n",
    "# print(hist)\r\n",
    "# fig, (ax1, ax2) = plt.subplots(2)\r\n",
    "# ax1.get_xaxis().set_visible(False)\r\n",
    "# fig.suptitle(f'{stock_symobl}')\r\n",
    "\r\n",
    "# hist['Close'].plot(ax=ax1)\r\n",
    "# ax1.set_ylabel('Price ($)')\r\n",
    "# hist['RSI'].plot(ax=ax2)\r\n",
    "# ax2.set_ylim(0,100)\r\n",
    "# ax2.axhline(30, color='r', linestyle='--')\r\n",
    "# ax2.axhline(70, color='r', linestyle='--')\r\n",
    "# ax2.set_ylabel('RSI')\r\n",
    "\r\n",
    "# plt.show()"
   ]
  },
  {
   "cell_type": "code",
   "execution_count": 46,
   "metadata": {},
   "outputs": [],
   "source": [
    "# ti = TechIndicators(key='9R2V38OOYMP02MHZ', output_format='pandas')"
   ]
  },
  {
   "cell_type": "code",
   "execution_count": 47,
   "metadata": {},
   "outputs": [],
   "source": [
    "# data, meta_data = ti.get_rsi(symbol=stock_symobl,\r\n",
    "#                              interval='daily',\r\n",
    "#                              time_period=14,\r\n",
    "#                              series_type='close')\r\n",
    "# data.plot()\r\n",
    "# plt.title(f'RSI indicator for {stock_symobl} stock')\r\n",
    "# plt.show()"
   ]
  },
  {
   "cell_type": "code",
   "execution_count": 5,
   "metadata": {},
   "outputs": [],
   "source": [
    "def get_data(tickers):\r\n",
    "    \r\n",
    "    data = yf.download(tickers,  # or pdr.get_data_yahoo(...\r\n",
    "            # tickers list or string as well\r\n",
    "            # tickers = \"PATH\",\r\n",
    "\r\n",
    "            # use \"period\" instead of start/end\r\n",
    "            # valid periods: 1d,5d,1mo,3mo,6mo,1y,2y,5y,10y,ytd,max\r\n",
    "            # (optional, default is '1mo')\r\n",
    "            period = \"1d\",\r\n",
    "\r\n",
    "            # fetch data by interval (including intraday if period < 60 days)\r\n",
    "            # valid intervals: 1m,2m,5m,15m,30m,60m,90m,1h,1d,5d,1wk,1mo,3mo\r\n",
    "            # (optional, default is '1d')\r\n",
    "            interval = \"1m\",\r\n",
    "\r\n",
    "            # group by ticker (to access via data['SPY'])\r\n",
    "            # (optional, default is 'column')\r\n",
    "            group_by = 'ticker',\r\n",
    "\r\n",
    "            # adjust all OHLC automatically\r\n",
    "            # (optional, default is False)\r\n",
    "            auto_adjust = True,\r\n",
    "\r\n",
    "            # download pre/post regular market hours data\r\n",
    "            # (optional, default is False)\r\n",
    "            prepost = True,\r\n",
    "\r\n",
    "            # use threads for mass downloading? (True/False/Integer)\r\n",
    "            # (optional, default is True)\r\n",
    "            threads = True,\r\n",
    "\r\n",
    "            # proxy URL scheme use use when downloading?\r\n",
    "            # (optional, default is None)\r\n",
    "            proxy = None\r\n",
    "        )\r\n",
    "    # data['Close'].plot(figsize=(16,8));\r\n",
    "    return data"
   ]
  },
  {
   "cell_type": "code",
   "execution_count": null,
   "metadata": {
    "scrolled": true
   },
   "outputs": [
    {
     "name": "stdout",
     "output_type": "stream",
     "text": [
      "[*********************100%***********************]  1 of 1 completed\n"
     ]
    }
   ],
   "source": [
    "data = get_data(stock_symobl)\r\n",
    "data"
   ]
  },
  {
   "cell_type": "code",
   "execution_count": 7,
   "metadata": {},
   "outputs": [],
   "source": [
    "import schedule\r\n",
    "import time\r\n",
    "\r\n",
    "def job():\r\n",
    "    data = get_data(stock_symobl)\r\n",
    "    # data['Close'].plot(figsize=(16,8));\r\n",
    "\r\n",
    "# schedule.every(1).seconds.do(job)\r\n",
    "schedule.every(1).seconds.do(job)\r\n",
    "# schedule.every().hour.do(job)\r\n",
    "# schedule.every().day.at(\"10:30\").do(job)\r\n",
    "# schedule.every(5).to(10).minutes.do(job)\r\n",
    "# schedule.every().monday.do(job)\r\n",
    "# schedule.every().wednesday.at(\"13:15\").do(job)\r\n",
    "# schedule.every().minute.at(\":17\").do(job)\r\n",
    "\r\n",
    "while True:\r\n",
    "    schedule.run_pending()\r\n",
    "    time.sleep(1)"
   ]
  },
  {
   "cell_type": "code",
   "execution_count": null,
   "metadata": {},
   "outputs": [],
   "source": []
  }
 ],
 "metadata": {
  "kernelspec": {
   "display_name": "Python 3.7.6 64-bit ('rev_env': venv)",
   "name": "python376jvsc74a57bd06b62ff5e049cb4720063cc682ee157cf0ca3ffbe58af01e7973c62c7c1571b3f"
  },
  "language_info": {
   "codemirror_mode": {
    "name": "ipython",
    "version": 3
   },
   "file_extension": ".py",
   "mimetype": "text/x-python",
   "name": "python",
   "nbconvert_exporter": "python",
   "pygments_lexer": "ipython3",
   "version": "3.7.6"
  }
 },
 "nbformat": 4,
 "nbformat_minor": 5
}