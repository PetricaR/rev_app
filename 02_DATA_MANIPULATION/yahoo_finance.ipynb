{
 "cells": [
  {
   "cell_type": "code",
   "execution_count": 53,
   "metadata": {},
   "outputs": [],
   "source": [
    "# import yfinance as yf\r\n",
    "# import pandas as pd\r\n",
    "# import pandas_datareader as pdr\r\n",
    "# import datetime as dt\r\n",
    "# import matplotlib.pyplot as plt\r\n",
    "# from alpha_vantage.techindicators import TechIndicators\r\n",
    "# import matplotlib.pyplot as plt"
   ]
  },
  {
   "cell_type": "code",
   "execution_count": 54,
   "metadata": {},
   "outputs": [],
   "source": [
    "stock_symobl = \"AMC\""
   ]
  },
  {
   "cell_type": "code",
   "execution_count": 55,
   "metadata": {},
   "outputs": [],
   "source": [
    "# stock = yf.Ticker(stock_symobl)"
   ]
  },
  {
   "cell_type": "code",
   "execution_count": 56,
   "metadata": {
    "scrolled": true
   },
   "outputs": [],
   "source": [
    "# get historical market data\r\n",
    "# hist = stock.history(period=\"1y\")"
   ]
  },
  {
   "cell_type": "code",
   "execution_count": 57,
   "metadata": {},
   "outputs": [
    {
     "data": {
      "text/html": "<div>\n<style scoped>\n    .dataframe tbody tr th:only-of-type {\n        vertical-align: middle;\n    }\n\n    .dataframe tbody tr th {\n        vertical-align: top;\n    }\n\n    .dataframe thead th {\n        text-align: right;\n    }\n</style>\n<table border=\"1\" class=\"dataframe\">\n  <thead>\n    <tr style=\"text-align: right;\">\n      <th></th>\n      <th>Open</th>\n      <th>High</th>\n      <th>Low</th>\n      <th>Close</th>\n      <th>Volume</th>\n      <th>Dividends</th>\n      <th>Stock Splits</th>\n    </tr>\n    <tr>\n      <th>Date</th>\n      <th></th>\n      <th></th>\n      <th></th>\n      <th></th>\n      <th></th>\n      <th></th>\n      <th></th>\n    </tr>\n  </thead>\n  <tbody>\n    <tr>\n      <th>2020-05-29</th>\n      <td>5.000000</td>\n      <td>5.380000</td>\n      <td>4.830000</td>\n      <td>5.130000</td>\n      <td>5153000</td>\n      <td>0</td>\n      <td>0</td>\n    </tr>\n    <tr>\n      <th>2020-06-01</th>\n      <td>5.030000</td>\n      <td>5.370000</td>\n      <td>5.020000</td>\n      <td>5.310000</td>\n      <td>3913100</td>\n      <td>0</td>\n      <td>0</td>\n    </tr>\n    <tr>\n      <th>2020-06-02</th>\n      <td>5.350000</td>\n      <td>5.650000</td>\n      <td>5.330000</td>\n      <td>5.590000</td>\n      <td>6877800</td>\n      <td>0</td>\n      <td>0</td>\n    </tr>\n    <tr>\n      <th>2020-06-03</th>\n      <td>5.270000</td>\n      <td>5.990000</td>\n      <td>5.090000</td>\n      <td>5.450000</td>\n      <td>15353700</td>\n      <td>0</td>\n      <td>0</td>\n    </tr>\n    <tr>\n      <th>2020-06-04</th>\n      <td>5.170000</td>\n      <td>5.400000</td>\n      <td>5.000000</td>\n      <td>5.380000</td>\n      <td>8572600</td>\n      <td>0</td>\n      <td>0</td>\n    </tr>\n    <tr>\n      <th>...</th>\n      <td>...</td>\n      <td>...</td>\n      <td>...</td>\n      <td>...</td>\n      <td>...</td>\n      <td>...</td>\n      <td>...</td>\n    </tr>\n    <tr>\n      <th>2021-05-24</th>\n      <td>12.380000</td>\n      <td>13.960000</td>\n      <td>12.170000</td>\n      <td>13.680000</td>\n      <td>113319200</td>\n      <td>0</td>\n      <td>0</td>\n    </tr>\n    <tr>\n      <th>2021-05-25</th>\n      <td>13.610000</td>\n      <td>16.670000</td>\n      <td>13.550000</td>\n      <td>16.410000</td>\n      <td>213644100</td>\n      <td>0</td>\n      <td>0</td>\n    </tr>\n    <tr>\n      <th>2021-05-26</th>\n      <td>17.760000</td>\n      <td>19.950001</td>\n      <td>17.260000</td>\n      <td>19.559999</td>\n      <td>379064100</td>\n      <td>0</td>\n      <td>0</td>\n    </tr>\n    <tr>\n      <th>2021-05-27</th>\n      <td>18.610001</td>\n      <td>29.760000</td>\n      <td>18.309999</td>\n      <td>26.520000</td>\n      <td>705545700</td>\n      <td>0</td>\n      <td>0</td>\n    </tr>\n    <tr>\n      <th>2021-05-28</th>\n      <td>31.809999</td>\n      <td>36.720001</td>\n      <td>24.170000</td>\n      <td>26.120001</td>\n      <td>659070200</td>\n      <td>0</td>\n      <td>0</td>\n    </tr>\n  </tbody>\n</table>\n<p>253 rows × 7 columns</p>\n</div>",
      "text/plain": "                 Open       High        Low      Close     Volume  Dividends  \\\nDate                                                                           \n2020-05-29   5.000000   5.380000   4.830000   5.130000    5153000          0   \n2020-06-01   5.030000   5.370000   5.020000   5.310000    3913100          0   \n2020-06-02   5.350000   5.650000   5.330000   5.590000    6877800          0   \n2020-06-03   5.270000   5.990000   5.090000   5.450000   15353700          0   \n2020-06-04   5.170000   5.400000   5.000000   5.380000    8572600          0   \n...               ...        ...        ...        ...        ...        ...   \n2021-05-24  12.380000  13.960000  12.170000  13.680000  113319200          0   \n2021-05-25  13.610000  16.670000  13.550000  16.410000  213644100          0   \n2021-05-26  17.760000  19.950001  17.260000  19.559999  379064100          0   \n2021-05-27  18.610001  29.760000  18.309999  26.520000  705545700          0   \n2021-05-28  31.809999  36.720001  24.170000  26.120001  659070200          0   \n\n            Stock Splits  \nDate                      \n2020-05-29             0  \n2020-06-01             0  \n2020-06-02             0  \n2020-06-03             0  \n2020-06-04             0  \n...                  ...  \n2021-05-24             0  \n2021-05-25             0  \n2021-05-26             0  \n2021-05-27             0  \n2021-05-28             0  \n\n[253 rows x 7 columns]"
     },
     "execution_count": 57,
     "metadata": {},
     "output_type": "execute_result"
    }
   ],
   "source": [
    "# hist"
   ]
  },
  {
   "cell_type": "code",
   "execution_count": 20,
   "metadata": {},
   "outputs": [],
   "source": [
    "import pandas_ta as ta\r\n"
   ]
  },
  {
   "cell_type": "code",
   "execution_count": 21,
   "metadata": {},
   "outputs": [
    {
     "data": {
      "text/html": "<div>\n<style scoped>\n    .dataframe tbody tr th:only-of-type {\n        vertical-align: middle;\n    }\n\n    .dataframe tbody tr th {\n        vertical-align: top;\n    }\n\n    .dataframe thead th {\n        text-align: right;\n    }\n</style>\n<table border=\"1\" class=\"dataframe\">\n  <thead>\n    <tr style=\"text-align: right;\">\n      <th></th>\n      <th>open</th>\n      <th>high</th>\n      <th>low</th>\n      <th>close</th>\n      <th>volume</th>\n      <th>Dividends</th>\n      <th>Stock Splits</th>\n      <th>CUMPCTRET_1</th>\n    </tr>\n    <tr>\n      <th>date</th>\n      <th></th>\n      <th></th>\n      <th></th>\n      <th></th>\n      <th></th>\n      <th></th>\n      <th></th>\n      <th></th>\n    </tr>\n  </thead>\n  <tbody>\n    <tr>\n      <th>2020-05-29</th>\n      <td>5.000000</td>\n      <td>5.380000</td>\n      <td>4.830000</td>\n      <td>5.130000</td>\n      <td>5153000</td>\n      <td>0</td>\n      <td>0</td>\n      <td>NaN</td>\n    </tr>\n    <tr>\n      <th>2020-06-01</th>\n      <td>5.030000</td>\n      <td>5.370000</td>\n      <td>5.020000</td>\n      <td>5.310000</td>\n      <td>3913100</td>\n      <td>0</td>\n      <td>0</td>\n      <td>0.035088</td>\n    </tr>\n    <tr>\n      <th>2020-06-02</th>\n      <td>5.350000</td>\n      <td>5.650000</td>\n      <td>5.330000</td>\n      <td>5.590000</td>\n      <td>6877800</td>\n      <td>0</td>\n      <td>0</td>\n      <td>0.087818</td>\n    </tr>\n    <tr>\n      <th>2020-06-03</th>\n      <td>5.270000</td>\n      <td>5.990000</td>\n      <td>5.090000</td>\n      <td>5.450000</td>\n      <td>15353700</td>\n      <td>0</td>\n      <td>0</td>\n      <td>0.062774</td>\n    </tr>\n    <tr>\n      <th>2020-06-04</th>\n      <td>5.170000</td>\n      <td>5.400000</td>\n      <td>5.000000</td>\n      <td>5.380000</td>\n      <td>8572600</td>\n      <td>0</td>\n      <td>0</td>\n      <td>0.049930</td>\n    </tr>\n    <tr>\n      <th>...</th>\n      <td>...</td>\n      <td>...</td>\n      <td>...</td>\n      <td>...</td>\n      <td>...</td>\n      <td>...</td>\n      <td>...</td>\n      <td>...</td>\n    </tr>\n    <tr>\n      <th>2021-05-24</th>\n      <td>12.380000</td>\n      <td>13.960000</td>\n      <td>12.170000</td>\n      <td>13.680000</td>\n      <td>113319200</td>\n      <td>0</td>\n      <td>0</td>\n      <td>3.932221</td>\n    </tr>\n    <tr>\n      <th>2021-05-25</th>\n      <td>13.610000</td>\n      <td>16.670000</td>\n      <td>13.550000</td>\n      <td>16.410000</td>\n      <td>213644100</td>\n      <td>0</td>\n      <td>0</td>\n      <td>4.131782</td>\n    </tr>\n    <tr>\n      <th>2021-05-26</th>\n      <td>17.760000</td>\n      <td>19.950001</td>\n      <td>17.260000</td>\n      <td>19.559999</td>\n      <td>379064100</td>\n      <td>0</td>\n      <td>0</td>\n      <td>4.323738</td>\n    </tr>\n    <tr>\n      <th>2021-05-27</th>\n      <td>18.610001</td>\n      <td>29.760000</td>\n      <td>18.309999</td>\n      <td>26.520000</td>\n      <td>705545700</td>\n      <td>0</td>\n      <td>0</td>\n      <td>4.679566</td>\n    </tr>\n    <tr>\n      <th>2021-05-28</th>\n      <td>31.809999</td>\n      <td>36.720001</td>\n      <td>24.170000</td>\n      <td>26.120001</td>\n      <td>659070200</td>\n      <td>0</td>\n      <td>0</td>\n      <td>4.664483</td>\n    </tr>\n  </tbody>\n</table>\n<p>253 rows × 8 columns</p>\n</div>",
      "text/plain": "                 open       high        low      close     volume  Dividends  \\\ndate                                                                           \n2020-05-29   5.000000   5.380000   4.830000   5.130000    5153000          0   \n2020-06-01   5.030000   5.370000   5.020000   5.310000    3913100          0   \n2020-06-02   5.350000   5.650000   5.330000   5.590000    6877800          0   \n2020-06-03   5.270000   5.990000   5.090000   5.450000   15353700          0   \n2020-06-04   5.170000   5.400000   5.000000   5.380000    8572600          0   \n...               ...        ...        ...        ...        ...        ...   \n2021-05-24  12.380000  13.960000  12.170000  13.680000  113319200          0   \n2021-05-25  13.610000  16.670000  13.550000  16.410000  213644100          0   \n2021-05-26  17.760000  19.950001  17.260000  19.559999  379064100          0   \n2021-05-27  18.610001  29.760000  18.309999  26.520000  705545700          0   \n2021-05-28  31.809999  36.720001  24.170000  26.120001  659070200          0   \n\n            Stock Splits  CUMPCTRET_1  \ndate                                   \n2020-05-29             0          NaN  \n2020-06-01             0     0.035088  \n2020-06-02             0     0.087818  \n2020-06-03             0     0.062774  \n2020-06-04             0     0.049930  \n...                  ...          ...  \n2021-05-24             0     3.932221  \n2021-05-25             0     4.131782  \n2021-05-26             0     4.323738  \n2021-05-27             0     4.679566  \n2021-05-28             0     4.664483  \n\n[253 rows x 8 columns]"
     },
     "execution_count": 21,
     "metadata": {},
     "output_type": "execute_result"
    }
   ],
   "source": [
    "hist.ta.percent_return(cumulative=True, append=True)\r\n",
    "hist"
   ]
  },
  {
   "cell_type": "code",
   "execution_count": 33,
   "metadata": {},
   "outputs": [
    {
     "data": {
      "text/plain": "date\n2020-05-29          NaN\n2020-06-01          NaN\n2020-06-02          NaN\n2020-06-03          NaN\n2020-06-04          NaN\n                ...    \n2021-05-24    64.251159\n2021-05-25    73.099894\n2021-05-26    79.427493\n2021-05-27    86.810103\n2021-05-28    84.923904\nName: RSI_14, Length: 253, dtype: float64"
     },
     "execution_count": 33,
     "metadata": {},
     "output_type": "execute_result"
    }
   ],
   "source": [
    "# List of all indicators\r\n",
    "hist.ta.rsi(close='Close', windows=10)"
   ]
  },
  {
   "cell_type": "code",
   "execution_count": 34,
   "metadata": {},
   "outputs": [],
   "source": [
    "MyStrategy = ta.Strategy(\r\n",
    "    name=\"DCSMA10\",\r\n",
    "    ta=[\r\n",
    "        {\"kind\": \"ohlc4\"},\r\n",
    "        {\"kind\": \"sma\", \"length\": 10},\r\n",
    "        {\"kind\": \"donchian\", \"lower_length\": 10, \"upper_length\": 15},\r\n",
    "        {\"kind\": \"ema\", \"close\": \"OHLC4\", \"length\": 10, \"suffix\": \"OHLC4\"},\r\n",
    "    ]\r\n",
    ")\r\n",
    "\r\n",
    "# (2) Run the Strategy\r\n",
    "hist.ta.strategy(MyStrategy)"
   ]
  },
  {
   "cell_type": "code",
   "execution_count": 35,
   "metadata": {},
   "outputs": [
    {
     "data": {
      "text/plain": "Strategy(name='DCSMA10', ta=[{'kind': 'ohlc4', 'append': True}, {'kind': 'sma', 'length': 10, 'append': True}, {'kind': 'donchian', 'lower_length': 10, 'upper_length': 15, 'append': True}, {'kind': 'ema', 'close': 'OHLC4', 'length': 10, 'suffix': 'OHLC4', 'append': True}], description='TA Description', created='05/30/2021, 13:19:28')"
     },
     "execution_count": 35,
     "metadata": {},
     "output_type": "execute_result"
    }
   ],
   "source": [
    "MyStrategy"
   ]
  },
  {
   "cell_type": "code",
   "execution_count": 23,
   "metadata": {},
   "outputs": [
    {
     "name": "stdout",
     "output_type": "stream",
     "text": [
      "Pandas TA - Technical Analysis Indicators - v0.2.45b0\n",
      "Total Indicators: 133\n",
      "Abbreviations:\n",
      "    aberration, above, above_value, accbands, ad, adosc, adx, alma, amat, ao, aobv, apo, aroon, atr, bbands, below, below_value, bias, bop, brar, cci, cdl_doji, cdl_inside, cfo, cg, chop, cksp, cmf, cmo, coppock, cross, cross_value, decay, decreasing, dema, donchian, dpo, ebsw, efi, ema, entropy, eom, er, eri, fisher, fwma, ha, hilo, hl2, hlc3, hma, hwc, hwma, ichimoku, increasing, inertia, kama, kc, kdj, kst, kurtosis, linreg, log_return, long_run, macd, mad, massi, mcgd, median, mfi, midpoint, midprice, mom, natr, nvi, obv, ohlc4, pdist, percent_return, pgo, ppo, psar, psl, pvi, pvo, pvol, pvr, pvt, pwma, qqe, qstick, quantile, rma, roc, rsi, rsx, rvgi, rvi, short_run, sinwma, skew, slope, sma, smi, squeeze, ssf, stdev, stoch, stochrsi, supertrend, swma, t3, tema, thermo, trend_return, trima, trix, true_range, tsi, ttm_trend, ui, uo, variance, vidya, vortex, vp, vwap, vwma, wcp, willr, wma, zlma, zscore\n"
     ]
    }
   ],
   "source": [
    "hist.ta.indicators()"
   ]
  },
  {
   "cell_type": "code",
   "execution_count": 40,
   "metadata": {},
   "outputs": [
    {
     "data": {
      "text/plain": "date\n2020-05-29     5.130000\n2020-06-01     5.310000\n2020-06-02     5.590000\n2020-06-03     5.450000\n2020-06-04     5.380000\n                ...    \n2021-05-24    13.680000\n2021-05-25    16.410000\n2021-05-26    19.559999\n2021-05-27    26.520000\n2021-05-28    26.120001\nName: close, Length: 253, dtype: float64"
     },
     "execution_count": 40,
     "metadata": {},
     "output_type": "execute_result"
    }
   ],
   "source": [
    "hist['close']"
   ]
  },
  {
   "cell_type": "code",
   "execution_count": 46,
   "metadata": {},
   "outputs": [],
   "source": [
    "from pandas_ta.utils import get_offset, verify_series\r\n",
    "from pandas_ta import Imports"
   ]
  },
  {
   "cell_type": "code",
   "execution_count": 51,
   "metadata": {},
   "outputs": [],
   "source": [
    "import pandas_ta.candles"
   ]
  },
  {
   "cell_type": "code",
   "execution_count": 52,
   "metadata": {},
   "outputs": [
    {
     "ename": "AttributeError",
     "evalue": "'AnalysisIndicators' object has no attribute 'cdl_pattern'",
     "output_type": "error",
     "traceback": [
      "\u001b[1;31m---------------------------------------------------------------------------\u001b[0m",
      "\u001b[1;31mAttributeError\u001b[0m                            Traceback (most recent call last)",
      "\u001b[1;32m<ipython-input-52-d636d43a2d07>\u001b[0m in \u001b[0;36m<module>\u001b[1;34m\u001b[0m\n\u001b[1;32m----> 1\u001b[1;33m \u001b[0mdf\u001b[0m \u001b[1;33m=\u001b[0m \u001b[0mhist\u001b[0m\u001b[1;33m.\u001b[0m\u001b[0mta\u001b[0m\u001b[1;33m.\u001b[0m\u001b[0mcdl_pattern\u001b[0m\u001b[1;33m(\u001b[0m\u001b[0mname\u001b[0m\u001b[1;33m=\u001b[0m\u001b[1;33m[\u001b[0m\u001b[1;34m\"doji\"\u001b[0m\u001b[1;33m,\u001b[0m \u001b[1;34m\"inside\"\u001b[0m\u001b[1;33m]\u001b[0m\u001b[1;33m)\u001b[0m\u001b[1;33m\u001b[0m\u001b[1;33m\u001b[0m\u001b[0m\n\u001b[0m",
      "\u001b[1;31mAttributeError\u001b[0m: 'AnalysisIndicators' object has no attribute 'cdl_pattern'"
     ]
    }
   ],
   "source": [
    "df = hist.ta.cdl_pattern(name=[\"doji\", \"inside\"])"
   ]
  },
  {
   "cell_type": "code",
   "execution_count": 44,
   "metadata": {},
   "outputs": [
    {
     "name": "stdout",
     "output_type": "stream",
     "text": [
      "Pandas TA - Technical Analysis Indicators - v0.2.45b0\n",
      "Total Indicators: 133\n",
      "Abbreviations:\n",
      "    aberration, above, above_value, accbands, ad, adosc, adx, alma, amat, ao, aobv, apo, aroon, atr, bbands, below, below_value, bias, bop, brar, cci, cdl_doji, cdl_inside, cfo, cg, chop, cksp, cmf, cmo, coppock, cross, cross_value, decay, decreasing, dema, donchian, dpo, ebsw, efi, ema, entropy, eom, er, eri, fisher, fwma, ha, hilo, hl2, hlc3, hma, hwc, hwma, ichimoku, increasing, inertia, kama, kc, kdj, kst, kurtosis, linreg, log_return, long_run, macd, mad, massi, mcgd, median, mfi, midpoint, midprice, mom, natr, nvi, obv, ohlc4, pdist, percent_return, pgo, ppo, psar, psl, pvi, pvo, pvol, pvr, pvt, pwma, qqe, qstick, quantile, rma, roc, rsi, rsx, rvgi, rvi, short_run, sinwma, skew, slope, sma, smi, squeeze, ssf, stdev, stoch, stochrsi, supertrend, swma, t3, tema, thermo, trend_return, trima, trix, true_range, tsi, ttm_trend, ui, uo, variance, vidya, vortex, vp, vwap, vwma, wcp, willr, wma, zlma, zscore\n"
     ]
    }
   ],
   "source": [
    "# Get all candle patterns (This is the default behaviour)\r\n",
    "hist.ta.indicators()"
   ]
  },
  {
   "cell_type": "code",
   "execution_count": 25,
   "metadata": {},
   "outputs": [
    {
     "data": {
      "text/html": "<div>\n<style scoped>\n    .dataframe tbody tr th:only-of-type {\n        vertical-align: middle;\n    }\n\n    .dataframe tbody tr th {\n        vertical-align: top;\n    }\n\n    .dataframe thead th {\n        text-align: right;\n    }\n</style>\n<table border=\"1\" class=\"dataframe\">\n  <thead>\n    <tr style=\"text-align: right;\">\n      <th></th>\n      <th>MACD_12_26_9</th>\n      <th>MACDh_12_26_9</th>\n      <th>MACDs_12_26_9</th>\n    </tr>\n    <tr>\n      <th>date</th>\n      <th></th>\n      <th></th>\n      <th></th>\n    </tr>\n  </thead>\n  <tbody>\n    <tr>\n      <th>2020-05-29</th>\n      <td>NaN</td>\n      <td>NaN</td>\n      <td>NaN</td>\n    </tr>\n    <tr>\n      <th>2020-06-01</th>\n      <td>NaN</td>\n      <td>NaN</td>\n      <td>NaN</td>\n    </tr>\n    <tr>\n      <th>2020-06-02</th>\n      <td>NaN</td>\n      <td>NaN</td>\n      <td>NaN</td>\n    </tr>\n    <tr>\n      <th>2020-06-03</th>\n      <td>NaN</td>\n      <td>NaN</td>\n      <td>NaN</td>\n    </tr>\n    <tr>\n      <th>2020-06-04</th>\n      <td>NaN</td>\n      <td>NaN</td>\n      <td>NaN</td>\n    </tr>\n    <tr>\n      <th>...</th>\n      <td>...</td>\n      <td>...</td>\n      <td>...</td>\n    </tr>\n    <tr>\n      <th>2021-05-24</th>\n      <td>0.855951</td>\n      <td>0.238892</td>\n      <td>0.617060</td>\n    </tr>\n    <tr>\n      <th>2021-05-25</th>\n      <td>1.127424</td>\n      <td>0.408291</td>\n      <td>0.719132</td>\n    </tr>\n    <tr>\n      <th>2021-05-26</th>\n      <td>1.578549</td>\n      <td>0.687533</td>\n      <td>0.891016</td>\n    </tr>\n    <tr>\n      <th>2021-05-27</th>\n      <td>2.469220</td>\n      <td>1.262563</td>\n      <td>1.206657</td>\n    </tr>\n    <tr>\n      <th>2021-05-28</th>\n      <td>3.106991</td>\n      <td>1.520267</td>\n      <td>1.586724</td>\n    </tr>\n  </tbody>\n</table>\n<p>253 rows × 3 columns</p>\n</div>",
      "text/plain": "            MACD_12_26_9  MACDh_12_26_9  MACDs_12_26_9\ndate                                                  \n2020-05-29           NaN            NaN            NaN\n2020-06-01           NaN            NaN            NaN\n2020-06-02           NaN            NaN            NaN\n2020-06-03           NaN            NaN            NaN\n2020-06-04           NaN            NaN            NaN\n...                  ...            ...            ...\n2021-05-24      0.855951       0.238892       0.617060\n2021-05-25      1.127424       0.408291       0.719132\n2021-05-26      1.578549       0.687533       0.891016\n2021-05-27      2.469220       1.262563       1.206657\n2021-05-28      3.106991       1.520267       1.586724\n\n[253 rows x 3 columns]"
     },
     "execution_count": 25,
     "metadata": {},
     "output_type": "execute_result"
    }
   ],
   "source": [
    "hist.ta.macd()"
   ]
  },
  {
   "cell_type": "code",
   "execution_count": 44,
   "metadata": {},
   "outputs": [],
   "source": [
    "# delta = hist['Close'].diff()\r\n",
    "# up = delta.clip(lower=0)\r\n",
    "# down = -1*delta.clip(upper=0)\r\n",
    "# ema_up = up.ewm(com=13, adjust=False).mean()\r\n",
    "# ema_down = down.ewm(com=13, adjust=False).mean()\r\n",
    "# rs = ema_up/ema_down\r\n",
    "# hist['RSI'] = 100 - (100/(1 + rs))"
   ]
  },
  {
   "cell_type": "code",
   "execution_count": 45,
   "metadata": {},
   "outputs": [],
   "source": [
    "# # Skip first 14 days to have real values\r\n",
    "\r\n",
    "# hist = hist.iloc[14:]\r\n",
    "\r\n",
    "# print(hist)\r\n",
    "# fig, (ax1, ax2) = plt.subplots(2)\r\n",
    "# ax1.get_xaxis().set_visible(False)\r\n",
    "# fig.suptitle(f'{stock_symobl}')\r\n",
    "\r\n",
    "# hist['Close'].plot(ax=ax1)\r\n",
    "# ax1.set_ylabel('Price ($)')\r\n",
    "# hist['RSI'].plot(ax=ax2)\r\n",
    "# ax2.set_ylim(0,100)\r\n",
    "# ax2.axhline(30, color='r', linestyle='--')\r\n",
    "# ax2.axhline(70, color='r', linestyle='--')\r\n",
    "# ax2.set_ylabel('RSI')\r\n",
    "\r\n",
    "# plt.show()"
   ]
  },
  {
   "cell_type": "code",
   "execution_count": 46,
   "metadata": {},
   "outputs": [],
   "source": [
    "# ti = TechIndicators(key='9R2V38OOYMP02MHZ', output_format='pandas')"
   ]
  },
  {
   "cell_type": "code",
   "execution_count": 47,
   "metadata": {},
   "outputs": [],
   "source": [
    "# data, meta_data = ti.get_rsi(symbol=stock_symobl,\r\n",
    "#                              interval='daily',\r\n",
    "#                              time_period=14,\r\n",
    "#                              series_type='close')\r\n",
    "# data.plot()\r\n",
    "# plt.title(f'RSI indicator for {stock_symobl} stock')\r\n",
    "# plt.show()"
   ]
  },
  {
   "cell_type": "code",
   "execution_count": 5,
   "metadata": {},
   "outputs": [],
   "source": [
    "def get_data(tickers):\r\n",
    "    \r\n",
    "    data = yf.download(tickers,  # or pdr.get_data_yahoo(...\r\n",
    "            # tickers list or string as well\r\n",
    "            # tickers = \"PATH\",\r\n",
    "\r\n",
    "            # use \"period\" instead of start/end\r\n",
    "            # valid periods: 1d,5d,1mo,3mo,6mo,1y,2y,5y,10y,ytd,max\r\n",
    "            # (optional, default is '1mo')\r\n",
    "            period = \"1d\",\r\n",
    "\r\n",
    "            # fetch data by interval (including intraday if period < 60 days)\r\n",
    "            # valid intervals: 1m,2m,5m,15m,30m,60m,90m,1h,1d,5d,1wk,1mo,3mo\r\n",
    "            # (optional, default is '1d')\r\n",
    "            interval = \"1m\",\r\n",
    "\r\n",
    "            # group by ticker (to access via data['SPY'])\r\n",
    "            # (optional, default is 'column')\r\n",
    "            group_by = 'ticker',\r\n",
    "\r\n",
    "            # adjust all OHLC automatically\r\n",
    "            # (optional, default is False)\r\n",
    "            auto_adjust = True,\r\n",
    "\r\n",
    "            # download pre/post regular market hours data\r\n",
    "            # (optional, default is False)\r\n",
    "            prepost = True,\r\n",
    "\r\n",
    "            # use threads for mass downloading? (True/False/Integer)\r\n",
    "            # (optional, default is True)\r\n",
    "            threads = True,\r\n",
    "\r\n",
    "            # proxy URL scheme use use when downloading?\r\n",
    "            # (optional, default is None)\r\n",
    "            proxy = None\r\n",
    "        )\r\n",
    "    # data['Close'].plot(figsize=(16,8));\r\n",
    "    return data"
   ]
  },
  {
   "cell_type": "code",
   "execution_count": null,
   "metadata": {
    "scrolled": true
   },
   "outputs": [
    {
     "name": "stdout",
     "output_type": "stream",
     "text": [
      "[*********************100%***********************]  1 of 1 completed\n"
     ]
    }
   ],
   "source": [
    "data = get_data(stock_symobl)\r\n",
    "data"
   ]
  },
  {
   "cell_type": "code",
   "execution_count": 7,
   "metadata": {},
   "outputs": [],
   "source": [
    "import schedule\r\n",
    "import time\r\n",
    "\r\n",
    "def job():\r\n",
    "    data = get_data(stock_symobl)\r\n",
    "    # data['Close'].plot(figsize=(16,8));\r\n",
    "\r\n",
    "# schedule.every(1).seconds.do(job)\r\n",
    "schedule.every(1).seconds.do(job)\r\n",
    "# schedule.every().hour.do(job)\r\n",
    "# schedule.every().day.at(\"10:30\").do(job)\r\n",
    "# schedule.every(5).to(10).minutes.do(job)\r\n",
    "# schedule.every().monday.do(job)\r\n",
    "# schedule.every().wednesday.at(\"13:15\").do(job)\r\n",
    "# schedule.every().minute.at(\":17\").do(job)\r\n",
    "\r\n",
    "while True:\r\n",
    "    schedule.run_pending()\r\n",
    "    time.sleep(1)"
   ]
  },
  {
   "cell_type": "code",
   "execution_count": null,
   "metadata": {},
   "outputs": [],
   "source": []
  }
 ],
 "metadata": {
  "kernelspec": {
   "display_name": "Python 3.8.5 64-bit ('base': conda)",
   "name": "python385jvsc74a57bd0ecf5722fdaf1897a315d257d89d94520bfcaa453217d5becf09b39e73618b0de"
  },
  "language_info": {
   "name": "python",
   "version": ""
  }
 },
 "nbformat": 4,
 "nbformat_minor": 5
}