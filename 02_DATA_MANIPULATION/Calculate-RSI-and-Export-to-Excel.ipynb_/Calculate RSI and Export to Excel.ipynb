{
 "cells": [
  {
   "cell_type": "markdown",
   "metadata": {},
   "source": [
    "#### The relative strength index (RSI)\n",
    "\n",
    "A momentum indicator used in technical analysis \n",
    "that measures the magnitude of recent price changes \n",
    "to evaluate overbought or oversold conditions in \n",
    "the price of a stock or other asset. "
   ]
  },
  {
   "cell_type": "code",
   "execution_count": 1,
   "metadata": {},
   "outputs": [],
   "source": [
    "import pandas_datareader as pdr\n",
    "import datetime as dt"
   ]
  },
  {
   "cell_type": "code",
   "execution_count": 4,
   "metadata": {
    "scrolled": true
   },
   "outputs": [
    {
     "data": {
      "text/html": "<div>\n<style scoped>\n    .dataframe tbody tr th:only-of-type {\n        vertical-align: middle;\n    }\n\n    .dataframe tbody tr th {\n        vertical-align: top;\n    }\n\n    .dataframe thead th {\n        text-align: right;\n    }\n</style>\n<table border=\"1\" class=\"dataframe\">\n  <thead>\n    <tr style=\"text-align: right;\">\n      <th></th>\n      <th>High</th>\n      <th>Low</th>\n      <th>Open</th>\n      <th>Close</th>\n      <th>Volume</th>\n      <th>Adj Close</th>\n    </tr>\n  </thead>\n  <tbody>\n    <tr>\n      <th>2021-05-21</th>\n      <td>12.840000</td>\n      <td>12.050000</td>\n      <td>12.610000</td>\n      <td>12.080000</td>\n      <td>53071700</td>\n      <td>12.080000</td>\n    </tr>\n    <tr>\n      <th>2021-05-24</th>\n      <td>13.960000</td>\n      <td>12.170000</td>\n      <td>12.380000</td>\n      <td>13.680000</td>\n      <td>113319200</td>\n      <td>13.680000</td>\n    </tr>\n    <tr>\n      <th>2021-05-25</th>\n      <td>16.670000</td>\n      <td>13.550000</td>\n      <td>13.610000</td>\n      <td>16.410000</td>\n      <td>213644100</td>\n      <td>16.410000</td>\n    </tr>\n    <tr>\n      <th>2021-05-26</th>\n      <td>19.950001</td>\n      <td>17.260000</td>\n      <td>17.760000</td>\n      <td>19.559999</td>\n      <td>379064100</td>\n      <td>19.559999</td>\n    </tr>\n    <tr>\n      <th>2021-05-27</th>\n      <td>29.760000</td>\n      <td>18.309999</td>\n      <td>18.610001</td>\n      <td>26.520000</td>\n      <td>700486600</td>\n      <td>26.520000</td>\n    </tr>\n  </tbody>\n</table>\n</div>",
      "text/plain": "                 High        Low       Open      Close     Volume  Adj Close\n2021-05-21  12.840000  12.050000  12.610000  12.080000   53071700  12.080000\n2021-05-24  13.960000  12.170000  12.380000  13.680000  113319200  13.680000\n2021-05-25  16.670000  13.550000  13.610000  16.410000  213644100  16.410000\n2021-05-26  19.950001  17.260000  17.760000  19.559999  379064100  19.559999\n2021-05-27  29.760000  18.309999  18.610001  26.520000  700486600  26.520000"
     },
     "execution_count": 4,
     "metadata": {},
     "output_type": "execute_result"
    }
   ],
   "source": [
    "stock = pdr.get_data_yahoo(\"AMC\", dt.datetime(2021,5,21))\r\n",
    "stock.index = stock.index.date\r\n",
    "stock.head()"
   ]
  },
  {
   "cell_type": "markdown",
   "metadata": {},
   "source": [
    "#### Calculation of RSI\n",
    "From wikipedia.org: https://en.wikipedia.org/wiki/Relative_strength_index\n",
    "\n",
    "If previous price is lower than current price, then set the values.\n",
    "\n",
    "**up = close_now – close_previous**\n",
    "\n",
    "**down = 0**\n",
    "\n",
    "While if the previous price is higher than current price, then set the values\n",
    "\n",
    "**up = 0**\n",
    "\n",
    "**down = close_previous – close_now**\n",
    "\n",
    "Calculate the Smoothed or modified moving average (SMMA) or the exponential moving average (EMA) of down and up. To be aligned with the Yahoo! Finance, I have chosen to use the (EMA).\n",
    "\n",
    "Calculate the relative strength (RS)\n",
    "\n",
    "**RS = EMA(up)/EMA(down)**\n",
    "\n",
    "Then we end with the final calculation of the Relative Strength Index (RSI).\n",
    "\n",
    "**RSI = 100 – (100 / (1 – RSI))**"
   ]
  },
  {
   "cell_type": "code",
   "execution_count": 1,
   "metadata": {},
   "outputs": [
    {
     "ename": "NameError",
     "evalue": "name 'stock' is not defined",
     "output_type": "error",
     "traceback": [
      "\u001b[1;31m---------------------------------------------------------------------------\u001b[0m",
      "\u001b[1;31mNameError\u001b[0m                                 Traceback (most recent call last)",
      "\u001b[1;32m<ipython-input-1-4769d9089ad4>\u001b[0m in \u001b[0;36m<module>\u001b[1;34m\u001b[0m\n\u001b[1;32m----> 1\u001b[1;33m \u001b[0mdelta\u001b[0m \u001b[1;33m=\u001b[0m \u001b[0mstock\u001b[0m\u001b[1;33m[\u001b[0m\u001b[1;34m'Close'\u001b[0m\u001b[1;33m]\u001b[0m\u001b[1;33m.\u001b[0m\u001b[0mdiff\u001b[0m\u001b[1;33m(\u001b[0m\u001b[1;33m)\u001b[0m\u001b[1;33m\u001b[0m\u001b[1;33m\u001b[0m\u001b[0m\n\u001b[0m\u001b[0;32m      2\u001b[0m \u001b[0mup\u001b[0m \u001b[1;33m=\u001b[0m \u001b[0mdelta\u001b[0m\u001b[1;33m.\u001b[0m\u001b[0mclip\u001b[0m\u001b[1;33m(\u001b[0m\u001b[0mlower\u001b[0m\u001b[1;33m=\u001b[0m\u001b[1;36m0\u001b[0m\u001b[1;33m)\u001b[0m\u001b[1;33m\u001b[0m\u001b[1;33m\u001b[0m\u001b[0m\n\u001b[0;32m      3\u001b[0m \u001b[0mdown\u001b[0m \u001b[1;33m=\u001b[0m \u001b[1;33m-\u001b[0m\u001b[1;36m1\u001b[0m\u001b[1;33m*\u001b[0m\u001b[0mdelta\u001b[0m\u001b[1;33m.\u001b[0m\u001b[0mclip\u001b[0m\u001b[1;33m(\u001b[0m\u001b[0mupper\u001b[0m\u001b[1;33m=\u001b[0m\u001b[1;36m0\u001b[0m\u001b[1;33m)\u001b[0m\u001b[1;33m\u001b[0m\u001b[1;33m\u001b[0m\u001b[0m\n\u001b[0;32m      4\u001b[0m \u001b[1;33m\u001b[0m\u001b[0m\n\u001b[0;32m      5\u001b[0m \u001b[0mema_up\u001b[0m \u001b[1;33m=\u001b[0m \u001b[0mup\u001b[0m\u001b[1;33m.\u001b[0m\u001b[0mewm\u001b[0m\u001b[1;33m(\u001b[0m\u001b[0mcom\u001b[0m\u001b[1;33m=\u001b[0m\u001b[1;36m13\u001b[0m\u001b[1;33m,\u001b[0m \u001b[0madjust\u001b[0m\u001b[1;33m=\u001b[0m\u001b[1;32mFalse\u001b[0m\u001b[1;33m)\u001b[0m\u001b[1;33m.\u001b[0m\u001b[0mmean\u001b[0m\u001b[1;33m(\u001b[0m\u001b[1;33m)\u001b[0m\u001b[1;33m\u001b[0m\u001b[1;33m\u001b[0m\u001b[0m\n",
      "\u001b[1;31mNameError\u001b[0m: name 'stock' is not defined"
     ]
    }
   ],
   "source": [
    "delta = stock['Close'].diff()\r\n",
    "up = delta.clip(lower=0)\r\n",
    "down = -1*delta.clip(upper=0)\r\n",
    "\r\n",
    "ema_up = up.ewm(com=13, adjust=False).mean()\r\n",
    "ema_down = down.ewm(com=13, adjust=False).mean()\r\n",
    "\r\n",
    "rs = ema_up/ema_down\r\n",
    "stock['RSI'] = 100 - (100/(1 + rs))\r\n",
    "stock.head()"
   ]
  },
  {
   "cell_type": "code",
   "execution_count": null,
   "metadata": {},
   "outputs": [],
   "source": []
  }
 ],
 "metadata": {
  "kernelspec": {
   "display_name": "Python 3.7.6  ('rev_env': venv)",
   "name": "python376jvsc74a57bd05a40414d555554b731e7d2e7eba3e6e8c4338198d108073d811d94d1a06ffbd6"
  },
  "language_info": {
   "codemirror_mode": {
    "name": "ipython",
    "version": 3
   },
   "file_extension": ".py",
   "mimetype": "text/x-python",
   "name": "python",
   "nbconvert_exporter": "python",
   "pygments_lexer": "ipython3",
   "version": "3.7.6"
  }
 },
 "nbformat": 4,
 "nbformat_minor": 4
}