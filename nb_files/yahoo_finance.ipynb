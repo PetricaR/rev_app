{
 "cells": [
  {
   "cell_type": "code",
   "execution_count": 32,
   "id": "imperial-sullivan",
   "metadata": {},
   "outputs": [],
   "source": [
    "import yfinance as yf\n",
    "import pandas as pd\n",
    "import pandas_datareader as pdr\n",
    "import datetime as dt\n",
    "import matplotlib.pyplot as plt\n",
    "from alpha_vantage.techindicators import TechIndicators\n",
    "import matplotlib.pyplot as plt\n",
    "import pandas_ta as ta\n",
    "pd.options.mode.chained_assignment = None  # default='warn'\n",
    "\n",
    "%matplotlib inline"
   ]
  },
  {
   "cell_type": "code",
   "execution_count": 33,
   "id": "relevant-enough",
   "metadata": {},
   "outputs": [],
   "source": [
    "tickers = ['TSLA', 'DISCA', 'AMC', 'PATH']"
   ]
  },
  {
   "cell_type": "code",
   "execution_count": 34,
   "id": "geographic-invite",
   "metadata": {
    "scrolled": true
   },
   "outputs": [
    {
     "name": "stdout",
     "output_type": "stream",
     "text": [
      "[*********************100%***********************]  4 of 4 completed\n"
     ]
    }
   ],
   "source": [
    "data = yf.download(tickers,  # or pdr.get_data_yahoo(...\n",
    "            # tickers list or string as well\n",
    "            # tickers = \"PATH\",\n",
    "\n",
    "            # use \"period\" instead of start/end\n",
    "            # valid periods: 1d,5d,1mo,3mo,6mo,1y,2y,5y,10y,ytd,max\n",
    "            # (optional, default is '1mo')\n",
    "            period = \"6mo\",\n",
    "\n",
    "            # fetch data by interval (including intraday if period < 60 days)\n",
    "            # valid intervals: 1m,2m,5m,15m,30m,60m,90m,1h,1d,5d,1wk,1mo,3mo\n",
    "            # (optional, default is '1d')\n",
    "            interval = \"1d\",\n",
    "\n",
    "            # group by ticker (to access via data['SPY'])\n",
    "            # (optional, default is 'column')\n",
    "            group_by = 'ticker',\n",
    "\n",
    "            # adjust all OHLC automatically\n",
    "            # (optional, default is False)\n",
    "            auto_adjust = True,\n",
    "\n",
    "            # download pre/post regular market hours data\n",
    "            # (optional, default is False)\n",
    "            prepost = True,\n",
    "\n",
    "            # use threads for mass downloading? (True/False/Integer)\n",
    "            # (optional, default is True)\n",
    "            threads = True,\n",
    "\n",
    "            # proxy URL scheme use use when downloading?\n",
    "            # (optional, default is None)\n",
    "            proxy = None\n",
    "        )"
   ]
  },
  {
   "cell_type": "code",
   "execution_count": 35,
   "id": "bridal-membership",
   "metadata": {
    "scrolled": true
   },
   "outputs": [
    {
     "data": {
      "text/html": [
       "<div>\n",
       "<style scoped>\n",
       "    .dataframe tbody tr th:only-of-type {\n",
       "        vertical-align: middle;\n",
       "    }\n",
       "\n",
       "    .dataframe tbody tr th {\n",
       "        vertical-align: top;\n",
       "    }\n",
       "\n",
       "    .dataframe thead tr th {\n",
       "        text-align: left;\n",
       "    }\n",
       "\n",
       "    .dataframe thead tr:last-of-type th {\n",
       "        text-align: right;\n",
       "    }\n",
       "</style>\n",
       "<table border=\"1\" class=\"dataframe\">\n",
       "  <thead>\n",
       "    <tr>\n",
       "      <th></th>\n",
       "      <th colspan=\"5\" halign=\"left\">PATH</th>\n",
       "      <th colspan=\"5\" halign=\"left\">DISCA</th>\n",
       "      <th colspan=\"5\" halign=\"left\">TSLA</th>\n",
       "      <th colspan=\"5\" halign=\"left\">AMC</th>\n",
       "    </tr>\n",
       "    <tr>\n",
       "      <th></th>\n",
       "      <th>Open</th>\n",
       "      <th>High</th>\n",
       "      <th>Low</th>\n",
       "      <th>Close</th>\n",
       "      <th>Volume</th>\n",
       "      <th>Open</th>\n",
       "      <th>High</th>\n",
       "      <th>Low</th>\n",
       "      <th>Close</th>\n",
       "      <th>Volume</th>\n",
       "      <th>Open</th>\n",
       "      <th>High</th>\n",
       "      <th>Low</th>\n",
       "      <th>Close</th>\n",
       "      <th>Volume</th>\n",
       "      <th>Open</th>\n",
       "      <th>High</th>\n",
       "      <th>Low</th>\n",
       "      <th>Close</th>\n",
       "      <th>Volume</th>\n",
       "    </tr>\n",
       "    <tr>\n",
       "      <th>Date</th>\n",
       "      <th></th>\n",
       "      <th></th>\n",
       "      <th></th>\n",
       "      <th></th>\n",
       "      <th></th>\n",
       "      <th></th>\n",
       "      <th></th>\n",
       "      <th></th>\n",
       "      <th></th>\n",
       "      <th></th>\n",
       "      <th></th>\n",
       "      <th></th>\n",
       "      <th></th>\n",
       "      <th></th>\n",
       "      <th></th>\n",
       "      <th></th>\n",
       "      <th></th>\n",
       "      <th></th>\n",
       "      <th></th>\n",
       "      <th></th>\n",
       "    </tr>\n",
       "  </thead>\n",
       "  <tbody>\n",
       "    <tr>\n",
       "      <th>2021-06-14</th>\n",
       "      <td>71.980003</td>\n",
       "      <td>72.029999</td>\n",
       "      <td>68.910004</td>\n",
       "      <td>69.800003</td>\n",
       "      <td>3666500.0</td>\n",
       "      <td>30.959999</td>\n",
       "      <td>31.480000</td>\n",
       "      <td>30.660000</td>\n",
       "      <td>30.820000</td>\n",
       "      <td>5182600</td>\n",
       "      <td>612.229980</td>\n",
       "      <td>625.489990</td>\n",
       "      <td>609.179993</td>\n",
       "      <td>617.690002</td>\n",
       "      <td>20424000</td>\n",
       "      <td>51.830002</td>\n",
       "      <td>60.549999</td>\n",
       "      <td>51.520000</td>\n",
       "      <td>57.000000</td>\n",
       "      <td>301467300</td>\n",
       "    </tr>\n",
       "    <tr>\n",
       "      <th>2021-06-15</th>\n",
       "      <td>69.510002</td>\n",
       "      <td>72.400002</td>\n",
       "      <td>69.370003</td>\n",
       "      <td>70.000000</td>\n",
       "      <td>4126400.0</td>\n",
       "      <td>30.820000</td>\n",
       "      <td>31.530001</td>\n",
       "      <td>30.049999</td>\n",
       "      <td>30.070000</td>\n",
       "      <td>6912600</td>\n",
       "      <td>616.690002</td>\n",
       "      <td>616.789978</td>\n",
       "      <td>598.229980</td>\n",
       "      <td>599.359985</td>\n",
       "      <td>17764100</td>\n",
       "      <td>58.389999</td>\n",
       "      <td>64.709999</td>\n",
       "      <td>56.730000</td>\n",
       "      <td>59.040001</td>\n",
       "      <td>285582100</td>\n",
       "    </tr>\n",
       "    <tr>\n",
       "      <th>2021-06-16</th>\n",
       "      <td>69.000000</td>\n",
       "      <td>70.000000</td>\n",
       "      <td>67.800003</td>\n",
       "      <td>69.769997</td>\n",
       "      <td>4769900.0</td>\n",
       "      <td>30.020000</td>\n",
       "      <td>30.590000</td>\n",
       "      <td>29.540001</td>\n",
       "      <td>30.459999</td>\n",
       "      <td>7134200</td>\n",
       "      <td>597.539978</td>\n",
       "      <td>608.500000</td>\n",
       "      <td>593.500000</td>\n",
       "      <td>604.869995</td>\n",
       "      <td>22144100</td>\n",
       "      <td>56.139999</td>\n",
       "      <td>57.340000</td>\n",
       "      <td>51.860001</td>\n",
       "      <td>55.180000</td>\n",
       "      <td>166450700</td>\n",
       "    </tr>\n",
       "    <tr>\n",
       "      <th>2021-06-17</th>\n",
       "      <td>68.500000</td>\n",
       "      <td>70.919998</td>\n",
       "      <td>68.099998</td>\n",
       "      <td>70.000000</td>\n",
       "      <td>3835000.0</td>\n",
       "      <td>30.320000</td>\n",
       "      <td>30.490000</td>\n",
       "      <td>29.340000</td>\n",
       "      <td>29.410000</td>\n",
       "      <td>7729000</td>\n",
       "      <td>601.890015</td>\n",
       "      <td>621.469971</td>\n",
       "      <td>601.340027</td>\n",
       "      <td>616.599976</td>\n",
       "      <td>22701400</td>\n",
       "      <td>54.000000</td>\n",
       "      <td>63.830002</td>\n",
       "      <td>52.980000</td>\n",
       "      <td>60.730000</td>\n",
       "      <td>303576000</td>\n",
       "    </tr>\n",
       "    <tr>\n",
       "      <th>2021-06-18</th>\n",
       "      <td>69.699997</td>\n",
       "      <td>70.400002</td>\n",
       "      <td>69.080002</td>\n",
       "      <td>69.750000</td>\n",
       "      <td>3173400.0</td>\n",
       "      <td>29.260000</td>\n",
       "      <td>29.500000</td>\n",
       "      <td>28.889999</td>\n",
       "      <td>29.080000</td>\n",
       "      <td>10221300</td>\n",
       "      <td>613.369995</td>\n",
       "      <td>628.349976</td>\n",
       "      <td>611.799988</td>\n",
       "      <td>623.309998</td>\n",
       "      <td>24528400</td>\n",
       "      <td>61.259998</td>\n",
       "      <td>64.959999</td>\n",
       "      <td>56.849998</td>\n",
       "      <td>59.259998</td>\n",
       "      <td>242896900</td>\n",
       "    </tr>\n",
       "  </tbody>\n",
       "</table>\n",
       "</div>"
      ],
      "text/plain": [
       "                 PATH                                                  DISCA  \\\n",
       "                 Open       High        Low      Close     Volume       Open   \n",
       "Date                                                                           \n",
       "2021-06-14  71.980003  72.029999  68.910004  69.800003  3666500.0  30.959999   \n",
       "2021-06-15  69.510002  72.400002  69.370003  70.000000  4126400.0  30.820000   \n",
       "2021-06-16  69.000000  70.000000  67.800003  69.769997  4769900.0  30.020000   \n",
       "2021-06-17  68.500000  70.919998  68.099998  70.000000  3835000.0  30.320000   \n",
       "2021-06-18  69.699997  70.400002  69.080002  69.750000  3173400.0  29.260000   \n",
       "\n",
       "                                                             TSLA              \\\n",
       "                 High        Low      Close    Volume        Open        High   \n",
       "Date                                                                            \n",
       "2021-06-14  31.480000  30.660000  30.820000   5182600  612.229980  625.489990   \n",
       "2021-06-15  31.530001  30.049999  30.070000   6912600  616.690002  616.789978   \n",
       "2021-06-16  30.590000  29.540001  30.459999   7134200  597.539978  608.500000   \n",
       "2021-06-17  30.490000  29.340000  29.410000   7729000  601.890015  621.469971   \n",
       "2021-06-18  29.500000  28.889999  29.080000  10221300  613.369995  628.349976   \n",
       "\n",
       "                                                    AMC                        \\\n",
       "                   Low       Close    Volume       Open       High        Low   \n",
       "Date                                                                            \n",
       "2021-06-14  609.179993  617.690002  20424000  51.830002  60.549999  51.520000   \n",
       "2021-06-15  598.229980  599.359985  17764100  58.389999  64.709999  56.730000   \n",
       "2021-06-16  593.500000  604.869995  22144100  56.139999  57.340000  51.860001   \n",
       "2021-06-17  601.340027  616.599976  22701400  54.000000  63.830002  52.980000   \n",
       "2021-06-18  611.799988  623.309998  24528400  61.259998  64.959999  56.849998   \n",
       "\n",
       "                                  \n",
       "                Close     Volume  \n",
       "Date                              \n",
       "2021-06-14  57.000000  301467300  \n",
       "2021-06-15  59.040001  285582100  \n",
       "2021-06-16  55.180000  166450700  \n",
       "2021-06-17  60.730000  303576000  \n",
       "2021-06-18  59.259998  242896900  "
      ]
     },
     "execution_count": 35,
     "metadata": {},
     "output_type": "execute_result"
    }
   ],
   "source": [
    "df = data.copy()\n",
    "df.tail()"
   ]
  },
  {
   "cell_type": "code",
   "execution_count": 36,
   "id": "above-cover",
   "metadata": {},
   "outputs": [],
   "source": [
    "for stock in tickers:\n",
    "    df[f'RSI_{stock}'] = df[stock].ta.rsi(inplace=True).round(2)\n",
    "    df[f'Close_{stock}'] = df[stock]['Close']"
   ]
  },
  {
   "cell_type": "code",
   "execution_count": 37,
   "id": "happy-savings",
   "metadata": {},
   "outputs": [
    {
     "data": {
      "text/html": [
       "<div>\n",
       "<style scoped>\n",
       "    .dataframe tbody tr th:only-of-type {\n",
       "        vertical-align: middle;\n",
       "    }\n",
       "\n",
       "    .dataframe tbody tr th {\n",
       "        vertical-align: top;\n",
       "    }\n",
       "\n",
       "    .dataframe thead tr th {\n",
       "        text-align: left;\n",
       "    }\n",
       "\n",
       "    .dataframe thead tr:last-of-type th {\n",
       "        text-align: right;\n",
       "    }\n",
       "</style>\n",
       "<table border=\"1\" class=\"dataframe\">\n",
       "  <thead>\n",
       "    <tr>\n",
       "      <th></th>\n",
       "      <th colspan=\"5\" halign=\"left\">PATH</th>\n",
       "      <th colspan=\"5\" halign=\"left\">DISCA</th>\n",
       "      <th>...</th>\n",
       "      <th colspan=\"2\" halign=\"left\">AMC</th>\n",
       "      <th>RSI_TSLA</th>\n",
       "      <th>Close_TSLA</th>\n",
       "      <th>RSI_DISCA</th>\n",
       "      <th>Close_DISCA</th>\n",
       "      <th>RSI_AMC</th>\n",
       "      <th>Close_AMC</th>\n",
       "      <th>RSI_PATH</th>\n",
       "      <th>Close_PATH</th>\n",
       "    </tr>\n",
       "    <tr>\n",
       "      <th></th>\n",
       "      <th>Open</th>\n",
       "      <th>High</th>\n",
       "      <th>Low</th>\n",
       "      <th>Close</th>\n",
       "      <th>Volume</th>\n",
       "      <th>Open</th>\n",
       "      <th>High</th>\n",
       "      <th>Low</th>\n",
       "      <th>Close</th>\n",
       "      <th>Volume</th>\n",
       "      <th>...</th>\n",
       "      <th>Close</th>\n",
       "      <th>Volume</th>\n",
       "      <th></th>\n",
       "      <th></th>\n",
       "      <th></th>\n",
       "      <th></th>\n",
       "      <th></th>\n",
       "      <th></th>\n",
       "      <th></th>\n",
       "      <th></th>\n",
       "    </tr>\n",
       "    <tr>\n",
       "      <th>date</th>\n",
       "      <th></th>\n",
       "      <th></th>\n",
       "      <th></th>\n",
       "      <th></th>\n",
       "      <th></th>\n",
       "      <th></th>\n",
       "      <th></th>\n",
       "      <th></th>\n",
       "      <th></th>\n",
       "      <th></th>\n",
       "      <th></th>\n",
       "      <th></th>\n",
       "      <th></th>\n",
       "      <th></th>\n",
       "      <th></th>\n",
       "      <th></th>\n",
       "      <th></th>\n",
       "      <th></th>\n",
       "      <th></th>\n",
       "      <th></th>\n",
       "      <th></th>\n",
       "    </tr>\n",
       "  </thead>\n",
       "  <tbody>\n",
       "    <tr>\n",
       "      <th>2020-12-21</th>\n",
       "      <td>NaN</td>\n",
       "      <td>NaN</td>\n",
       "      <td>NaN</td>\n",
       "      <td>NaN</td>\n",
       "      <td>NaN</td>\n",
       "      <td>27.36</td>\n",
       "      <td>27.60</td>\n",
       "      <td>26.87</td>\n",
       "      <td>27.37</td>\n",
       "      <td>9440200</td>\n",
       "      <td>...</td>\n",
       "      <td>2.68</td>\n",
       "      <td>22699800</td>\n",
       "      <td>NaN</td>\n",
       "      <td>649.86</td>\n",
       "      <td>NaN</td>\n",
       "      <td>27.37</td>\n",
       "      <td>NaN</td>\n",
       "      <td>2.68</td>\n",
       "      <td>NaN</td>\n",
       "      <td>NaN</td>\n",
       "    </tr>\n",
       "    <tr>\n",
       "      <th>2020-12-22</th>\n",
       "      <td>NaN</td>\n",
       "      <td>NaN</td>\n",
       "      <td>NaN</td>\n",
       "      <td>NaN</td>\n",
       "      <td>NaN</td>\n",
       "      <td>27.56</td>\n",
       "      <td>27.62</td>\n",
       "      <td>26.92</td>\n",
       "      <td>27.21</td>\n",
       "      <td>5403400</td>\n",
       "      <td>...</td>\n",
       "      <td>2.59</td>\n",
       "      <td>21638400</td>\n",
       "      <td>NaN</td>\n",
       "      <td>640.34</td>\n",
       "      <td>NaN</td>\n",
       "      <td>27.21</td>\n",
       "      <td>NaN</td>\n",
       "      <td>2.59</td>\n",
       "      <td>NaN</td>\n",
       "      <td>NaN</td>\n",
       "    </tr>\n",
       "    <tr>\n",
       "      <th>2020-12-23</th>\n",
       "      <td>NaN</td>\n",
       "      <td>NaN</td>\n",
       "      <td>NaN</td>\n",
       "      <td>NaN</td>\n",
       "      <td>NaN</td>\n",
       "      <td>27.40</td>\n",
       "      <td>28.46</td>\n",
       "      <td>27.32</td>\n",
       "      <td>28.26</td>\n",
       "      <td>5542200</td>\n",
       "      <td>...</td>\n",
       "      <td>2.56</td>\n",
       "      <td>15724800</td>\n",
       "      <td>NaN</td>\n",
       "      <td>645.98</td>\n",
       "      <td>NaN</td>\n",
       "      <td>28.26</td>\n",
       "      <td>NaN</td>\n",
       "      <td>2.56</td>\n",
       "      <td>NaN</td>\n",
       "      <td>NaN</td>\n",
       "    </tr>\n",
       "    <tr>\n",
       "      <th>2020-12-24</th>\n",
       "      <td>NaN</td>\n",
       "      <td>NaN</td>\n",
       "      <td>NaN</td>\n",
       "      <td>NaN</td>\n",
       "      <td>NaN</td>\n",
       "      <td>28.29</td>\n",
       "      <td>28.73</td>\n",
       "      <td>27.97</td>\n",
       "      <td>28.57</td>\n",
       "      <td>3471600</td>\n",
       "      <td>...</td>\n",
       "      <td>2.51</td>\n",
       "      <td>11094200</td>\n",
       "      <td>NaN</td>\n",
       "      <td>661.77</td>\n",
       "      <td>NaN</td>\n",
       "      <td>28.57</td>\n",
       "      <td>NaN</td>\n",
       "      <td>2.51</td>\n",
       "      <td>NaN</td>\n",
       "      <td>NaN</td>\n",
       "    </tr>\n",
       "    <tr>\n",
       "      <th>2020-12-28</th>\n",
       "      <td>NaN</td>\n",
       "      <td>NaN</td>\n",
       "      <td>NaN</td>\n",
       "      <td>NaN</td>\n",
       "      <td>NaN</td>\n",
       "      <td>28.71</td>\n",
       "      <td>29.47</td>\n",
       "      <td>28.31</td>\n",
       "      <td>29.45</td>\n",
       "      <td>5020500</td>\n",
       "      <td>...</td>\n",
       "      <td>2.39</td>\n",
       "      <td>23942700</td>\n",
       "      <td>NaN</td>\n",
       "      <td>663.69</td>\n",
       "      <td>NaN</td>\n",
       "      <td>29.45</td>\n",
       "      <td>NaN</td>\n",
       "      <td>2.39</td>\n",
       "      <td>NaN</td>\n",
       "      <td>NaN</td>\n",
       "    </tr>\n",
       "    <tr>\n",
       "      <th>...</th>\n",
       "      <td>...</td>\n",
       "      <td>...</td>\n",
       "      <td>...</td>\n",
       "      <td>...</td>\n",
       "      <td>...</td>\n",
       "      <td>...</td>\n",
       "      <td>...</td>\n",
       "      <td>...</td>\n",
       "      <td>...</td>\n",
       "      <td>...</td>\n",
       "      <td>...</td>\n",
       "      <td>...</td>\n",
       "      <td>...</td>\n",
       "      <td>...</td>\n",
       "      <td>...</td>\n",
       "      <td>...</td>\n",
       "      <td>...</td>\n",
       "      <td>...</td>\n",
       "      <td>...</td>\n",
       "      <td>...</td>\n",
       "      <td>...</td>\n",
       "    </tr>\n",
       "    <tr>\n",
       "      <th>2021-06-14</th>\n",
       "      <td>71.98</td>\n",
       "      <td>72.03</td>\n",
       "      <td>68.91</td>\n",
       "      <td>69.80</td>\n",
       "      <td>3666500.0</td>\n",
       "      <td>30.96</td>\n",
       "      <td>31.48</td>\n",
       "      <td>30.66</td>\n",
       "      <td>30.82</td>\n",
       "      <td>5182600</td>\n",
       "      <td>...</td>\n",
       "      <td>57.00</td>\n",
       "      <td>301467300</td>\n",
       "      <td>49.96</td>\n",
       "      <td>617.69</td>\n",
       "      <td>35.11</td>\n",
       "      <td>30.82</td>\n",
       "      <td>69.28</td>\n",
       "      <td>57.00</td>\n",
       "      <td>43.82</td>\n",
       "      <td>69.80</td>\n",
       "    </tr>\n",
       "    <tr>\n",
       "      <th>2021-06-15</th>\n",
       "      <td>69.51</td>\n",
       "      <td>72.40</td>\n",
       "      <td>69.37</td>\n",
       "      <td>70.00</td>\n",
       "      <td>4126400.0</td>\n",
       "      <td>30.82</td>\n",
       "      <td>31.53</td>\n",
       "      <td>30.05</td>\n",
       "      <td>30.07</td>\n",
       "      <td>6912600</td>\n",
       "      <td>...</td>\n",
       "      <td>59.04</td>\n",
       "      <td>285582100</td>\n",
       "      <td>44.88</td>\n",
       "      <td>599.36</td>\n",
       "      <td>32.06</td>\n",
       "      <td>30.07</td>\n",
       "      <td>70.27</td>\n",
       "      <td>59.04</td>\n",
       "      <td>44.11</td>\n",
       "      <td>70.00</td>\n",
       "    </tr>\n",
       "    <tr>\n",
       "      <th>2021-06-16</th>\n",
       "      <td>69.00</td>\n",
       "      <td>70.00</td>\n",
       "      <td>67.80</td>\n",
       "      <td>69.77</td>\n",
       "      <td>4769900.0</td>\n",
       "      <td>30.02</td>\n",
       "      <td>30.59</td>\n",
       "      <td>29.54</td>\n",
       "      <td>30.46</td>\n",
       "      <td>7134200</td>\n",
       "      <td>...</td>\n",
       "      <td>55.18</td>\n",
       "      <td>166450700</td>\n",
       "      <td>46.63</td>\n",
       "      <td>604.87</td>\n",
       "      <td>35.21</td>\n",
       "      <td>30.46</td>\n",
       "      <td>65.96</td>\n",
       "      <td>55.18</td>\n",
       "      <td>43.83</td>\n",
       "      <td>69.77</td>\n",
       "    </tr>\n",
       "    <tr>\n",
       "      <th>2021-06-17</th>\n",
       "      <td>68.50</td>\n",
       "      <td>70.92</td>\n",
       "      <td>68.10</td>\n",
       "      <td>70.00</td>\n",
       "      <td>3835000.0</td>\n",
       "      <td>30.32</td>\n",
       "      <td>30.49</td>\n",
       "      <td>29.34</td>\n",
       "      <td>29.41</td>\n",
       "      <td>7729000</td>\n",
       "      <td>...</td>\n",
       "      <td>60.73</td>\n",
       "      <td>303576000</td>\n",
       "      <td>50.27</td>\n",
       "      <td>616.60</td>\n",
       "      <td>31.03</td>\n",
       "      <td>29.41</td>\n",
       "      <td>68.91</td>\n",
       "      <td>60.73</td>\n",
       "      <td>44.21</td>\n",
       "      <td>70.00</td>\n",
       "    </tr>\n",
       "    <tr>\n",
       "      <th>2021-06-18</th>\n",
       "      <td>69.70</td>\n",
       "      <td>70.40</td>\n",
       "      <td>69.08</td>\n",
       "      <td>69.75</td>\n",
       "      <td>3173400.0</td>\n",
       "      <td>29.26</td>\n",
       "      <td>29.50</td>\n",
       "      <td>28.89</td>\n",
       "      <td>29.08</td>\n",
       "      <td>10221300</td>\n",
       "      <td>...</td>\n",
       "      <td>59.26</td>\n",
       "      <td>242896900</td>\n",
       "      <td>52.27</td>\n",
       "      <td>623.31</td>\n",
       "      <td>29.83</td>\n",
       "      <td>29.08</td>\n",
       "      <td>67.25</td>\n",
       "      <td>59.26</td>\n",
       "      <td>43.86</td>\n",
       "      <td>69.75</td>\n",
       "    </tr>\n",
       "  </tbody>\n",
       "</table>\n",
       "<p>124 rows × 28 columns</p>\n",
       "</div>"
      ],
      "text/plain": [
       "             PATH                                  DISCA                       \\\n",
       "             Open   High    Low  Close     Volume   Open   High    Low  Close   \n",
       "date                                                                            \n",
       "2020-12-21    NaN    NaN    NaN    NaN        NaN  27.36  27.60  26.87  27.37   \n",
       "2020-12-22    NaN    NaN    NaN    NaN        NaN  27.56  27.62  26.92  27.21   \n",
       "2020-12-23    NaN    NaN    NaN    NaN        NaN  27.40  28.46  27.32  28.26   \n",
       "2020-12-24    NaN    NaN    NaN    NaN        NaN  28.29  28.73  27.97  28.57   \n",
       "2020-12-28    NaN    NaN    NaN    NaN        NaN  28.71  29.47  28.31  29.45   \n",
       "...           ...    ...    ...    ...        ...    ...    ...    ...    ...   \n",
       "2021-06-14  71.98  72.03  68.91  69.80  3666500.0  30.96  31.48  30.66  30.82   \n",
       "2021-06-15  69.51  72.40  69.37  70.00  4126400.0  30.82  31.53  30.05  30.07   \n",
       "2021-06-16  69.00  70.00  67.80  69.77  4769900.0  30.02  30.59  29.54  30.46   \n",
       "2021-06-17  68.50  70.92  68.10  70.00  3835000.0  30.32  30.49  29.34  29.41   \n",
       "2021-06-18  69.70  70.40  69.08  69.75  3173400.0  29.26  29.50  28.89  29.08   \n",
       "\n",
       "                      ...    AMC            RSI_TSLA Close_TSLA RSI_DISCA  \\\n",
       "              Volume  ...  Close     Volume                                 \n",
       "date                  ...                                                   \n",
       "2020-12-21   9440200  ...   2.68   22699800      NaN     649.86       NaN   \n",
       "2020-12-22   5403400  ...   2.59   21638400      NaN     640.34       NaN   \n",
       "2020-12-23   5542200  ...   2.56   15724800      NaN     645.98       NaN   \n",
       "2020-12-24   3471600  ...   2.51   11094200      NaN     661.77       NaN   \n",
       "2020-12-28   5020500  ...   2.39   23942700      NaN     663.69       NaN   \n",
       "...              ...  ...    ...        ...      ...        ...       ...   \n",
       "2021-06-14   5182600  ...  57.00  301467300    49.96     617.69     35.11   \n",
       "2021-06-15   6912600  ...  59.04  285582100    44.88     599.36     32.06   \n",
       "2021-06-16   7134200  ...  55.18  166450700    46.63     604.87     35.21   \n",
       "2021-06-17   7729000  ...  60.73  303576000    50.27     616.60     31.03   \n",
       "2021-06-18  10221300  ...  59.26  242896900    52.27     623.31     29.83   \n",
       "\n",
       "           Close_DISCA RSI_AMC Close_AMC RSI_PATH Close_PATH  \n",
       "                                                              \n",
       "date                                                          \n",
       "2020-12-21       27.37     NaN      2.68      NaN        NaN  \n",
       "2020-12-22       27.21     NaN      2.59      NaN        NaN  \n",
       "2020-12-23       28.26     NaN      2.56      NaN        NaN  \n",
       "2020-12-24       28.57     NaN      2.51      NaN        NaN  \n",
       "2020-12-28       29.45     NaN      2.39      NaN        NaN  \n",
       "...                ...     ...       ...      ...        ...  \n",
       "2021-06-14       30.82   69.28     57.00    43.82      69.80  \n",
       "2021-06-15       30.07   70.27     59.04    44.11      70.00  \n",
       "2021-06-16       30.46   65.96     55.18    43.83      69.77  \n",
       "2021-06-17       29.41   68.91     60.73    44.21      70.00  \n",
       "2021-06-18       29.08   67.25     59.26    43.86      69.75  \n",
       "\n",
       "[124 rows x 28 columns]"
      ]
     },
     "execution_count": 37,
     "metadata": {},
     "output_type": "execute_result"
    }
   ],
   "source": [
    "df.round(2)"
   ]
  },
  {
   "cell_type": "code",
   "execution_count": 38,
   "id": "aquatic-situation",
   "metadata": {},
   "outputs": [
    {
     "data": {
      "text/html": [
       "<div>\n",
       "<style scoped>\n",
       "    .dataframe tbody tr th:only-of-type {\n",
       "        vertical-align: middle;\n",
       "    }\n",
       "\n",
       "    .dataframe tbody tr th {\n",
       "        vertical-align: top;\n",
       "    }\n",
       "\n",
       "    .dataframe thead th {\n",
       "        text-align: right;\n",
       "    }\n",
       "</style>\n",
       "<table border=\"1\" class=\"dataframe\">\n",
       "  <thead>\n",
       "    <tr style=\"text-align: right;\">\n",
       "      <th></th>\n",
       "      <th>date</th>\n",
       "      <th>2021-06-18</th>\n",
       "    </tr>\n",
       "  </thead>\n",
       "  <tbody>\n",
       "    <tr>\n",
       "      <th>Close_TSLA</th>\n",
       "      <th></th>\n",
       "      <td>623.309998</td>\n",
       "    </tr>\n",
       "    <tr>\n",
       "      <th>Close_DISCA</th>\n",
       "      <th></th>\n",
       "      <td>29.080000</td>\n",
       "    </tr>\n",
       "    <tr>\n",
       "      <th>Close_AMC</th>\n",
       "      <th></th>\n",
       "      <td>59.259998</td>\n",
       "    </tr>\n",
       "    <tr>\n",
       "      <th>Close_PATH</th>\n",
       "      <th></th>\n",
       "      <td>69.750000</td>\n",
       "    </tr>\n",
       "  </tbody>\n",
       "</table>\n",
       "</div>"
      ],
      "text/plain": [
       "date          2021-06-18\n",
       "Close_TSLA    623.309998\n",
       "Close_DISCA    29.080000\n",
       "Close_AMC      59.259998\n",
       "Close_PATH     69.750000"
      ]
     },
     "execution_count": 38,
     "metadata": {},
     "output_type": "execute_result"
    }
   ],
   "source": [
    "df_close = df.filter(like='Close_').iloc[-1:].T\n",
    "df_close"
   ]
  },
  {
   "cell_type": "code",
   "execution_count": 40,
   "id": "double-transmission",
   "metadata": {},
   "outputs": [
    {
     "data": {
      "text/plain": [
       "Index(['level_0', 'level_1', 2021-06-18 00:00:00], dtype='object', name='date')"
      ]
     },
     "execution_count": 40,
     "metadata": {},
     "output_type": "execute_result"
    }
   ],
   "source": [
    "df_close.columns"
   ]
  },
  {
   "cell_type": "code",
   "execution_count": null,
   "id": "compressed-panel",
   "metadata": {},
   "outputs": [],
   "source": []
  },
  {
   "cell_type": "code",
   "execution_count": 39,
   "id": "threatened-mirror",
   "metadata": {},
   "outputs": [
    {
     "data": {
      "text/html": [
       "<div>\n",
       "<style scoped>\n",
       "    .dataframe tbody tr th:only-of-type {\n",
       "        vertical-align: middle;\n",
       "    }\n",
       "\n",
       "    .dataframe tbody tr th {\n",
       "        vertical-align: top;\n",
       "    }\n",
       "\n",
       "    .dataframe thead th {\n",
       "        text-align: right;\n",
       "    }\n",
       "</style>\n",
       "<table border=\"1\" class=\"dataframe\">\n",
       "  <thead>\n",
       "    <tr style=\"text-align: right;\">\n",
       "      <th>date</th>\n",
       "      <th>level_0</th>\n",
       "      <th>level_1</th>\n",
       "      <th>2021-06-18 00:00:00</th>\n",
       "    </tr>\n",
       "  </thead>\n",
       "  <tbody>\n",
       "    <tr>\n",
       "      <th>0</th>\n",
       "      <td>Close_TSLA</td>\n",
       "      <td></td>\n",
       "      <td>623.309998</td>\n",
       "    </tr>\n",
       "    <tr>\n",
       "      <th>1</th>\n",
       "      <td>Close_DISCA</td>\n",
       "      <td></td>\n",
       "      <td>29.080000</td>\n",
       "    </tr>\n",
       "    <tr>\n",
       "      <th>2</th>\n",
       "      <td>Close_AMC</td>\n",
       "      <td></td>\n",
       "      <td>59.259998</td>\n",
       "    </tr>\n",
       "    <tr>\n",
       "      <th>3</th>\n",
       "      <td>Close_PATH</td>\n",
       "      <td></td>\n",
       "      <td>69.750000</td>\n",
       "    </tr>\n",
       "  </tbody>\n",
       "</table>\n",
       "</div>"
      ],
      "text/plain": [
       "date      level_0 level_1  2021-06-18 00:00:00\n",
       "0      Close_TSLA                   623.309998\n",
       "1     Close_DISCA                    29.080000\n",
       "2       Close_AMC                    59.259998\n",
       "3      Close_PATH                    69.750000"
      ]
     },
     "execution_count": 39,
     "metadata": {},
     "output_type": "execute_result"
    }
   ],
   "source": [
    "df_close.reset_index(inplace=True)\n",
    "df_close"
   ]
  },
  {
   "cell_type": "code",
   "execution_count": 21,
   "id": "bacterial-adoption",
   "metadata": {},
   "outputs": [
    {
     "data": {
      "text/html": [
       "<div>\n",
       "<style scoped>\n",
       "    .dataframe tbody tr th:only-of-type {\n",
       "        vertical-align: middle;\n",
       "    }\n",
       "\n",
       "    .dataframe tbody tr th {\n",
       "        vertical-align: top;\n",
       "    }\n",
       "\n",
       "    .dataframe thead th {\n",
       "        text-align: right;\n",
       "    }\n",
       "</style>\n",
       "<table border=\"1\" class=\"dataframe\">\n",
       "  <thead>\n",
       "    <tr style=\"text-align: right;\">\n",
       "      <th>date</th>\n",
       "      <th>level_0</th>\n",
       "      <th>level_1</th>\n",
       "      <th>2021-06-18 00:00:00</th>\n",
       "    </tr>\n",
       "  </thead>\n",
       "  <tbody>\n",
       "    <tr>\n",
       "      <th>TSLA</th>\n",
       "      <td>Close_TSLA</td>\n",
       "      <td></td>\n",
       "      <td>623.309998</td>\n",
       "    </tr>\n",
       "    <tr>\n",
       "      <th>DISCA</th>\n",
       "      <td>Close_DISCA</td>\n",
       "      <td></td>\n",
       "      <td>29.080000</td>\n",
       "    </tr>\n",
       "    <tr>\n",
       "      <th>AMC</th>\n",
       "      <td>Close_AMC</td>\n",
       "      <td></td>\n",
       "      <td>59.259998</td>\n",
       "    </tr>\n",
       "    <tr>\n",
       "      <th>PATH</th>\n",
       "      <td>Close_PATH</td>\n",
       "      <td></td>\n",
       "      <td>69.750000</td>\n",
       "    </tr>\n",
       "  </tbody>\n",
       "</table>\n",
       "</div>"
      ],
      "text/plain": [
       "date       level_0 level_1  2021-06-18 00:00:00\n",
       "TSLA    Close_TSLA                   623.309998\n",
       "DISCA  Close_DISCA                    29.080000\n",
       "AMC      Close_AMC                    59.259998\n",
       "PATH    Close_PATH                    69.750000"
      ]
     },
     "execution_count": 21,
     "metadata": {},
     "output_type": "execute_result"
    }
   ],
   "source": [
    "df_close.set_index([tickers], inplace=True)\n",
    "df_close"
   ]
  },
  {
   "cell_type": "code",
   "execution_count": 22,
   "id": "wicked-palestinian",
   "metadata": {},
   "outputs": [],
   "source": [
    "df_close.drop(columns=['level_0', 'level_1'], inplace=True)"
   ]
  },
  {
   "cell_type": "code",
   "execution_count": 23,
   "id": "alive-component",
   "metadata": {},
   "outputs": [],
   "source": [
    "# df_close.reset_index(inplace=True)\n",
    "# df_close"
   ]
  },
  {
   "cell_type": "code",
   "execution_count": 24,
   "id": "olympic-scholarship",
   "metadata": {},
   "outputs": [
    {
     "data": {
      "text/html": [
       "<div>\n",
       "<style scoped>\n",
       "    .dataframe tbody tr th:only-of-type {\n",
       "        vertical-align: middle;\n",
       "    }\n",
       "\n",
       "    .dataframe tbody tr th {\n",
       "        vertical-align: top;\n",
       "    }\n",
       "\n",
       "    .dataframe thead th {\n",
       "        text-align: right;\n",
       "    }\n",
       "</style>\n",
       "<table border=\"1\" class=\"dataframe\">\n",
       "  <thead>\n",
       "    <tr style=\"text-align: right;\">\n",
       "      <th>date</th>\n",
       "      <th>2021-06-18 00:00:00</th>\n",
       "    </tr>\n",
       "  </thead>\n",
       "  <tbody>\n",
       "    <tr>\n",
       "      <th>TSLA</th>\n",
       "      <td>623.309998</td>\n",
       "    </tr>\n",
       "    <tr>\n",
       "      <th>DISCA</th>\n",
       "      <td>29.080000</td>\n",
       "    </tr>\n",
       "    <tr>\n",
       "      <th>AMC</th>\n",
       "      <td>59.259998</td>\n",
       "    </tr>\n",
       "    <tr>\n",
       "      <th>PATH</th>\n",
       "      <td>69.750000</td>\n",
       "    </tr>\n",
       "  </tbody>\n",
       "</table>\n",
       "</div>"
      ],
      "text/plain": [
       "date   2021-06-18 00:00:00\n",
       "TSLA            623.309998\n",
       "DISCA            29.080000\n",
       "AMC              59.259998\n",
       "PATH             69.750000"
      ]
     },
     "execution_count": 24,
     "metadata": {},
     "output_type": "execute_result"
    }
   ],
   "source": [
    "df_close"
   ]
  },
  {
   "cell_type": "code",
   "execution_count": 77,
   "id": "based-wagon",
   "metadata": {},
   "outputs": [
    {
     "ename": "IndexError",
     "evalue": "index 1 is out of bounds for axis 0 with size 1",
     "output_type": "error",
     "traceback": [
      "\u001b[1;31m---------------------------------------------------------------------------\u001b[0m",
      "\u001b[1;31mIndexError\u001b[0m                                Traceback (most recent call last)",
      "\u001b[1;32m<ipython-input-77-35d94f4ba79e>\u001b[0m in \u001b[0;36m<module>\u001b[1;34m\u001b[0m\n\u001b[0;32m      1\u001b[0m \u001b[0mdf_close\u001b[0m\u001b[1;33m.\u001b[0m\u001b[0mcolumns\u001b[0m\u001b[1;33m.\u001b[0m\u001b[0mvalues\u001b[0m\u001b[1;33m[\u001b[0m\u001b[1;36m0\u001b[0m\u001b[1;33m]\u001b[0m \u001b[1;33m=\u001b[0m \u001b[1;34m\"Stock symbol\"\u001b[0m\u001b[1;33m\u001b[0m\u001b[1;33m\u001b[0m\u001b[0m\n\u001b[1;32m----> 2\u001b[1;33m \u001b[0mdf_close\u001b[0m\u001b[1;33m.\u001b[0m\u001b[0mcolumns\u001b[0m\u001b[1;33m.\u001b[0m\u001b[0mvalues\u001b[0m\u001b[1;33m[\u001b[0m\u001b[1;36m1\u001b[0m\u001b[1;33m]\u001b[0m \u001b[1;33m=\u001b[0m \u001b[1;34m\"RSI\"\u001b[0m\u001b[1;33m\u001b[0m\u001b[1;33m\u001b[0m\u001b[0m\n\u001b[0m",
      "\u001b[1;31mIndexError\u001b[0m: index 1 is out of bounds for axis 0 with size 1"
     ]
    }
   ],
   "source": [
    "df_close.columns.values[0] = \"Stock symbol\"\n",
    "df_close.columns.values[1] = \"RSI\""
   ]
  },
  {
   "cell_type": "code",
   "execution_count": 75,
   "id": "measured-springer",
   "metadata": {},
   "outputs": [],
   "source": [
    "#cols = df_close.columns.to_list()"
   ]
  },
  {
   "cell_type": "code",
   "execution_count": 76,
   "id": "daily-geology",
   "metadata": {},
   "outputs": [
    {
     "data": {
      "text/html": [
       "<div>\n",
       "<style scoped>\n",
       "    .dataframe tbody tr th:only-of-type {\n",
       "        vertical-align: middle;\n",
       "    }\n",
       "\n",
       "    .dataframe tbody tr th {\n",
       "        vertical-align: top;\n",
       "    }\n",
       "\n",
       "    .dataframe thead th {\n",
       "        text-align: right;\n",
       "    }\n",
       "</style>\n",
       "<table border=\"1\" class=\"dataframe\">\n",
       "  <thead>\n",
       "    <tr style=\"text-align: right;\">\n",
       "      <th>date</th>\n",
       "      <th>2021-06-18 00:00:00</th>\n",
       "    </tr>\n",
       "  </thead>\n",
       "  <tbody>\n",
       "    <tr>\n",
       "      <th>TSLA</th>\n",
       "      <td>623.309998</td>\n",
       "    </tr>\n",
       "    <tr>\n",
       "      <th>DISCA</th>\n",
       "      <td>29.080000</td>\n",
       "    </tr>\n",
       "    <tr>\n",
       "      <th>AMC</th>\n",
       "      <td>59.259998</td>\n",
       "    </tr>\n",
       "    <tr>\n",
       "      <th>PATH</th>\n",
       "      <td>69.750000</td>\n",
       "    </tr>\n",
       "  </tbody>\n",
       "</table>\n",
       "</div>"
      ],
      "text/plain": [
       "date   2021-06-18 00:00:00\n",
       "TSLA            623.309998\n",
       "DISCA            29.080000\n",
       "AMC              59.259998\n",
       "PATH             69.750000"
      ]
     },
     "execution_count": 76,
     "metadata": {},
     "output_type": "execute_result"
    }
   ],
   "source": [
    "df_close"
   ]
  },
  {
   "cell_type": "code",
   "execution_count": 50,
   "id": "alien-means",
   "metadata": {},
   "outputs": [
    {
     "ename": "KeyError",
     "evalue": "\"None of ['Stock symbol'] are in the columns\"",
     "output_type": "error",
     "traceback": [
      "\u001b[1;31m---------------------------------------------------------------------------\u001b[0m",
      "\u001b[1;31mKeyError\u001b[0m                                  Traceback (most recent call last)",
      "\u001b[1;32m<ipython-input-50-dcd5ac35d1cf>\u001b[0m in \u001b[0;36m<module>\u001b[1;34m\u001b[0m\n\u001b[1;32m----> 1\u001b[1;33m \u001b[0mdf_close\u001b[0m\u001b[1;33m.\u001b[0m\u001b[0mset_index\u001b[0m\u001b[1;33m(\u001b[0m\u001b[0mcols\u001b[0m\u001b[1;33m[\u001b[0m\u001b[1;36m0\u001b[0m\u001b[1;33m]\u001b[0m\u001b[1;33m,\u001b[0m \u001b[0minplace\u001b[0m\u001b[1;33m=\u001b[0m\u001b[1;32mTrue\u001b[0m\u001b[1;33m)\u001b[0m\u001b[1;33m\u001b[0m\u001b[1;33m\u001b[0m\u001b[0m\n\u001b[0m",
      "\u001b[1;32mc:\\users\\elena\\appdata\\local\\programs\\python\\python37\\lib\\site-packages\\pandas\\core\\frame.py\u001b[0m in \u001b[0;36mset_index\u001b[1;34m(self, keys, drop, append, inplace, verify_integrity)\u001b[0m\n\u001b[0;32m   4722\u001b[0m \u001b[1;33m\u001b[0m\u001b[0m\n\u001b[0;32m   4723\u001b[0m         \u001b[1;32mif\u001b[0m \u001b[0mmissing\u001b[0m\u001b[1;33m:\u001b[0m\u001b[1;33m\u001b[0m\u001b[1;33m\u001b[0m\u001b[0m\n\u001b[1;32m-> 4724\u001b[1;33m             \u001b[1;32mraise\u001b[0m \u001b[0mKeyError\u001b[0m\u001b[1;33m(\u001b[0m\u001b[1;34mf\"None of {missing} are in the columns\"\u001b[0m\u001b[1;33m)\u001b[0m\u001b[1;33m\u001b[0m\u001b[1;33m\u001b[0m\u001b[0m\n\u001b[0m\u001b[0;32m   4725\u001b[0m \u001b[1;33m\u001b[0m\u001b[0m\n\u001b[0;32m   4726\u001b[0m         \u001b[1;32mif\u001b[0m \u001b[0minplace\u001b[0m\u001b[1;33m:\u001b[0m\u001b[1;33m\u001b[0m\u001b[1;33m\u001b[0m\u001b[0m\n",
      "\u001b[1;31mKeyError\u001b[0m: \"None of ['Stock symbol'] are in the columns\""
     ]
    }
   ],
   "source": [
    "df_close.set_index(cols[0], inplace=True)"
   ]
  },
  {
   "cell_type": "code",
   "execution_count": null,
   "id": "flying-maine",
   "metadata": {},
   "outputs": [],
   "source": []
  },
  {
   "cell_type": "code",
   "execution_count": null,
   "id": "competent-hotel",
   "metadata": {},
   "outputs": [],
   "source": []
  },
  {
   "cell_type": "code",
   "execution_count": 25,
   "id": "persistent-ministry",
   "metadata": {},
   "outputs": [
    {
     "data": {
      "text/html": [
       "<div>\n",
       "<style scoped>\n",
       "    .dataframe tbody tr th:only-of-type {\n",
       "        vertical-align: middle;\n",
       "    }\n",
       "\n",
       "    .dataframe tbody tr th {\n",
       "        vertical-align: top;\n",
       "    }\n",
       "\n",
       "    .dataframe thead th {\n",
       "        text-align: right;\n",
       "    }\n",
       "</style>\n",
       "<table border=\"1\" class=\"dataframe\">\n",
       "  <thead>\n",
       "    <tr style=\"text-align: right;\">\n",
       "      <th>date</th>\n",
       "      <th>2021-06-18 00:00:00</th>\n",
       "    </tr>\n",
       "    <tr>\n",
       "      <th>Stock symbol</th>\n",
       "      <th></th>\n",
       "    </tr>\n",
       "  </thead>\n",
       "  <tbody>\n",
       "    <tr>\n",
       "      <th>TSLA</th>\n",
       "      <td>623.309998</td>\n",
       "    </tr>\n",
       "    <tr>\n",
       "      <th>DISCA</th>\n",
       "      <td>29.080000</td>\n",
       "    </tr>\n",
       "    <tr>\n",
       "      <th>AMC</th>\n",
       "      <td>59.259998</td>\n",
       "    </tr>\n",
       "    <tr>\n",
       "      <th>PATH</th>\n",
       "      <td>69.750000</td>\n",
       "    </tr>\n",
       "  </tbody>\n",
       "</table>\n",
       "</div>"
      ],
      "text/plain": [
       "date          2021-06-18 00:00:00\n",
       "Stock symbol                     \n",
       "TSLA                   623.309998\n",
       "DISCA                   29.080000\n",
       "AMC                     59.259998\n",
       "PATH                    69.750000"
      ]
     },
     "execution_count": 25,
     "metadata": {},
     "output_type": "execute_result"
    }
   ],
   "source": [
    "df_close.index.rename(name = 'Stock symbol', inplace=True)\n",
    "df_close"
   ]
  },
  {
   "cell_type": "code",
   "execution_count": 31,
   "id": "introductory-prefix",
   "metadata": {},
   "outputs": [
    {
     "data": {
      "text/html": [
       "<div>\n",
       "<style scoped>\n",
       "    .dataframe tbody tr th:only-of-type {\n",
       "        vertical-align: middle;\n",
       "    }\n",
       "\n",
       "    .dataframe tbody tr th {\n",
       "        vertical-align: top;\n",
       "    }\n",
       "\n",
       "    .dataframe thead th {\n",
       "        text-align: right;\n",
       "    }\n",
       "</style>\n",
       "<table border=\"1\" class=\"dataframe\">\n",
       "  <thead>\n",
       "    <tr style=\"text-align: right;\">\n",
       "      <th>date</th>\n",
       "      <th>2021-06-18 00:00:00</th>\n",
       "    </tr>\n",
       "    <tr>\n",
       "      <th>Stock symbol</th>\n",
       "      <th></th>\n",
       "    </tr>\n",
       "  </thead>\n",
       "  <tbody>\n",
       "    <tr>\n",
       "      <th>TSLA</th>\n",
       "      <td>623.309998</td>\n",
       "    </tr>\n",
       "    <tr>\n",
       "      <th>DISCA</th>\n",
       "      <td>29.080000</td>\n",
       "    </tr>\n",
       "    <tr>\n",
       "      <th>AMC</th>\n",
       "      <td>59.259998</td>\n",
       "    </tr>\n",
       "    <tr>\n",
       "      <th>PATH</th>\n",
       "      <td>69.750000</td>\n",
       "    </tr>\n",
       "  </tbody>\n",
       "</table>\n",
       "</div>"
      ],
      "text/plain": [
       "date          2021-06-18 00:00:00\n",
       "Stock symbol                     \n",
       "TSLA                   623.309998\n",
       "DISCA                   29.080000\n",
       "AMC                     59.259998\n",
       "PATH                    69.750000"
      ]
     },
     "execution_count": 31,
     "metadata": {},
     "output_type": "execute_result"
    }
   ],
   "source": [
    "df_close"
   ]
  },
  {
   "cell_type": "code",
   "execution_count": null,
   "id": "anonymous-extreme",
   "metadata": {},
   "outputs": [],
   "source": []
  },
  {
   "cell_type": "code",
   "execution_count": 121,
   "id": "certain-cream",
   "metadata": {},
   "outputs": [
    {
     "data": {
      "text/html": [
       "<div>\n",
       "<style scoped>\n",
       "    .dataframe tbody tr th:only-of-type {\n",
       "        vertical-align: middle;\n",
       "    }\n",
       "\n",
       "    .dataframe tbody tr th {\n",
       "        vertical-align: top;\n",
       "    }\n",
       "\n",
       "    .dataframe thead th {\n",
       "        text-align: right;\n",
       "    }\n",
       "</style>\n",
       "<table border=\"1\" class=\"dataframe\">\n",
       "  <thead>\n",
       "    <tr style=\"text-align: right;\">\n",
       "      <th>date</th>\n",
       "      <th>level_0</th>\n",
       "      <th>level_1</th>\n",
       "      <th>2021-06-18 00:00:00</th>\n",
       "    </tr>\n",
       "    <tr>\n",
       "      <th>Stock symbol</th>\n",
       "      <th></th>\n",
       "      <th></th>\n",
       "      <th></th>\n",
       "    </tr>\n",
       "  </thead>\n",
       "  <tbody>\n",
       "    <tr>\n",
       "      <th>TSLA</th>\n",
       "      <td>Close_TSLA</td>\n",
       "      <td></td>\n",
       "      <td>623.309998</td>\n",
       "    </tr>\n",
       "    <tr>\n",
       "      <th>DISCA</th>\n",
       "      <td>Close_DISCA</td>\n",
       "      <td></td>\n",
       "      <td>29.080000</td>\n",
       "    </tr>\n",
       "    <tr>\n",
       "      <th>AMC</th>\n",
       "      <td>Close_AMC</td>\n",
       "      <td></td>\n",
       "      <td>59.259998</td>\n",
       "    </tr>\n",
       "  </tbody>\n",
       "</table>\n",
       "</div>"
      ],
      "text/plain": [
       "date              level_0 level_1  2021-06-18 00:00:00\n",
       "Stock symbol                                          \n",
       "TSLA           Close_TSLA                   623.309998\n",
       "DISCA         Close_DISCA                    29.080000\n",
       "AMC             Close_AMC                    59.259998"
      ]
     },
     "execution_count": 121,
     "metadata": {},
     "output_type": "execute_result"
    }
   ],
   "source": []
  },
  {
   "cell_type": "code",
   "execution_count": 110,
   "id": "helpful-dispatch",
   "metadata": {},
   "outputs": [
    {
     "data": {
      "text/html": [
       "<div>\n",
       "<style scoped>\n",
       "    .dataframe tbody tr th:only-of-type {\n",
       "        vertical-align: middle;\n",
       "    }\n",
       "\n",
       "    .dataframe tbody tr th {\n",
       "        vertical-align: top;\n",
       "    }\n",
       "\n",
       "    .dataframe thead th {\n",
       "        text-align: right;\n",
       "    }\n",
       "</style>\n",
       "<table border=\"1\" class=\"dataframe\">\n",
       "  <thead>\n",
       "    <tr style=\"text-align: right;\">\n",
       "      <th>date</th>\n",
       "      <th>level_0</th>\n",
       "      <th>level_1</th>\n",
       "      <th>2021-06-18 00:00:00</th>\n",
       "    </tr>\n",
       "  </thead>\n",
       "  <tbody>\n",
       "    <tr>\n",
       "      <th>TSLA</th>\n",
       "      <td>Close_TSLA</td>\n",
       "      <td></td>\n",
       "      <td>623.309998</td>\n",
       "    </tr>\n",
       "    <tr>\n",
       "      <th>DISCA</th>\n",
       "      <td>Close_DISCA</td>\n",
       "      <td></td>\n",
       "      <td>29.080000</td>\n",
       "    </tr>\n",
       "    <tr>\n",
       "      <th>AMC</th>\n",
       "      <td>Close_AMC</td>\n",
       "      <td></td>\n",
       "      <td>59.259998</td>\n",
       "    </tr>\n",
       "  </tbody>\n",
       "</table>\n",
       "</div>"
      ],
      "text/plain": [
       "date       level_0 level_1  2021-06-18 00:00:00\n",
       "TSLA    Close_TSLA                   623.309998\n",
       "DISCA  Close_DISCA                    29.080000\n",
       "AMC      Close_AMC                    59.259998"
      ]
     },
     "execution_count": 110,
     "metadata": {},
     "output_type": "execute_result"
    }
   ],
   "source": [
    "df_close"
   ]
  },
  {
   "cell_type": "code",
   "execution_count": 68,
   "id": "helpful-garlic",
   "metadata": {},
   "outputs": [
    {
     "data": {
      "text/html": [
       "<div>\n",
       "<style scoped>\n",
       "    .dataframe tbody tr th:only-of-type {\n",
       "        vertical-align: middle;\n",
       "    }\n",
       "\n",
       "    .dataframe tbody tr th {\n",
       "        vertical-align: top;\n",
       "    }\n",
       "\n",
       "    .dataframe thead th {\n",
       "        text-align: right;\n",
       "    }\n",
       "</style>\n",
       "<table border=\"1\" class=\"dataframe\">\n",
       "  <thead>\n",
       "    <tr style=\"text-align: right;\">\n",
       "      <th></th>\n",
       "      <th>date</th>\n",
       "      <th>2021-06-18</th>\n",
       "    </tr>\n",
       "  </thead>\n",
       "  <tbody>\n",
       "    <tr>\n",
       "      <th>RSI_TSLA</th>\n",
       "      <th></th>\n",
       "      <td>52.27</td>\n",
       "    </tr>\n",
       "    <tr>\n",
       "      <th>RSI_DISCA</th>\n",
       "      <th></th>\n",
       "      <td>29.83</td>\n",
       "    </tr>\n",
       "    <tr>\n",
       "      <th>RSI_AMC</th>\n",
       "      <th></th>\n",
       "      <td>67.25</td>\n",
       "    </tr>\n",
       "  </tbody>\n",
       "</table>\n",
       "</div>"
      ],
      "text/plain": [
       "date        2021-06-18\n",
       "RSI_TSLA         52.27\n",
       "RSI_DISCA        29.83\n",
       "RSI_AMC          67.25"
      ]
     },
     "execution_count": 68,
     "metadata": {},
     "output_type": "execute_result"
    }
   ],
   "source": [
    "df_rsi = df.filter(like='RSI').iloc[-1:].T\n",
    "df_rsi"
   ]
  },
  {
   "cell_type": "code",
   "execution_count": 75,
   "id": "lyric-medline",
   "metadata": {},
   "outputs": [
    {
     "data": {
      "text/html": [
       "<div>\n",
       "<style scoped>\n",
       "    .dataframe tbody tr th:only-of-type {\n",
       "        vertical-align: middle;\n",
       "    }\n",
       "\n",
       "    .dataframe tbody tr th {\n",
       "        vertical-align: top;\n",
       "    }\n",
       "\n",
       "    .dataframe thead th {\n",
       "        text-align: right;\n",
       "    }\n",
       "</style>\n",
       "<table border=\"1\" class=\"dataframe\">\n",
       "  <thead>\n",
       "    <tr style=\"text-align: right;\">\n",
       "      <th></th>\n",
       "      <th>date</th>\n",
       "      <th>2021-06-18</th>\n",
       "    </tr>\n",
       "  </thead>\n",
       "  <tbody>\n",
       "    <tr>\n",
       "      <th>Close_TSLA</th>\n",
       "      <th></th>\n",
       "      <td>623.309998</td>\n",
       "    </tr>\n",
       "    <tr>\n",
       "      <th>Close_DISCA</th>\n",
       "      <th></th>\n",
       "      <td>29.080000</td>\n",
       "    </tr>\n",
       "    <tr>\n",
       "      <th>Close_AMC</th>\n",
       "      <th></th>\n",
       "      <td>59.259998</td>\n",
       "    </tr>\n",
       "    <tr>\n",
       "      <th>RSI_TSLA</th>\n",
       "      <th></th>\n",
       "      <td>52.270000</td>\n",
       "    </tr>\n",
       "    <tr>\n",
       "      <th>RSI_DISCA</th>\n",
       "      <th></th>\n",
       "      <td>29.830000</td>\n",
       "    </tr>\n",
       "    <tr>\n",
       "      <th>RSI_AMC</th>\n",
       "      <th></th>\n",
       "      <td>67.250000</td>\n",
       "    </tr>\n",
       "  </tbody>\n",
       "</table>\n",
       "</div>"
      ],
      "text/plain": [
       "date          2021-06-18\n",
       "Close_TSLA    623.309998\n",
       "Close_DISCA    29.080000\n",
       "Close_AMC      59.259998\n",
       "RSI_TSLA       52.270000\n",
       "RSI_DISCA      29.830000\n",
       "RSI_AMC        67.250000"
      ]
     },
     "execution_count": 75,
     "metadata": {},
     "output_type": "execute_result"
    }
   ],
   "source": [
    "df_concat = pd.concat([df_close, df_rsi], ignore_index=False)\n",
    "df_concat"
   ]
  },
  {
   "cell_type": "code",
   "execution_count": null,
   "id": "numerical-reynolds",
   "metadata": {},
   "outputs": [],
   "source": []
  },
  {
   "cell_type": "code",
   "execution_count": 51,
   "id": "defined-jackson",
   "metadata": {
    "scrolled": true
   },
   "outputs": [
    {
     "data": {
      "text/plain": [
       "DatetimeIndex(['2021-06-18'], dtype='datetime64[ns]', name='date', freq=None)"
      ]
     },
     "execution_count": 51,
     "metadata": {},
     "output_type": "execute_result"
    }
   ],
   "source": [
    "df_2.columns"
   ]
  },
  {
   "cell_type": "code",
   "execution_count": null,
   "id": "confident-latter",
   "metadata": {},
   "outputs": [],
   "source": []
  },
  {
   "cell_type": "code",
   "execution_count": null,
   "id": "sound-expense",
   "metadata": {},
   "outputs": [],
   "source": []
  },
  {
   "cell_type": "code",
   "execution_count": null,
   "id": "invisible-controversy",
   "metadata": {},
   "outputs": [],
   "source": []
  },
  {
   "cell_type": "code",
   "execution_count": 32,
   "id": "minute-billy",
   "metadata": {},
   "outputs": [],
   "source": [
    "dff = df.filter(like='RSI').iloc[-1:].T"
   ]
  },
  {
   "cell_type": "code",
   "execution_count": 33,
   "id": "smaller-husband",
   "metadata": {},
   "outputs": [
    {
     "data": {
      "text/plain": [
       "0"
      ]
     },
     "execution_count": 33,
     "metadata": {},
     "output_type": "execute_result"
    }
   ],
   "source": [
    "len(dff.index)"
   ]
  },
  {
   "cell_type": "code",
   "execution_count": null,
   "id": "solved-fountain",
   "metadata": {},
   "outputs": [],
   "source": []
  },
  {
   "cell_type": "code",
   "execution_count": 226,
   "id": "brilliant-accordance",
   "metadata": {},
   "outputs": [],
   "source": [
    "# # Skip first 14 days to have real values\n",
    "\n",
    "# hist = hist.iloc[14:]\n",
    "\n",
    "# print(hist)\n",
    "# fig, (ax1, ax2) = plt.subplots(2)\n",
    "# ax1.get_xaxis().set_visible(False)\n",
    "# fig.suptitle(f'{stock_symobl}')\n",
    "\n",
    "# hist['Close'].plot(ax=ax1)\n",
    "# ax1.set_ylabel('Price ($)')\n",
    "# hist['RSI'].plot(ax=ax2)\n",
    "# ax2.set_ylim(0,100)\n",
    "# ax2.axhline(30, color='r', linestyle='--')\n",
    "# ax2.axhline(70, color='r', linestyle='--')\n",
    "# ax2.set_ylabel('RSI')\n",
    "\n",
    "# plt.show()"
   ]
  },
  {
   "cell_type": "code",
   "execution_count": 227,
   "id": "varied-contribution",
   "metadata": {},
   "outputs": [],
   "source": [
    "# ti = TechIndicators(key='9R2V38OOYMP02MHZ', output_format='pandas')"
   ]
  },
  {
   "cell_type": "code",
   "execution_count": 228,
   "id": "alpha-graphic",
   "metadata": {},
   "outputs": [],
   "source": [
    "# data, meta_data = ti.get_rsi(symbol=stock_symobl,\n",
    "#                              interval='daily',\n",
    "#                              time_period=14,\n",
    "#                              series_type='close')\n",
    "# data.plot()\n",
    "# plt.title(f'RSI indicator for {stock_symobl} stock')\n",
    "# plt.show()"
   ]
  },
  {
   "cell_type": "code",
   "execution_count": 216,
   "id": "brief-shock",
   "metadata": {},
   "outputs": [],
   "source": []
  },
  {
   "cell_type": "code",
   "execution_count": 218,
   "id": "particular-haven",
   "metadata": {},
   "outputs": [
    {
     "data": {
      "text/html": [
       "<div>\n",
       "<style scoped>\n",
       "    .dataframe tbody tr th:only-of-type {\n",
       "        vertical-align: middle;\n",
       "    }\n",
       "\n",
       "    .dataframe tbody tr th {\n",
       "        vertical-align: top;\n",
       "    }\n",
       "\n",
       "    .dataframe thead th {\n",
       "        text-align: right;\n",
       "    }\n",
       "</style>\n",
       "<table border=\"1\" class=\"dataframe\">\n",
       "  <thead>\n",
       "    <tr style=\"text-align: right;\">\n",
       "      <th></th>\n",
       "      <th>Date</th>\n",
       "      <th>2021-06-18</th>\n",
       "    </tr>\n",
       "  </thead>\n",
       "  <tbody>\n",
       "  </tbody>\n",
       "</table>\n",
       "</div>"
      ],
      "text/plain": [
       "Empty DataFrame\n",
       "Columns: [2021-06-18 00:00:00]\n",
       "Index: []"
      ]
     },
     "execution_count": 218,
     "metadata": {},
     "output_type": "execute_result"
    }
   ],
   "source": [
    "dff"
   ]
  },
  {
   "cell_type": "code",
   "execution_count": 217,
   "id": "according-noise",
   "metadata": {},
   "outputs": [
    {
     "data": {
      "text/plain": [
       "0"
      ]
     },
     "execution_count": 217,
     "metadata": {},
     "output_type": "execute_result"
    }
   ],
   "source": [
    "len(dff)"
   ]
  },
  {
   "cell_type": "code",
   "execution_count": null,
   "id": "demographic-lyric",
   "metadata": {},
   "outputs": [],
   "source": []
  },
  {
   "cell_type": "code",
   "execution_count": 207,
   "id": "stupid-queue",
   "metadata": {},
   "outputs": [
    {
     "data": {
      "text/plain": [
       "date\n",
       "2020-12-21    649.859985\n",
       "2020-12-22    640.340027\n",
       "2020-12-23    645.979980\n",
       "2020-12-24    661.770020\n",
       "2020-12-28    663.690002\n",
       "                 ...    \n",
       "2021-06-14    617.690002\n",
       "2021-06-15    599.359985\n",
       "2021-06-16    604.869995\n",
       "2021-06-17    616.599976\n",
       "2021-06-18    623.309998\n",
       "Name: Close, Length: 124, dtype: float64"
      ]
     },
     "execution_count": 207,
     "metadata": {},
     "output_type": "execute_result"
    }
   ],
   "source": [
    "df['TSLA']['Close']"
   ]
  },
  {
   "cell_type": "code",
   "execution_count": null,
   "id": "christian-oklahoma",
   "metadata": {},
   "outputs": [],
   "source": []
  },
  {
   "cell_type": "code",
   "execution_count": null,
   "id": "undefined-istanbul",
   "metadata": {},
   "outputs": [],
   "source": []
  },
  {
   "cell_type": "code",
   "execution_count": null,
   "id": "exposed-denver",
   "metadata": {},
   "outputs": [],
   "source": []
  },
  {
   "cell_type": "code",
   "execution_count": 197,
   "id": "surrounded-cradle",
   "metadata": {},
   "outputs": [],
   "source": [
    "df1 = df.iloc[-1]"
   ]
  },
  {
   "cell_type": "code",
   "execution_count": 198,
   "id": "analyzed-perth",
   "metadata": {},
   "outputs": [],
   "source": [
    "df2 = df1.unstack().round(2)"
   ]
  },
  {
   "cell_type": "code",
   "execution_count": 201,
   "id": "arctic-brave",
   "metadata": {},
   "outputs": [
    {
     "data": {
      "text/html": [
       "<div>\n",
       "<style scoped>\n",
       "    .dataframe tbody tr th:only-of-type {\n",
       "        vertical-align: middle;\n",
       "    }\n",
       "\n",
       "    .dataframe tbody tr th {\n",
       "        vertical-align: top;\n",
       "    }\n",
       "\n",
       "    .dataframe thead th {\n",
       "        text-align: right;\n",
       "    }\n",
       "</style>\n",
       "<table border=\"1\" class=\"dataframe\">\n",
       "  <thead>\n",
       "    <tr style=\"text-align: right;\">\n",
       "      <th></th>\n",
       "      <th>Open</th>\n",
       "      <th>High</th>\n",
       "      <th>Low</th>\n",
       "      <th>Close</th>\n",
       "      <th>Volume</th>\n",
       "      <th></th>\n",
       "    </tr>\n",
       "  </thead>\n",
       "  <tbody>\n",
       "    <tr>\n",
       "      <th>TSLA</th>\n",
       "      <td>613.37</td>\n",
       "      <td>628.35</td>\n",
       "      <td>611.80</td>\n",
       "      <td>623.31</td>\n",
       "      <td>24528400.0</td>\n",
       "      <td>NaN</td>\n",
       "    </tr>\n",
       "    <tr>\n",
       "      <th>PATH</th>\n",
       "      <td>69.70</td>\n",
       "      <td>70.40</td>\n",
       "      <td>69.08</td>\n",
       "      <td>69.75</td>\n",
       "      <td>3173400.0</td>\n",
       "      <td>NaN</td>\n",
       "    </tr>\n",
       "    <tr>\n",
       "      <th>DISCA</th>\n",
       "      <td>29.26</td>\n",
       "      <td>29.50</td>\n",
       "      <td>28.89</td>\n",
       "      <td>29.08</td>\n",
       "      <td>10221300.0</td>\n",
       "      <td>NaN</td>\n",
       "    </tr>\n",
       "    <tr>\n",
       "      <th>RSI_TSLA</th>\n",
       "      <td>NaN</td>\n",
       "      <td>NaN</td>\n",
       "      <td>NaN</td>\n",
       "      <td>NaN</td>\n",
       "      <td>NaN</td>\n",
       "      <td>52.27</td>\n",
       "    </tr>\n",
       "    <tr>\n",
       "      <th>RSI_DISCA</th>\n",
       "      <td>NaN</td>\n",
       "      <td>NaN</td>\n",
       "      <td>NaN</td>\n",
       "      <td>NaN</td>\n",
       "      <td>NaN</td>\n",
       "      <td>29.83</td>\n",
       "    </tr>\n",
       "    <tr>\n",
       "      <th>RSI_PATH</th>\n",
       "      <td>NaN</td>\n",
       "      <td>NaN</td>\n",
       "      <td>NaN</td>\n",
       "      <td>NaN</td>\n",
       "      <td>NaN</td>\n",
       "      <td>43.86</td>\n",
       "    </tr>\n",
       "  </tbody>\n",
       "</table>\n",
       "</div>"
      ],
      "text/plain": [
       "             Open    High     Low   Close      Volume       \n",
       "TSLA       613.37  628.35  611.80  623.31  24528400.0    NaN\n",
       "PATH        69.70   70.40   69.08   69.75   3173400.0    NaN\n",
       "DISCA       29.26   29.50   28.89   29.08  10221300.0    NaN\n",
       "RSI_TSLA      NaN     NaN     NaN     NaN         NaN  52.27\n",
       "RSI_DISCA     NaN     NaN     NaN     NaN         NaN  29.83\n",
       "RSI_PATH      NaN     NaN     NaN     NaN         NaN  43.86"
      ]
     },
     "execution_count": 201,
     "metadata": {},
     "output_type": "execute_result"
    }
   ],
   "source": [
    "df2"
   ]
  },
  {
   "cell_type": "code",
   "execution_count": null,
   "id": "nuclear-progress",
   "metadata": {},
   "outputs": [],
   "source": []
  },
  {
   "cell_type": "code",
   "execution_count": null,
   "id": "closing-effect",
   "metadata": {},
   "outputs": [],
   "source": []
  },
  {
   "cell_type": "code",
   "execution_count": null,
   "id": "tough-designer",
   "metadata": {},
   "outputs": [],
   "source": []
  },
  {
   "cell_type": "code",
   "execution_count": null,
   "id": "prescribed-brighton",
   "metadata": {},
   "outputs": [],
   "source": []
  },
  {
   "cell_type": "code",
   "execution_count": null,
   "id": "confirmed-basin",
   "metadata": {},
   "outputs": [],
   "source": []
  },
  {
   "cell_type": "code",
   "execution_count": null,
   "id": "nasty-binary",
   "metadata": {},
   "outputs": [],
   "source": []
  },
  {
   "cell_type": "code",
   "execution_count": null,
   "id": "hungry-luther",
   "metadata": {
    "scrolled": true
   },
   "outputs": [],
   "source": []
  },
  {
   "cell_type": "code",
   "execution_count": null,
   "id": "aggressive-hybrid",
   "metadata": {},
   "outputs": [],
   "source": []
  },
  {
   "cell_type": "code",
   "execution_count": null,
   "id": "minus-leave",
   "metadata": {},
   "outputs": [],
   "source": []
  },
  {
   "cell_type": "code",
   "execution_count": null,
   "id": "micro-supervision",
   "metadata": {},
   "outputs": [],
   "source": []
  },
  {
   "cell_type": "code",
   "execution_count": null,
   "id": "adjusted-person",
   "metadata": {},
   "outputs": [],
   "source": []
  },
  {
   "cell_type": "code",
   "execution_count": 52,
   "id": "assigned-bicycle",
   "metadata": {},
   "outputs": [
    {
     "name": "stderr",
     "output_type": "stream",
     "text": [
      "c:\\users\\elena\\appdata\\local\\programs\\python\\python37\\lib\\site-packages\\pandas\\core\\frame.py:4446: SettingWithCopyWarning: \n",
      "A value is trying to be set on a copy of a slice from a DataFrame\n",
      "\n",
      "See the caveats in the documentation: https://pandas.pydata.org/pandas-docs/stable/user_guide/indexing.html#returning-a-view-versus-a-copy\n",
      "  errors=errors,\n",
      "c:\\users\\elena\\appdata\\local\\programs\\python\\python37\\lib\\site-packages\\ipykernel_launcher.py:1: SettingWithCopyWarning: \n",
      "A value is trying to be set on a copy of a slice from a DataFrame.\n",
      "Try using .loc[row_indexer,col_indexer] = value instead\n",
      "\n",
      "See the caveats in the documentation: https://pandas.pydata.org/pandas-docs/stable/user_guide/indexing.html#returning-a-view-versus-a-copy\n",
      "  \"\"\"Entry point for launching an IPython kernel.\n"
     ]
    }
   ],
   "source": [
    "tesla['RSI_TSLA'] = tesla.ta.rsi(inplace=True)"
   ]
  },
  {
   "cell_type": "code",
   "execution_count": 56,
   "id": "recreational-taiwan",
   "metadata": {},
   "outputs": [
    {
     "data": {
      "text/html": [
       "<div>\n",
       "<style scoped>\n",
       "    .dataframe tbody tr th:only-of-type {\n",
       "        vertical-align: middle;\n",
       "    }\n",
       "\n",
       "    .dataframe tbody tr th {\n",
       "        vertical-align: top;\n",
       "    }\n",
       "\n",
       "    .dataframe thead th {\n",
       "        text-align: right;\n",
       "    }\n",
       "</style>\n",
       "<table border=\"1\" class=\"dataframe\">\n",
       "  <thead>\n",
       "    <tr style=\"text-align: right;\">\n",
       "      <th></th>\n",
       "      <th>RSI_TSLA</th>\n",
       "    </tr>\n",
       "    <tr>\n",
       "      <th>date</th>\n",
       "      <th></th>\n",
       "    </tr>\n",
       "  </thead>\n",
       "  <tbody>\n",
       "    <tr>\n",
       "      <th>2020-12-21</th>\n",
       "      <td>NaN</td>\n",
       "    </tr>\n",
       "    <tr>\n",
       "      <th>2020-12-22</th>\n",
       "      <td>NaN</td>\n",
       "    </tr>\n",
       "    <tr>\n",
       "      <th>2020-12-23</th>\n",
       "      <td>NaN</td>\n",
       "    </tr>\n",
       "    <tr>\n",
       "      <th>2020-12-24</th>\n",
       "      <td>NaN</td>\n",
       "    </tr>\n",
       "    <tr>\n",
       "      <th>2020-12-28</th>\n",
       "      <td>NaN</td>\n",
       "    </tr>\n",
       "    <tr>\n",
       "      <th>...</th>\n",
       "      <td>...</td>\n",
       "    </tr>\n",
       "    <tr>\n",
       "      <th>2021-06-14</th>\n",
       "      <td>49.955083</td>\n",
       "    </tr>\n",
       "    <tr>\n",
       "      <th>2021-06-15</th>\n",
       "      <td>44.879661</td>\n",
       "    </tr>\n",
       "    <tr>\n",
       "      <th>2021-06-16</th>\n",
       "      <td>46.634852</td>\n",
       "    </tr>\n",
       "    <tr>\n",
       "      <th>2021-06-17</th>\n",
       "      <td>50.265623</td>\n",
       "    </tr>\n",
       "    <tr>\n",
       "      <th>2021-06-18</th>\n",
       "      <td>52.266302</td>\n",
       "    </tr>\n",
       "  </tbody>\n",
       "</table>\n",
       "<p>124 rows × 1 columns</p>\n",
       "</div>"
      ],
      "text/plain": [
       "             RSI_TSLA\n",
       "date                 \n",
       "2020-12-21        NaN\n",
       "2020-12-22        NaN\n",
       "2020-12-23        NaN\n",
       "2020-12-24        NaN\n",
       "2020-12-28        NaN\n",
       "...               ...\n",
       "2021-06-14  49.955083\n",
       "2021-06-15  44.879661\n",
       "2021-06-16  46.634852\n",
       "2021-06-17  50.265623\n",
       "2021-06-18  52.266302\n",
       "\n",
       "[124 rows x 1 columns]"
      ]
     },
     "execution_count": 56,
     "metadata": {},
     "output_type": "execute_result"
    }
   ],
   "source": [
    "tesla[['RSI_TSLA']]"
   ]
  },
  {
   "cell_type": "code",
   "execution_count": null,
   "id": "greatest-cleaning",
   "metadata": {},
   "outputs": [],
   "source": []
  },
  {
   "cell_type": "code",
   "execution_count": null,
   "id": "sophisticated-wildlife",
   "metadata": {},
   "outputs": [],
   "source": []
  },
  {
   "cell_type": "code",
   "execution_count": null,
   "id": "devoted-perth",
   "metadata": {},
   "outputs": [],
   "source": [
    "# data = [expression for item in list]\n",
    "data['RSI_TSLA'] = [data.ta.rsi(inplace=True) for ticker in tickers] "
   ]
  },
  {
   "cell_type": "code",
   "execution_count": null,
   "id": "loaded-underwear",
   "metadata": {},
   "outputs": [],
   "source": []
  },
  {
   "cell_type": "code",
   "execution_count": null,
   "id": "exceptional-insertion",
   "metadata": {},
   "outputs": [],
   "source": []
  },
  {
   "cell_type": "code",
   "execution_count": null,
   "id": "secondary-egyptian",
   "metadata": {},
   "outputs": [],
   "source": []
  },
  {
   "cell_type": "code",
   "execution_count": null,
   "id": "durable-bennett",
   "metadata": {},
   "outputs": [],
   "source": []
  },
  {
   "cell_type": "code",
   "execution_count": null,
   "id": "caroline-fraction",
   "metadata": {},
   "outputs": [],
   "source": []
  },
  {
   "cell_type": "code",
   "execution_count": null,
   "id": "warming-sword",
   "metadata": {},
   "outputs": [],
   "source": [
    "stock_data = data.iloc[-1:].T"
   ]
  },
  {
   "cell_type": "code",
   "execution_count": null,
   "id": "skilled-annex",
   "metadata": {
    "scrolled": true
   },
   "outputs": [],
   "source": [
    "stock_data.index.levels"
   ]
  },
  {
   "cell_type": "code",
   "execution_count": null,
   "id": "technical-european",
   "metadata": {},
   "outputs": [],
   "source": []
  },
  {
   "cell_type": "code",
   "execution_count": null,
   "id": "bizarre-dublin",
   "metadata": {},
   "outputs": [],
   "source": []
  },
  {
   "cell_type": "code",
   "execution_count": null,
   "id": "liked-modeling",
   "metadata": {},
   "outputs": [],
   "source": [
    "stock_data"
   ]
  },
  {
   "cell_type": "code",
   "execution_count": null,
   "id": "junior-surface",
   "metadata": {
    "scrolled": true
   },
   "outputs": [],
   "source": [
    "stock_data.columns.get_level_values(0)"
   ]
  },
  {
   "cell_type": "code",
   "execution_count": null,
   "id": "weird-expense",
   "metadata": {},
   "outputs": [],
   "source": [
    "stock_data.columns"
   ]
  },
  {
   "cell_type": "code",
   "execution_count": null,
   "id": "improving-steering",
   "metadata": {},
   "outputs": [],
   "source": []
  },
  {
   "cell_type": "code",
   "execution_count": null,
   "id": "historical-effectiveness",
   "metadata": {},
   "outputs": [],
   "source": []
  },
  {
   "cell_type": "code",
   "execution_count": null,
   "id": "distributed-kuwait",
   "metadata": {},
   "outputs": [],
   "source": []
  },
  {
   "cell_type": "code",
   "execution_count": null,
   "id": "dutch-strain",
   "metadata": {},
   "outputs": [],
   "source": [
    "data['RSI'] = data.ta.rsi(inplace=True) # Calculate RSI"
   ]
  },
  {
   "cell_type": "code",
   "execution_count": null,
   "id": "recreational-colony",
   "metadata": {},
   "outputs": [],
   "source": []
  },
  {
   "cell_type": "code",
   "execution_count": null,
   "id": "emerging-laugh",
   "metadata": {},
   "outputs": [],
   "source": []
  },
  {
   "cell_type": "code",
   "execution_count": null,
   "id": "accomplished-prospect",
   "metadata": {},
   "outputs": [],
   "source": []
  },
  {
   "cell_type": "code",
   "execution_count": null,
   "id": "enclosed-machine",
   "metadata": {},
   "outputs": [],
   "source": []
  },
  {
   "cell_type": "code",
   "execution_count": null,
   "id": "miniature-genetics",
   "metadata": {},
   "outputs": [],
   "source": []
  },
  {
   "cell_type": "code",
   "execution_count": null,
   "id": "catholic-notification",
   "metadata": {},
   "outputs": [],
   "source": []
  },
  {
   "cell_type": "code",
   "execution_count": null,
   "id": "funded-venice",
   "metadata": {},
   "outputs": [],
   "source": []
  },
  {
   "cell_type": "code",
   "execution_count": null,
   "id": "precise-nothing",
   "metadata": {},
   "outputs": [],
   "source": []
  },
  {
   "cell_type": "code",
   "execution_count": null,
   "id": "integrated-headquarters",
   "metadata": {},
   "outputs": [],
   "source": []
  },
  {
   "cell_type": "code",
   "execution_count": null,
   "id": "intellectual-justice",
   "metadata": {},
   "outputs": [],
   "source": []
  },
  {
   "cell_type": "code",
   "execution_count": null,
   "id": "narrative-fountain",
   "metadata": {
    "scrolled": true
   },
   "outputs": [],
   "source": [
    "data.round().tail()"
   ]
  },
  {
   "cell_type": "code",
   "execution_count": null,
   "id": "angry-lawyer",
   "metadata": {},
   "outputs": [],
   "source": [
    "df = data.iloc[-1:]"
   ]
  },
  {
   "cell_type": "code",
   "execution_count": null,
   "id": "connected-lingerie",
   "metadata": {},
   "outputs": [],
   "source": [
    "df"
   ]
  },
  {
   "cell_type": "code",
   "execution_count": null,
   "id": "popular-construction",
   "metadata": {},
   "outputs": [],
   "source": [
    "df_i = pd.DataFrame()\n",
    "for i in tickers:\n",
    "    print(i)\n",
    "    results = df_i.append(df[i])\n",
    "    results_2 = pd.concat([df[i]], axis=1)"
   ]
  },
  {
   "cell_type": "code",
   "execution_count": null,
   "id": "dramatic-eagle",
   "metadata": {},
   "outputs": [],
   "source": [
    "results"
   ]
  },
  {
   "cell_type": "code",
   "execution_count": null,
   "id": "pressed-reservoir",
   "metadata": {},
   "outputs": [],
   "source": [
    "results_2"
   ]
  },
  {
   "cell_type": "code",
   "execution_count": null,
   "id": "northern-little",
   "metadata": {},
   "outputs": [],
   "source": []
  },
  {
   "cell_type": "code",
   "execution_count": null,
   "id": "pressed-sphere",
   "metadata": {},
   "outputs": [],
   "source": []
  },
  {
   "cell_type": "code",
   "execution_count": null,
   "id": "neural-decimal",
   "metadata": {},
   "outputs": [],
   "source": []
  },
  {
   "cell_type": "code",
   "execution_count": null,
   "id": "starting-fiber",
   "metadata": {},
   "outputs": [],
   "source": []
  },
  {
   "cell_type": "code",
   "execution_count": null,
   "id": "included-compound",
   "metadata": {},
   "outputs": [],
   "source": []
  },
  {
   "cell_type": "code",
   "execution_count": null,
   "id": "corrected-cholesterol",
   "metadata": {},
   "outputs": [],
   "source": [
    "# data['RSI'] = data.ta.rsi(inplace=True) # Calculate RSI\n",
    "# data['SMA'] = data.ta.sma(inplace=True)\n",
    "# data[['MACD_12_26_9', 'MACDh_12_26_9', 'MACDs_12_26_9']] = data.ta.macd(inplace=True)"
   ]
  },
  {
   "cell_type": "code",
   "execution_count": null,
   "id": "essential-infrastructure",
   "metadata": {},
   "outputs": [],
   "source": []
  },
  {
   "cell_type": "code",
   "execution_count": null,
   "id": "champion-addition",
   "metadata": {},
   "outputs": [],
   "source": [
    "# def get_data(tickers):\n",
    "    \n",
    "#     data = yf.download(tickers,  # or pdr.get_data_yahoo(...\n",
    "#             # tickers list or string as well\n",
    "#             # tickers = \"PATH\",\n",
    "\n",
    "#             # use \"period\" instead of start/end\n",
    "#             # valid periods: 1d,5d,1mo,3mo,6mo,1y,2y,5y,10y,ytd,max\n",
    "#             # (optional, default is '1mo')\n",
    "#             period = \"6mo\",\n",
    "\n",
    "#             # fetch data by interval (including intraday if period < 60 days)\n",
    "#             # valid intervals: 1m,2m,5m,15m,30m,60m,90m,1h,1d,5d,1wk,1mo,3mo\n",
    "#             # (optional, default is '1d')\n",
    "#             interval = \"1d\",\n",
    "\n",
    "#             # group by ticker (to access via data['SPY'])\n",
    "#             # (optional, default is 'column')\n",
    "#             group_by = 'ticker',\n",
    "\n",
    "#             # adjust all OHLC automatically\n",
    "#             # (optional, default is False)\n",
    "#             auto_adjust = True,\n",
    "\n",
    "#             # download pre/post regular market hours data\n",
    "#             # (optional, default is False)\n",
    "#             prepost = True,\n",
    "\n",
    "#             # use threads for mass downloading? (True/False/Integer)\n",
    "#             # (optional, default is True)\n",
    "#             threads = True,\n",
    "\n",
    "#             # proxy URL scheme use use when downloading?\n",
    "#             # (optional, default is None)\n",
    "#             proxy = None\n",
    "#         )\n",
    "#     # data['Close'].plot(figsize=(16,8));\n",
    "#     data['RSI'] = data.ta.rsi(inplace=True) # Calculate RSI\n",
    "#     data['SMA'] = data.ta.sma(inplace=True)\n",
    "#     data[['MACD_12_26_9', 'MACDh_12_26_9', 'MACDs_12_26_9']] = data.ta.macd(inplace=True)\n",
    "    \n",
    "#     return data"
   ]
  },
  {
   "cell_type": "code",
   "execution_count": null,
   "id": "upper-arena",
   "metadata": {},
   "outputs": [],
   "source": [
    "data = get_data(stock_symobl).round(2)\n",
    "data"
   ]
  },
  {
   "cell_type": "code",
   "execution_count": null,
   "id": "conservative-client",
   "metadata": {},
   "outputs": [],
   "source": []
  },
  {
   "cell_type": "code",
   "execution_count": null,
   "id": "humanitarian-midwest",
   "metadata": {},
   "outputs": [],
   "source": []
  },
  {
   "cell_type": "code",
   "execution_count": null,
   "id": "instructional-dealer",
   "metadata": {},
   "outputs": [],
   "source": []
  },
  {
   "cell_type": "code",
   "execution_count": null,
   "id": "differential-nirvana",
   "metadata": {},
   "outputs": [],
   "source": [
    "\n",
    "def color_negative_red(val):\n",
    "    color = 'red' if val < 30 else 'green'\n",
    "    return 'color: %s' % color"
   ]
  },
  {
   "cell_type": "code",
   "execution_count": null,
   "id": "moving-parameter",
   "metadata": {},
   "outputs": [],
   "source": [
    "s = data.style.applymap(color_negative_red, subset=['RSI'])"
   ]
  },
  {
   "cell_type": "code",
   "execution_count": null,
   "id": "promotional-action",
   "metadata": {},
   "outputs": [],
   "source": []
  },
  {
   "cell_type": "code",
   "execution_count": null,
   "id": "worldwide-chest",
   "metadata": {},
   "outputs": [],
   "source": [
    "import schedule\n",
    "import time\n",
    "\n",
    "def job():\n",
    "    data = get_data(stock_symobl)\n",
    "    # data['Close'].plot(figsize=(16,8));\n",
    "\n",
    "# schedule.every(1).seconds.do(job)\n",
    "schedule.every(1).seconds.do(job)\n",
    "# schedule.every().hour.do(job)\n",
    "# schedule.every().day.at(\"10:30\").do(job)\n",
    "# schedule.every(5).to(10).minutes.do(job)\n",
    "# schedule.every().monday.do(job)\n",
    "# schedule.every().wednesday.at(\"13:15\").do(job)\n",
    "# schedule.every().minute.at(\":17\").do(job)\n",
    "\n",
    "while True:\n",
    "    schedule.run_pending()\n",
    "    time.sleep(1)"
   ]
  },
  {
   "cell_type": "code",
   "execution_count": null,
   "id": "random-magic",
   "metadata": {},
   "outputs": [],
   "source": []
  },
  {
   "cell_type": "code",
   "execution_count": null,
   "id": "surface-collar",
   "metadata": {},
   "outputs": [],
   "source": [
    "# API = '9R2V38OOYMP02MHZ'\n",
    "# ti = TechIndicators(key=API, output_format='pandas')\n",
    "# data = ti.get_rsi(symbol=stock_symobl,\n",
    "#                   interval='daily',\n",
    "#                   time_period=14,\n",
    "#                   series_type='close')\n",
    "\n",
    "# data"
   ]
  },
  {
   "cell_type": "code",
   "execution_count": null,
   "id": "statewide-empire",
   "metadata": {},
   "outputs": [],
   "source": [
    "# # Skip first 14 days to have real values\n",
    "\n",
    "# hist = hist.iloc[14:]\n",
    "\n",
    "# print(hist)\n",
    "# fig, (ax1, ax2) = plt.subplots(2)\n",
    "# ax1.get_xaxis().set_visible(False)\n",
    "# fig.suptitle(f'{stock_symobl}')\n",
    "\n",
    "# hist['Close'].plot(ax=ax1)\n",
    "# ax1.set_ylabel('Price ($)')\n",
    "# hist['RSI'].plot(ax=ax2)\n",
    "# ax2.set_ylim(0,100)\n",
    "# ax2.axhline(30, color='r', linestyle='--')\n",
    "# ax2.axhline(70, color='r', linestyle='--')\n",
    "# ax2.set_ylabel('RSI')\n",
    "\n",
    "# plt.show()"
   ]
  },
  {
   "cell_type": "code",
   "execution_count": null,
   "id": "funny-journalist",
   "metadata": {},
   "outputs": [],
   "source": [
    "# ti = TechIndicators(key='9R2V38OOYMP02MHZ', output_format='pandas')"
   ]
  },
  {
   "cell_type": "code",
   "execution_count": null,
   "id": "opening-tablet",
   "metadata": {},
   "outputs": [],
   "source": [
    "# data, meta_data = ti.get_rsi(symbol=stock_symobl,\n",
    "#                              interval='daily',\n",
    "#                              time_period=14,\n",
    "#                              series_type='close')\n",
    "# data.plot()\n",
    "# plt.title(f'RSI indicator for {stock_symobl} stock')\n",
    "# plt.show()"
   ]
  }
 ],
 "metadata": {
  "kernelspec": {
   "display_name": "Python 3",
   "language": "python",
   "name": "python3"
  },
  "language_info": {
   "codemirror_mode": {
    "name": "ipython",
    "version": 3
   },
   "file_extension": ".py",
   "mimetype": "text/x-python",
   "name": "python",
   "nbconvert_exporter": "python",
   "pygments_lexer": "ipython3",
   "version": "3.7.6"
  }
 },
 "nbformat": 4,
 "nbformat_minor": 5
}
