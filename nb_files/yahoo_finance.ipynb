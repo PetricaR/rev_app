{
 "cells": [
  {
   "cell_type": "code",
   "execution_count": 191,
   "id": "neither-scholarship",
   "metadata": {
    "scrolled": false
   },
   "outputs": [],
   "source": [
    "import yfinance as yf\n",
    "import pandas as pd\n",
    "import pandas_datareader as pdr\n",
    "import datetime as dt\n",
    "import matplotlib.pyplot as plt\n",
    "from alpha_vantage.techindicators import TechIndicators\n",
    "import matplotlib.pyplot as plt\n",
    "import pandas_ta as ta\n",
    "pd.options.mode.chained_assignment = None  # default='warn'\n",
    "\n",
    "%matplotlib inline"
   ]
  },
  {
   "cell_type": "code",
   "execution_count": 219,
   "id": "laden-naples",
   "metadata": {},
   "outputs": [],
   "source": [
    "tickers = ['TSLA', 'DISCA', 'PATH']"
   ]
  },
  {
   "cell_type": "code",
   "execution_count": 220,
   "id": "portable-election",
   "metadata": {
    "scrolled": true
   },
   "outputs": [
    {
     "name": "stdout",
     "output_type": "stream",
     "text": [
      "[*********************100%***********************]  3 of 3 completed\n"
     ]
    }
   ],
   "source": [
    "data = yf.download(tickers,  # or pdr.get_data_yahoo(...\n",
    "            # tickers list or string as well\n",
    "            # tickers = \"PATH\",\n",
    "\n",
    "            # use \"period\" instead of start/end\n",
    "            # valid periods: 1d,5d,1mo,3mo,6mo,1y,2y,5y,10y,ytd,max\n",
    "            # (optional, default is '1mo')\n",
    "            period = \"6mo\",\n",
    "\n",
    "            # fetch data by interval (including intraday if period < 60 days)\n",
    "            # valid intervals: 1m,2m,5m,15m,30m,60m,90m,1h,1d,5d,1wk,1mo,3mo\n",
    "            # (optional, default is '1d')\n",
    "            interval = \"1d\",\n",
    "\n",
    "            # group by ticker (to access via data['SPY'])\n",
    "            # (optional, default is 'column')\n",
    "            group_by = 'ticker',\n",
    "\n",
    "            # adjust all OHLC automatically\n",
    "            # (optional, default is False)\n",
    "            auto_adjust = True,\n",
    "\n",
    "            # download pre/post regular market hours data\n",
    "            # (optional, default is False)\n",
    "            prepost = True,\n",
    "\n",
    "            # use threads for mass downloading? (True/False/Integer)\n",
    "            # (optional, default is True)\n",
    "            threads = True,\n",
    "\n",
    "            # proxy URL scheme use use when downloading?\n",
    "            # (optional, default is None)\n",
    "            proxy = None\n",
    "        )"
   ]
  },
  {
   "cell_type": "code",
   "execution_count": 221,
   "id": "innovative-terminal",
   "metadata": {},
   "outputs": [
    {
     "data": {
      "text/plain": [
       "124"
      ]
     },
     "execution_count": 221,
     "metadata": {},
     "output_type": "execute_result"
    }
   ],
   "source": [
    "len(df)"
   ]
  },
  {
   "cell_type": "code",
   "execution_count": 222,
   "id": "detected-following",
   "metadata": {
    "scrolled": true
   },
   "outputs": [
    {
     "data": {
      "text/html": [
       "<div>\n",
       "<style scoped>\n",
       "    .dataframe tbody tr th:only-of-type {\n",
       "        vertical-align: middle;\n",
       "    }\n",
       "\n",
       "    .dataframe tbody tr th {\n",
       "        vertical-align: top;\n",
       "    }\n",
       "\n",
       "    .dataframe thead tr th {\n",
       "        text-align: left;\n",
       "    }\n",
       "\n",
       "    .dataframe thead tr:last-of-type th {\n",
       "        text-align: right;\n",
       "    }\n",
       "</style>\n",
       "<table border=\"1\" class=\"dataframe\">\n",
       "  <thead>\n",
       "    <tr>\n",
       "      <th></th>\n",
       "      <th colspan=\"5\" halign=\"left\">PATH</th>\n",
       "      <th colspan=\"5\" halign=\"left\">DISCA</th>\n",
       "      <th colspan=\"5\" halign=\"left\">TSLA</th>\n",
       "    </tr>\n",
       "    <tr>\n",
       "      <th></th>\n",
       "      <th>Open</th>\n",
       "      <th>High</th>\n",
       "      <th>Low</th>\n",
       "      <th>Close</th>\n",
       "      <th>Volume</th>\n",
       "      <th>Open</th>\n",
       "      <th>High</th>\n",
       "      <th>Low</th>\n",
       "      <th>Close</th>\n",
       "      <th>Volume</th>\n",
       "      <th>Open</th>\n",
       "      <th>High</th>\n",
       "      <th>Low</th>\n",
       "      <th>Close</th>\n",
       "      <th>Volume</th>\n",
       "    </tr>\n",
       "    <tr>\n",
       "      <th>Date</th>\n",
       "      <th></th>\n",
       "      <th></th>\n",
       "      <th></th>\n",
       "      <th></th>\n",
       "      <th></th>\n",
       "      <th></th>\n",
       "      <th></th>\n",
       "      <th></th>\n",
       "      <th></th>\n",
       "      <th></th>\n",
       "      <th></th>\n",
       "      <th></th>\n",
       "      <th></th>\n",
       "      <th></th>\n",
       "      <th></th>\n",
       "    </tr>\n",
       "  </thead>\n",
       "  <tbody>\n",
       "    <tr>\n",
       "      <th>2021-06-14</th>\n",
       "      <td>71.980003</td>\n",
       "      <td>72.029999</td>\n",
       "      <td>68.910004</td>\n",
       "      <td>69.800003</td>\n",
       "      <td>3666500.0</td>\n",
       "      <td>30.959999</td>\n",
       "      <td>31.480000</td>\n",
       "      <td>30.660000</td>\n",
       "      <td>30.820000</td>\n",
       "      <td>5182600</td>\n",
       "      <td>612.229980</td>\n",
       "      <td>625.489990</td>\n",
       "      <td>609.179993</td>\n",
       "      <td>617.690002</td>\n",
       "      <td>20424000</td>\n",
       "    </tr>\n",
       "    <tr>\n",
       "      <th>2021-06-15</th>\n",
       "      <td>69.510002</td>\n",
       "      <td>72.400002</td>\n",
       "      <td>69.370003</td>\n",
       "      <td>70.000000</td>\n",
       "      <td>4126400.0</td>\n",
       "      <td>30.820000</td>\n",
       "      <td>31.530001</td>\n",
       "      <td>30.049999</td>\n",
       "      <td>30.070000</td>\n",
       "      <td>6912600</td>\n",
       "      <td>616.690002</td>\n",
       "      <td>616.789978</td>\n",
       "      <td>598.229980</td>\n",
       "      <td>599.359985</td>\n",
       "      <td>17764100</td>\n",
       "    </tr>\n",
       "    <tr>\n",
       "      <th>2021-06-16</th>\n",
       "      <td>69.000000</td>\n",
       "      <td>70.000000</td>\n",
       "      <td>67.800003</td>\n",
       "      <td>69.769997</td>\n",
       "      <td>4769900.0</td>\n",
       "      <td>30.020000</td>\n",
       "      <td>30.590000</td>\n",
       "      <td>29.540001</td>\n",
       "      <td>30.459999</td>\n",
       "      <td>7134200</td>\n",
       "      <td>597.539978</td>\n",
       "      <td>608.500000</td>\n",
       "      <td>593.500000</td>\n",
       "      <td>604.869995</td>\n",
       "      <td>22144100</td>\n",
       "    </tr>\n",
       "    <tr>\n",
       "      <th>2021-06-17</th>\n",
       "      <td>68.500000</td>\n",
       "      <td>70.919998</td>\n",
       "      <td>68.099998</td>\n",
       "      <td>70.000000</td>\n",
       "      <td>3835000.0</td>\n",
       "      <td>30.320000</td>\n",
       "      <td>30.490000</td>\n",
       "      <td>29.340000</td>\n",
       "      <td>29.410000</td>\n",
       "      <td>7729000</td>\n",
       "      <td>601.890015</td>\n",
       "      <td>621.469971</td>\n",
       "      <td>601.340027</td>\n",
       "      <td>616.599976</td>\n",
       "      <td>22701400</td>\n",
       "    </tr>\n",
       "    <tr>\n",
       "      <th>2021-06-18</th>\n",
       "      <td>69.699997</td>\n",
       "      <td>70.400002</td>\n",
       "      <td>69.080002</td>\n",
       "      <td>69.750000</td>\n",
       "      <td>3173400.0</td>\n",
       "      <td>29.260000</td>\n",
       "      <td>29.500000</td>\n",
       "      <td>28.889999</td>\n",
       "      <td>29.080000</td>\n",
       "      <td>10221300</td>\n",
       "      <td>613.369995</td>\n",
       "      <td>628.349976</td>\n",
       "      <td>611.799988</td>\n",
       "      <td>623.309998</td>\n",
       "      <td>24528400</td>\n",
       "    </tr>\n",
       "  </tbody>\n",
       "</table>\n",
       "</div>"
      ],
      "text/plain": [
       "                 PATH                                                  DISCA  \\\n",
       "                 Open       High        Low      Close     Volume       Open   \n",
       "Date                                                                           \n",
       "2021-06-14  71.980003  72.029999  68.910004  69.800003  3666500.0  30.959999   \n",
       "2021-06-15  69.510002  72.400002  69.370003  70.000000  4126400.0  30.820000   \n",
       "2021-06-16  69.000000  70.000000  67.800003  69.769997  4769900.0  30.020000   \n",
       "2021-06-17  68.500000  70.919998  68.099998  70.000000  3835000.0  30.320000   \n",
       "2021-06-18  69.699997  70.400002  69.080002  69.750000  3173400.0  29.260000   \n",
       "\n",
       "                                                             TSLA              \\\n",
       "                 High        Low      Close    Volume        Open        High   \n",
       "Date                                                                            \n",
       "2021-06-14  31.480000  30.660000  30.820000   5182600  612.229980  625.489990   \n",
       "2021-06-15  31.530001  30.049999  30.070000   6912600  616.690002  616.789978   \n",
       "2021-06-16  30.590000  29.540001  30.459999   7134200  597.539978  608.500000   \n",
       "2021-06-17  30.490000  29.340000  29.410000   7729000  601.890015  621.469971   \n",
       "2021-06-18  29.500000  28.889999  29.080000  10221300  613.369995  628.349976   \n",
       "\n",
       "                                              \n",
       "                   Low       Close    Volume  \n",
       "Date                                          \n",
       "2021-06-14  609.179993  617.690002  20424000  \n",
       "2021-06-15  598.229980  599.359985  17764100  \n",
       "2021-06-16  593.500000  604.869995  22144100  \n",
       "2021-06-17  601.340027  616.599976  22701400  \n",
       "2021-06-18  611.799988  623.309998  24528400  "
      ]
     },
     "execution_count": 222,
     "metadata": {},
     "output_type": "execute_result"
    }
   ],
   "source": [
    "df = data.copy()\n",
    "df.tail()"
   ]
  },
  {
   "cell_type": "code",
   "execution_count": 223,
   "id": "corrected-poker",
   "metadata": {},
   "outputs": [
    {
     "data": {
      "text/plain": [
       "124"
      ]
     },
     "execution_count": 223,
     "metadata": {},
     "output_type": "execute_result"
    }
   ],
   "source": [
    "len(df)"
   ]
  },
  {
   "cell_type": "code",
   "execution_count": 224,
   "id": "structural-tension",
   "metadata": {},
   "outputs": [],
   "source": [
    "for stock in tickers:\n",
    "    df[f'RSI_{stock}'] = df[stock].ta.rsi(inplace=True)\n",
    "    df.filter(like='RSI').iloc[-1:].T"
   ]
  },
  {
   "cell_type": "code",
   "execution_count": 225,
   "id": "worst-benefit",
   "metadata": {
    "scrolled": true
   },
   "outputs": [
    {
     "data": {
      "text/html": [
       "<div>\n",
       "<style scoped>\n",
       "    .dataframe tbody tr th:only-of-type {\n",
       "        vertical-align: middle;\n",
       "    }\n",
       "\n",
       "    .dataframe tbody tr th {\n",
       "        vertical-align: top;\n",
       "    }\n",
       "\n",
       "    .dataframe thead tr th {\n",
       "        text-align: left;\n",
       "    }\n",
       "\n",
       "    .dataframe thead tr:last-of-type th {\n",
       "        text-align: right;\n",
       "    }\n",
       "</style>\n",
       "<table border=\"1\" class=\"dataframe\">\n",
       "  <thead>\n",
       "    <tr>\n",
       "      <th></th>\n",
       "      <th colspan=\"5\" halign=\"left\">PATH</th>\n",
       "      <th colspan=\"5\" halign=\"left\">DISCA</th>\n",
       "      <th colspan=\"5\" halign=\"left\">TSLA</th>\n",
       "      <th>RSI_TSLA</th>\n",
       "      <th>RSI_DISCA</th>\n",
       "      <th>RSI_PATH</th>\n",
       "    </tr>\n",
       "    <tr>\n",
       "      <th></th>\n",
       "      <th>Open</th>\n",
       "      <th>High</th>\n",
       "      <th>Low</th>\n",
       "      <th>Close</th>\n",
       "      <th>Volume</th>\n",
       "      <th>Open</th>\n",
       "      <th>High</th>\n",
       "      <th>Low</th>\n",
       "      <th>Close</th>\n",
       "      <th>Volume</th>\n",
       "      <th>Open</th>\n",
       "      <th>High</th>\n",
       "      <th>Low</th>\n",
       "      <th>Close</th>\n",
       "      <th>Volume</th>\n",
       "      <th></th>\n",
       "      <th></th>\n",
       "      <th></th>\n",
       "    </tr>\n",
       "    <tr>\n",
       "      <th>date</th>\n",
       "      <th></th>\n",
       "      <th></th>\n",
       "      <th></th>\n",
       "      <th></th>\n",
       "      <th></th>\n",
       "      <th></th>\n",
       "      <th></th>\n",
       "      <th></th>\n",
       "      <th></th>\n",
       "      <th></th>\n",
       "      <th></th>\n",
       "      <th></th>\n",
       "      <th></th>\n",
       "      <th></th>\n",
       "      <th></th>\n",
       "      <th></th>\n",
       "      <th></th>\n",
       "      <th></th>\n",
       "    </tr>\n",
       "  </thead>\n",
       "  <tbody>\n",
       "    <tr>\n",
       "      <th>2020-12-21</th>\n",
       "      <td>NaN</td>\n",
       "      <td>NaN</td>\n",
       "      <td>NaN</td>\n",
       "      <td>NaN</td>\n",
       "      <td>NaN</td>\n",
       "      <td>27.360001</td>\n",
       "      <td>27.600000</td>\n",
       "      <td>26.870001</td>\n",
       "      <td>27.370001</td>\n",
       "      <td>9440200</td>\n",
       "      <td>666.239990</td>\n",
       "      <td>668.500000</td>\n",
       "      <td>646.070007</td>\n",
       "      <td>649.859985</td>\n",
       "      <td>58045300</td>\n",
       "      <td>NaN</td>\n",
       "      <td>NaN</td>\n",
       "      <td>NaN</td>\n",
       "    </tr>\n",
       "    <tr>\n",
       "      <th>2020-12-22</th>\n",
       "      <td>NaN</td>\n",
       "      <td>NaN</td>\n",
       "      <td>NaN</td>\n",
       "      <td>NaN</td>\n",
       "      <td>NaN</td>\n",
       "      <td>27.559999</td>\n",
       "      <td>27.620001</td>\n",
       "      <td>26.920000</td>\n",
       "      <td>27.209999</td>\n",
       "      <td>5403400</td>\n",
       "      <td>648.000000</td>\n",
       "      <td>649.880005</td>\n",
       "      <td>614.229980</td>\n",
       "      <td>640.340027</td>\n",
       "      <td>51716000</td>\n",
       "      <td>NaN</td>\n",
       "      <td>NaN</td>\n",
       "      <td>NaN</td>\n",
       "    </tr>\n",
       "    <tr>\n",
       "      <th>2020-12-23</th>\n",
       "      <td>NaN</td>\n",
       "      <td>NaN</td>\n",
       "      <td>NaN</td>\n",
       "      <td>NaN</td>\n",
       "      <td>NaN</td>\n",
       "      <td>27.400000</td>\n",
       "      <td>28.459999</td>\n",
       "      <td>27.320000</td>\n",
       "      <td>28.260000</td>\n",
       "      <td>5542200</td>\n",
       "      <td>632.200012</td>\n",
       "      <td>651.500000</td>\n",
       "      <td>622.570007</td>\n",
       "      <td>645.979980</td>\n",
       "      <td>33173000</td>\n",
       "      <td>NaN</td>\n",
       "      <td>NaN</td>\n",
       "      <td>NaN</td>\n",
       "    </tr>\n",
       "    <tr>\n",
       "      <th>2020-12-24</th>\n",
       "      <td>NaN</td>\n",
       "      <td>NaN</td>\n",
       "      <td>NaN</td>\n",
       "      <td>NaN</td>\n",
       "      <td>NaN</td>\n",
       "      <td>28.290001</td>\n",
       "      <td>28.730000</td>\n",
       "      <td>27.969999</td>\n",
       "      <td>28.570000</td>\n",
       "      <td>3471600</td>\n",
       "      <td>642.989990</td>\n",
       "      <td>666.090027</td>\n",
       "      <td>641.000000</td>\n",
       "      <td>661.770020</td>\n",
       "      <td>22865600</td>\n",
       "      <td>NaN</td>\n",
       "      <td>NaN</td>\n",
       "      <td>NaN</td>\n",
       "    </tr>\n",
       "    <tr>\n",
       "      <th>2020-12-28</th>\n",
       "      <td>NaN</td>\n",
       "      <td>NaN</td>\n",
       "      <td>NaN</td>\n",
       "      <td>NaN</td>\n",
       "      <td>NaN</td>\n",
       "      <td>28.709999</td>\n",
       "      <td>29.469999</td>\n",
       "      <td>28.309999</td>\n",
       "      <td>29.450001</td>\n",
       "      <td>5020500</td>\n",
       "      <td>674.510010</td>\n",
       "      <td>681.400024</td>\n",
       "      <td>660.799988</td>\n",
       "      <td>663.690002</td>\n",
       "      <td>32278600</td>\n",
       "      <td>NaN</td>\n",
       "      <td>NaN</td>\n",
       "      <td>NaN</td>\n",
       "    </tr>\n",
       "    <tr>\n",
       "      <th>...</th>\n",
       "      <td>...</td>\n",
       "      <td>...</td>\n",
       "      <td>...</td>\n",
       "      <td>...</td>\n",
       "      <td>...</td>\n",
       "      <td>...</td>\n",
       "      <td>...</td>\n",
       "      <td>...</td>\n",
       "      <td>...</td>\n",
       "      <td>...</td>\n",
       "      <td>...</td>\n",
       "      <td>...</td>\n",
       "      <td>...</td>\n",
       "      <td>...</td>\n",
       "      <td>...</td>\n",
       "      <td>...</td>\n",
       "      <td>...</td>\n",
       "      <td>...</td>\n",
       "    </tr>\n",
       "    <tr>\n",
       "      <th>2021-06-14</th>\n",
       "      <td>71.980003</td>\n",
       "      <td>72.029999</td>\n",
       "      <td>68.910004</td>\n",
       "      <td>69.800003</td>\n",
       "      <td>3666500.0</td>\n",
       "      <td>30.959999</td>\n",
       "      <td>31.480000</td>\n",
       "      <td>30.660000</td>\n",
       "      <td>30.820000</td>\n",
       "      <td>5182600</td>\n",
       "      <td>612.229980</td>\n",
       "      <td>625.489990</td>\n",
       "      <td>609.179993</td>\n",
       "      <td>617.690002</td>\n",
       "      <td>20424000</td>\n",
       "      <td>49.955083</td>\n",
       "      <td>35.111632</td>\n",
       "      <td>43.817418</td>\n",
       "    </tr>\n",
       "    <tr>\n",
       "      <th>2021-06-15</th>\n",
       "      <td>69.510002</td>\n",
       "      <td>72.400002</td>\n",
       "      <td>69.370003</td>\n",
       "      <td>70.000000</td>\n",
       "      <td>4126400.0</td>\n",
       "      <td>30.820000</td>\n",
       "      <td>31.530001</td>\n",
       "      <td>30.049999</td>\n",
       "      <td>30.070000</td>\n",
       "      <td>6912600</td>\n",
       "      <td>616.690002</td>\n",
       "      <td>616.789978</td>\n",
       "      <td>598.229980</td>\n",
       "      <td>599.359985</td>\n",
       "      <td>17764100</td>\n",
       "      <td>44.879661</td>\n",
       "      <td>32.056433</td>\n",
       "      <td>44.107055</td>\n",
       "    </tr>\n",
       "    <tr>\n",
       "      <th>2021-06-16</th>\n",
       "      <td>69.000000</td>\n",
       "      <td>70.000000</td>\n",
       "      <td>67.800003</td>\n",
       "      <td>69.769997</td>\n",
       "      <td>4769900.0</td>\n",
       "      <td>30.020000</td>\n",
       "      <td>30.590000</td>\n",
       "      <td>29.540001</td>\n",
       "      <td>30.459999</td>\n",
       "      <td>7134200</td>\n",
       "      <td>597.539978</td>\n",
       "      <td>608.500000</td>\n",
       "      <td>593.500000</td>\n",
       "      <td>604.869995</td>\n",
       "      <td>22144100</td>\n",
       "      <td>46.634852</td>\n",
       "      <td>35.213338</td>\n",
       "      <td>43.827227</td>\n",
       "    </tr>\n",
       "    <tr>\n",
       "      <th>2021-06-17</th>\n",
       "      <td>68.500000</td>\n",
       "      <td>70.919998</td>\n",
       "      <td>68.099998</td>\n",
       "      <td>70.000000</td>\n",
       "      <td>3835000.0</td>\n",
       "      <td>30.320000</td>\n",
       "      <td>30.490000</td>\n",
       "      <td>29.340000</td>\n",
       "      <td>29.410000</td>\n",
       "      <td>7729000</td>\n",
       "      <td>601.890015</td>\n",
       "      <td>621.469971</td>\n",
       "      <td>601.340027</td>\n",
       "      <td>616.599976</td>\n",
       "      <td>22701400</td>\n",
       "      <td>50.265623</td>\n",
       "      <td>31.032701</td>\n",
       "      <td>44.208412</td>\n",
       "    </tr>\n",
       "    <tr>\n",
       "      <th>2021-06-18</th>\n",
       "      <td>69.699997</td>\n",
       "      <td>70.400002</td>\n",
       "      <td>69.080002</td>\n",
       "      <td>69.750000</td>\n",
       "      <td>3173400.0</td>\n",
       "      <td>29.260000</td>\n",
       "      <td>29.500000</td>\n",
       "      <td>28.889999</td>\n",
       "      <td>29.080000</td>\n",
       "      <td>10221300</td>\n",
       "      <td>613.369995</td>\n",
       "      <td>628.349976</td>\n",
       "      <td>611.799988</td>\n",
       "      <td>623.309998</td>\n",
       "      <td>24528400</td>\n",
       "      <td>52.266302</td>\n",
       "      <td>29.833880</td>\n",
       "      <td>43.860019</td>\n",
       "    </tr>\n",
       "  </tbody>\n",
       "</table>\n",
       "<p>124 rows × 18 columns</p>\n",
       "</div>"
      ],
      "text/plain": [
       "                 PATH                                                  DISCA  \\\n",
       "                 Open       High        Low      Close     Volume       Open   \n",
       "date                                                                           \n",
       "2020-12-21        NaN        NaN        NaN        NaN        NaN  27.360001   \n",
       "2020-12-22        NaN        NaN        NaN        NaN        NaN  27.559999   \n",
       "2020-12-23        NaN        NaN        NaN        NaN        NaN  27.400000   \n",
       "2020-12-24        NaN        NaN        NaN        NaN        NaN  28.290001   \n",
       "2020-12-28        NaN        NaN        NaN        NaN        NaN  28.709999   \n",
       "...               ...        ...        ...        ...        ...        ...   \n",
       "2021-06-14  71.980003  72.029999  68.910004  69.800003  3666500.0  30.959999   \n",
       "2021-06-15  69.510002  72.400002  69.370003  70.000000  4126400.0  30.820000   \n",
       "2021-06-16  69.000000  70.000000  67.800003  69.769997  4769900.0  30.020000   \n",
       "2021-06-17  68.500000  70.919998  68.099998  70.000000  3835000.0  30.320000   \n",
       "2021-06-18  69.699997  70.400002  69.080002  69.750000  3173400.0  29.260000   \n",
       "\n",
       "                                                             TSLA              \\\n",
       "                 High        Low      Close    Volume        Open        High   \n",
       "date                                                                            \n",
       "2020-12-21  27.600000  26.870001  27.370001   9440200  666.239990  668.500000   \n",
       "2020-12-22  27.620001  26.920000  27.209999   5403400  648.000000  649.880005   \n",
       "2020-12-23  28.459999  27.320000  28.260000   5542200  632.200012  651.500000   \n",
       "2020-12-24  28.730000  27.969999  28.570000   3471600  642.989990  666.090027   \n",
       "2020-12-28  29.469999  28.309999  29.450001   5020500  674.510010  681.400024   \n",
       "...               ...        ...        ...       ...         ...         ...   \n",
       "2021-06-14  31.480000  30.660000  30.820000   5182600  612.229980  625.489990   \n",
       "2021-06-15  31.530001  30.049999  30.070000   6912600  616.690002  616.789978   \n",
       "2021-06-16  30.590000  29.540001  30.459999   7134200  597.539978  608.500000   \n",
       "2021-06-17  30.490000  29.340000  29.410000   7729000  601.890015  621.469971   \n",
       "2021-06-18  29.500000  28.889999  29.080000  10221300  613.369995  628.349976   \n",
       "\n",
       "                                               RSI_TSLA  RSI_DISCA   RSI_PATH  \n",
       "                   Low       Close    Volume                                   \n",
       "date                                                                           \n",
       "2020-12-21  646.070007  649.859985  58045300        NaN        NaN        NaN  \n",
       "2020-12-22  614.229980  640.340027  51716000        NaN        NaN        NaN  \n",
       "2020-12-23  622.570007  645.979980  33173000        NaN        NaN        NaN  \n",
       "2020-12-24  641.000000  661.770020  22865600        NaN        NaN        NaN  \n",
       "2020-12-28  660.799988  663.690002  32278600        NaN        NaN        NaN  \n",
       "...                ...         ...       ...        ...        ...        ...  \n",
       "2021-06-14  609.179993  617.690002  20424000  49.955083  35.111632  43.817418  \n",
       "2021-06-15  598.229980  599.359985  17764100  44.879661  32.056433  44.107055  \n",
       "2021-06-16  593.500000  604.869995  22144100  46.634852  35.213338  43.827227  \n",
       "2021-06-17  601.340027  616.599976  22701400  50.265623  31.032701  44.208412  \n",
       "2021-06-18  611.799988  623.309998  24528400  52.266302  29.833880  43.860019  \n",
       "\n",
       "[124 rows x 18 columns]"
      ]
     },
     "execution_count": 225,
     "metadata": {},
     "output_type": "execute_result"
    }
   ],
   "source": [
    "df"
   ]
  },
  {
   "cell_type": "code",
   "execution_count": 229,
   "id": "substantial-central",
   "metadata": {},
   "outputs": [],
   "source": [
    "dff = df.filter(like='RSI').iloc[-1:].T"
   ]
  },
  {
   "cell_type": "code",
   "execution_count": 232,
   "id": "considered-witch",
   "metadata": {},
   "outputs": [
    {
     "data": {
      "text/plain": [
       "3"
      ]
     },
     "execution_count": 232,
     "metadata": {},
     "output_type": "execute_result"
    }
   ],
   "source": [
    "len(dff.index)"
   ]
  },
  {
   "cell_type": "code",
   "execution_count": null,
   "id": "liable-sunday",
   "metadata": {},
   "outputs": [],
   "source": []
  },
  {
   "cell_type": "code",
   "execution_count": 226,
   "id": "controlling-paint",
   "metadata": {},
   "outputs": [],
   "source": [
    "# # Skip first 14 days to have real values\n",
    "\n",
    "# hist = hist.iloc[14:]\n",
    "\n",
    "# print(hist)\n",
    "# fig, (ax1, ax2) = plt.subplots(2)\n",
    "# ax1.get_xaxis().set_visible(False)\n",
    "# fig.suptitle(f'{stock_symobl}')\n",
    "\n",
    "# hist['Close'].plot(ax=ax1)\n",
    "# ax1.set_ylabel('Price ($)')\n",
    "# hist['RSI'].plot(ax=ax2)\n",
    "# ax2.set_ylim(0,100)\n",
    "# ax2.axhline(30, color='r', linestyle='--')\n",
    "# ax2.axhline(70, color='r', linestyle='--')\n",
    "# ax2.set_ylabel('RSI')\n",
    "\n",
    "# plt.show()"
   ]
  },
  {
   "cell_type": "code",
   "execution_count": 227,
   "id": "universal-subscription",
   "metadata": {},
   "outputs": [],
   "source": [
    "# ti = TechIndicators(key='9R2V38OOYMP02MHZ', output_format='pandas')"
   ]
  },
  {
   "cell_type": "code",
   "execution_count": 228,
   "id": "bigger-madrid",
   "metadata": {},
   "outputs": [],
   "source": [
    "# data, meta_data = ti.get_rsi(symbol=stock_symobl,\n",
    "#                              interval='daily',\n",
    "#                              time_period=14,\n",
    "#                              series_type='close')\n",
    "# data.plot()\n",
    "# plt.title(f'RSI indicator for {stock_symobl} stock')\n",
    "# plt.show()"
   ]
  },
  {
   "cell_type": "code",
   "execution_count": 216,
   "id": "reliable-imaging",
   "metadata": {},
   "outputs": [],
   "source": []
  },
  {
   "cell_type": "code",
   "execution_count": 218,
   "id": "breathing-collectible",
   "metadata": {},
   "outputs": [
    {
     "data": {
      "text/html": [
       "<div>\n",
       "<style scoped>\n",
       "    .dataframe tbody tr th:only-of-type {\n",
       "        vertical-align: middle;\n",
       "    }\n",
       "\n",
       "    .dataframe tbody tr th {\n",
       "        vertical-align: top;\n",
       "    }\n",
       "\n",
       "    .dataframe thead th {\n",
       "        text-align: right;\n",
       "    }\n",
       "</style>\n",
       "<table border=\"1\" class=\"dataframe\">\n",
       "  <thead>\n",
       "    <tr style=\"text-align: right;\">\n",
       "      <th></th>\n",
       "      <th>Date</th>\n",
       "      <th>2021-06-18</th>\n",
       "    </tr>\n",
       "  </thead>\n",
       "  <tbody>\n",
       "  </tbody>\n",
       "</table>\n",
       "</div>"
      ],
      "text/plain": [
       "Empty DataFrame\n",
       "Columns: [2021-06-18 00:00:00]\n",
       "Index: []"
      ]
     },
     "execution_count": 218,
     "metadata": {},
     "output_type": "execute_result"
    }
   ],
   "source": [
    "dff"
   ]
  },
  {
   "cell_type": "code",
   "execution_count": 217,
   "id": "green-knock",
   "metadata": {},
   "outputs": [
    {
     "data": {
      "text/plain": [
       "0"
      ]
     },
     "execution_count": 217,
     "metadata": {},
     "output_type": "execute_result"
    }
   ],
   "source": [
    "len(dff)"
   ]
  },
  {
   "cell_type": "code",
   "execution_count": null,
   "id": "permanent-camping",
   "metadata": {},
   "outputs": [],
   "source": []
  },
  {
   "cell_type": "code",
   "execution_count": 207,
   "id": "attached-brook",
   "metadata": {},
   "outputs": [
    {
     "data": {
      "text/plain": [
       "date\n",
       "2020-12-21    649.859985\n",
       "2020-12-22    640.340027\n",
       "2020-12-23    645.979980\n",
       "2020-12-24    661.770020\n",
       "2020-12-28    663.690002\n",
       "                 ...    \n",
       "2021-06-14    617.690002\n",
       "2021-06-15    599.359985\n",
       "2021-06-16    604.869995\n",
       "2021-06-17    616.599976\n",
       "2021-06-18    623.309998\n",
       "Name: Close, Length: 124, dtype: float64"
      ]
     },
     "execution_count": 207,
     "metadata": {},
     "output_type": "execute_result"
    }
   ],
   "source": [
    "df['TSLA']['Close']"
   ]
  },
  {
   "cell_type": "code",
   "execution_count": null,
   "id": "steady-appeal",
   "metadata": {},
   "outputs": [],
   "source": []
  },
  {
   "cell_type": "code",
   "execution_count": null,
   "id": "south-bikini",
   "metadata": {},
   "outputs": [],
   "source": []
  },
  {
   "cell_type": "code",
   "execution_count": null,
   "id": "occupational-trial",
   "metadata": {},
   "outputs": [],
   "source": []
  },
  {
   "cell_type": "code",
   "execution_count": 197,
   "id": "recovered-struggle",
   "metadata": {},
   "outputs": [],
   "source": [
    "df1 = df.iloc[-1]"
   ]
  },
  {
   "cell_type": "code",
   "execution_count": 198,
   "id": "fifth-pickup",
   "metadata": {},
   "outputs": [],
   "source": [
    "df2 = df1.unstack().round(2)"
   ]
  },
  {
   "cell_type": "code",
   "execution_count": 201,
   "id": "stone-opera",
   "metadata": {},
   "outputs": [
    {
     "data": {
      "text/html": [
       "<div>\n",
       "<style scoped>\n",
       "    .dataframe tbody tr th:only-of-type {\n",
       "        vertical-align: middle;\n",
       "    }\n",
       "\n",
       "    .dataframe tbody tr th {\n",
       "        vertical-align: top;\n",
       "    }\n",
       "\n",
       "    .dataframe thead th {\n",
       "        text-align: right;\n",
       "    }\n",
       "</style>\n",
       "<table border=\"1\" class=\"dataframe\">\n",
       "  <thead>\n",
       "    <tr style=\"text-align: right;\">\n",
       "      <th></th>\n",
       "      <th>Open</th>\n",
       "      <th>High</th>\n",
       "      <th>Low</th>\n",
       "      <th>Close</th>\n",
       "      <th>Volume</th>\n",
       "      <th></th>\n",
       "    </tr>\n",
       "  </thead>\n",
       "  <tbody>\n",
       "    <tr>\n",
       "      <th>TSLA</th>\n",
       "      <td>613.37</td>\n",
       "      <td>628.35</td>\n",
       "      <td>611.80</td>\n",
       "      <td>623.31</td>\n",
       "      <td>24528400.0</td>\n",
       "      <td>NaN</td>\n",
       "    </tr>\n",
       "    <tr>\n",
       "      <th>PATH</th>\n",
       "      <td>69.70</td>\n",
       "      <td>70.40</td>\n",
       "      <td>69.08</td>\n",
       "      <td>69.75</td>\n",
       "      <td>3173400.0</td>\n",
       "      <td>NaN</td>\n",
       "    </tr>\n",
       "    <tr>\n",
       "      <th>DISCA</th>\n",
       "      <td>29.26</td>\n",
       "      <td>29.50</td>\n",
       "      <td>28.89</td>\n",
       "      <td>29.08</td>\n",
       "      <td>10221300.0</td>\n",
       "      <td>NaN</td>\n",
       "    </tr>\n",
       "    <tr>\n",
       "      <th>RSI_TSLA</th>\n",
       "      <td>NaN</td>\n",
       "      <td>NaN</td>\n",
       "      <td>NaN</td>\n",
       "      <td>NaN</td>\n",
       "      <td>NaN</td>\n",
       "      <td>52.27</td>\n",
       "    </tr>\n",
       "    <tr>\n",
       "      <th>RSI_DISCA</th>\n",
       "      <td>NaN</td>\n",
       "      <td>NaN</td>\n",
       "      <td>NaN</td>\n",
       "      <td>NaN</td>\n",
       "      <td>NaN</td>\n",
       "      <td>29.83</td>\n",
       "    </tr>\n",
       "    <tr>\n",
       "      <th>RSI_PATH</th>\n",
       "      <td>NaN</td>\n",
       "      <td>NaN</td>\n",
       "      <td>NaN</td>\n",
       "      <td>NaN</td>\n",
       "      <td>NaN</td>\n",
       "      <td>43.86</td>\n",
       "    </tr>\n",
       "  </tbody>\n",
       "</table>\n",
       "</div>"
      ],
      "text/plain": [
       "             Open    High     Low   Close      Volume       \n",
       "TSLA       613.37  628.35  611.80  623.31  24528400.0    NaN\n",
       "PATH        69.70   70.40   69.08   69.75   3173400.0    NaN\n",
       "DISCA       29.26   29.50   28.89   29.08  10221300.0    NaN\n",
       "RSI_TSLA      NaN     NaN     NaN     NaN         NaN  52.27\n",
       "RSI_DISCA     NaN     NaN     NaN     NaN         NaN  29.83\n",
       "RSI_PATH      NaN     NaN     NaN     NaN         NaN  43.86"
      ]
     },
     "execution_count": 201,
     "metadata": {},
     "output_type": "execute_result"
    }
   ],
   "source": [
    "df2"
   ]
  },
  {
   "cell_type": "code",
   "execution_count": null,
   "id": "noted-thomas",
   "metadata": {},
   "outputs": [],
   "source": []
  },
  {
   "cell_type": "code",
   "execution_count": null,
   "id": "twenty-stack",
   "metadata": {},
   "outputs": [],
   "source": []
  },
  {
   "cell_type": "code",
   "execution_count": null,
   "id": "modular-insulation",
   "metadata": {},
   "outputs": [],
   "source": []
  },
  {
   "cell_type": "code",
   "execution_count": null,
   "id": "convenient-marina",
   "metadata": {},
   "outputs": [],
   "source": []
  },
  {
   "cell_type": "code",
   "execution_count": null,
   "id": "diagnostic-watson",
   "metadata": {},
   "outputs": [],
   "source": []
  },
  {
   "cell_type": "code",
   "execution_count": null,
   "id": "increased-plasma",
   "metadata": {},
   "outputs": [],
   "source": []
  },
  {
   "cell_type": "code",
   "execution_count": null,
   "id": "veterinary-cholesterol",
   "metadata": {
    "scrolled": true
   },
   "outputs": [],
   "source": []
  },
  {
   "cell_type": "code",
   "execution_count": null,
   "id": "infinite-premium",
   "metadata": {},
   "outputs": [],
   "source": []
  },
  {
   "cell_type": "code",
   "execution_count": null,
   "id": "introductory-terminal",
   "metadata": {},
   "outputs": [],
   "source": []
  },
  {
   "cell_type": "code",
   "execution_count": null,
   "id": "departmental-allen",
   "metadata": {},
   "outputs": [],
   "source": []
  },
  {
   "cell_type": "code",
   "execution_count": null,
   "id": "prepared-talent",
   "metadata": {},
   "outputs": [],
   "source": []
  },
  {
   "cell_type": "code",
   "execution_count": 52,
   "id": "encouraging-profit",
   "metadata": {},
   "outputs": [
    {
     "name": "stderr",
     "output_type": "stream",
     "text": [
      "c:\\users\\elena\\appdata\\local\\programs\\python\\python37\\lib\\site-packages\\pandas\\core\\frame.py:4446: SettingWithCopyWarning: \n",
      "A value is trying to be set on a copy of a slice from a DataFrame\n",
      "\n",
      "See the caveats in the documentation: https://pandas.pydata.org/pandas-docs/stable/user_guide/indexing.html#returning-a-view-versus-a-copy\n",
      "  errors=errors,\n",
      "c:\\users\\elena\\appdata\\local\\programs\\python\\python37\\lib\\site-packages\\ipykernel_launcher.py:1: SettingWithCopyWarning: \n",
      "A value is trying to be set on a copy of a slice from a DataFrame.\n",
      "Try using .loc[row_indexer,col_indexer] = value instead\n",
      "\n",
      "See the caveats in the documentation: https://pandas.pydata.org/pandas-docs/stable/user_guide/indexing.html#returning-a-view-versus-a-copy\n",
      "  \"\"\"Entry point for launching an IPython kernel.\n"
     ]
    }
   ],
   "source": [
    "tesla['RSI_TSLA'] = tesla.ta.rsi(inplace=True)"
   ]
  },
  {
   "cell_type": "code",
   "execution_count": 56,
   "id": "premier-fancy",
   "metadata": {},
   "outputs": [
    {
     "data": {
      "text/html": [
       "<div>\n",
       "<style scoped>\n",
       "    .dataframe tbody tr th:only-of-type {\n",
       "        vertical-align: middle;\n",
       "    }\n",
       "\n",
       "    .dataframe tbody tr th {\n",
       "        vertical-align: top;\n",
       "    }\n",
       "\n",
       "    .dataframe thead th {\n",
       "        text-align: right;\n",
       "    }\n",
       "</style>\n",
       "<table border=\"1\" class=\"dataframe\">\n",
       "  <thead>\n",
       "    <tr style=\"text-align: right;\">\n",
       "      <th></th>\n",
       "      <th>RSI_TSLA</th>\n",
       "    </tr>\n",
       "    <tr>\n",
       "      <th>date</th>\n",
       "      <th></th>\n",
       "    </tr>\n",
       "  </thead>\n",
       "  <tbody>\n",
       "    <tr>\n",
       "      <th>2020-12-21</th>\n",
       "      <td>NaN</td>\n",
       "    </tr>\n",
       "    <tr>\n",
       "      <th>2020-12-22</th>\n",
       "      <td>NaN</td>\n",
       "    </tr>\n",
       "    <tr>\n",
       "      <th>2020-12-23</th>\n",
       "      <td>NaN</td>\n",
       "    </tr>\n",
       "    <tr>\n",
       "      <th>2020-12-24</th>\n",
       "      <td>NaN</td>\n",
       "    </tr>\n",
       "    <tr>\n",
       "      <th>2020-12-28</th>\n",
       "      <td>NaN</td>\n",
       "    </tr>\n",
       "    <tr>\n",
       "      <th>...</th>\n",
       "      <td>...</td>\n",
       "    </tr>\n",
       "    <tr>\n",
       "      <th>2021-06-14</th>\n",
       "      <td>49.955083</td>\n",
       "    </tr>\n",
       "    <tr>\n",
       "      <th>2021-06-15</th>\n",
       "      <td>44.879661</td>\n",
       "    </tr>\n",
       "    <tr>\n",
       "      <th>2021-06-16</th>\n",
       "      <td>46.634852</td>\n",
       "    </tr>\n",
       "    <tr>\n",
       "      <th>2021-06-17</th>\n",
       "      <td>50.265623</td>\n",
       "    </tr>\n",
       "    <tr>\n",
       "      <th>2021-06-18</th>\n",
       "      <td>52.266302</td>\n",
       "    </tr>\n",
       "  </tbody>\n",
       "</table>\n",
       "<p>124 rows × 1 columns</p>\n",
       "</div>"
      ],
      "text/plain": [
       "             RSI_TSLA\n",
       "date                 \n",
       "2020-12-21        NaN\n",
       "2020-12-22        NaN\n",
       "2020-12-23        NaN\n",
       "2020-12-24        NaN\n",
       "2020-12-28        NaN\n",
       "...               ...\n",
       "2021-06-14  49.955083\n",
       "2021-06-15  44.879661\n",
       "2021-06-16  46.634852\n",
       "2021-06-17  50.265623\n",
       "2021-06-18  52.266302\n",
       "\n",
       "[124 rows x 1 columns]"
      ]
     },
     "execution_count": 56,
     "metadata": {},
     "output_type": "execute_result"
    }
   ],
   "source": [
    "tesla[['RSI_TSLA']]"
   ]
  },
  {
   "cell_type": "code",
   "execution_count": null,
   "id": "chicken-album",
   "metadata": {},
   "outputs": [],
   "source": []
  },
  {
   "cell_type": "code",
   "execution_count": null,
   "id": "valid-dublin",
   "metadata": {},
   "outputs": [],
   "source": []
  },
  {
   "cell_type": "code",
   "execution_count": null,
   "id": "foster-sacramento",
   "metadata": {},
   "outputs": [],
   "source": [
    "# data = [expression for item in list]\n",
    "data['RSI_TSLA'] = [data.ta.rsi(inplace=True) for ticker in tickers] "
   ]
  },
  {
   "cell_type": "code",
   "execution_count": null,
   "id": "broken-seafood",
   "metadata": {},
   "outputs": [],
   "source": []
  },
  {
   "cell_type": "code",
   "execution_count": null,
   "id": "retained-imagination",
   "metadata": {},
   "outputs": [],
   "source": []
  },
  {
   "cell_type": "code",
   "execution_count": null,
   "id": "incoming-story",
   "metadata": {},
   "outputs": [],
   "source": []
  },
  {
   "cell_type": "code",
   "execution_count": null,
   "id": "permanent-mailing",
   "metadata": {},
   "outputs": [],
   "source": []
  },
  {
   "cell_type": "code",
   "execution_count": null,
   "id": "amateur-separation",
   "metadata": {},
   "outputs": [],
   "source": []
  },
  {
   "cell_type": "code",
   "execution_count": null,
   "id": "cellular-blake",
   "metadata": {},
   "outputs": [],
   "source": [
    "stock_data = data.iloc[-1:].T"
   ]
  },
  {
   "cell_type": "code",
   "execution_count": null,
   "id": "threatened-window",
   "metadata": {
    "scrolled": true
   },
   "outputs": [],
   "source": [
    "stock_data.index.levels"
   ]
  },
  {
   "cell_type": "code",
   "execution_count": null,
   "id": "authentic-motel",
   "metadata": {},
   "outputs": [],
   "source": []
  },
  {
   "cell_type": "code",
   "execution_count": null,
   "id": "sufficient-mention",
   "metadata": {},
   "outputs": [],
   "source": []
  },
  {
   "cell_type": "code",
   "execution_count": null,
   "id": "distinguished-despite",
   "metadata": {},
   "outputs": [],
   "source": [
    "stock_data"
   ]
  },
  {
   "cell_type": "code",
   "execution_count": null,
   "id": "sudden-malaysia",
   "metadata": {
    "scrolled": true
   },
   "outputs": [],
   "source": [
    "stock_data.columns.get_level_values(0)"
   ]
  },
  {
   "cell_type": "code",
   "execution_count": null,
   "id": "pregnant-windows",
   "metadata": {},
   "outputs": [],
   "source": [
    "stock_data.columns"
   ]
  },
  {
   "cell_type": "code",
   "execution_count": null,
   "id": "executive-planner",
   "metadata": {},
   "outputs": [],
   "source": []
  },
  {
   "cell_type": "code",
   "execution_count": null,
   "id": "dietary-essence",
   "metadata": {},
   "outputs": [],
   "source": []
  },
  {
   "cell_type": "code",
   "execution_count": null,
   "id": "mathematical-spray",
   "metadata": {},
   "outputs": [],
   "source": []
  },
  {
   "cell_type": "code",
   "execution_count": null,
   "id": "sonic-corruption",
   "metadata": {},
   "outputs": [],
   "source": [
    "data['RSI'] = data.ta.rsi(inplace=True) # Calculate RSI"
   ]
  },
  {
   "cell_type": "code",
   "execution_count": null,
   "id": "finnish-bubble",
   "metadata": {},
   "outputs": [],
   "source": []
  },
  {
   "cell_type": "code",
   "execution_count": null,
   "id": "communist-diagram",
   "metadata": {},
   "outputs": [],
   "source": []
  },
  {
   "cell_type": "code",
   "execution_count": null,
   "id": "informed-miller",
   "metadata": {},
   "outputs": [],
   "source": []
  },
  {
   "cell_type": "code",
   "execution_count": null,
   "id": "racial-front",
   "metadata": {},
   "outputs": [],
   "source": []
  },
  {
   "cell_type": "code",
   "execution_count": null,
   "id": "dress-glance",
   "metadata": {},
   "outputs": [],
   "source": []
  },
  {
   "cell_type": "code",
   "execution_count": null,
   "id": "martial-design",
   "metadata": {},
   "outputs": [],
   "source": []
  },
  {
   "cell_type": "code",
   "execution_count": null,
   "id": "outstanding-miller",
   "metadata": {},
   "outputs": [],
   "source": []
  },
  {
   "cell_type": "code",
   "execution_count": null,
   "id": "massive-biology",
   "metadata": {},
   "outputs": [],
   "source": []
  },
  {
   "cell_type": "code",
   "execution_count": null,
   "id": "cross-leave",
   "metadata": {},
   "outputs": [],
   "source": []
  },
  {
   "cell_type": "code",
   "execution_count": null,
   "id": "union-tumor",
   "metadata": {},
   "outputs": [],
   "source": []
  },
  {
   "cell_type": "code",
   "execution_count": null,
   "id": "miniature-eugene",
   "metadata": {
    "scrolled": true
   },
   "outputs": [],
   "source": [
    "data.round().tail()"
   ]
  },
  {
   "cell_type": "code",
   "execution_count": null,
   "id": "injured-deviation",
   "metadata": {},
   "outputs": [],
   "source": [
    "df = data.iloc[-1:]"
   ]
  },
  {
   "cell_type": "code",
   "execution_count": null,
   "id": "dominant-bedroom",
   "metadata": {},
   "outputs": [],
   "source": [
    "df"
   ]
  },
  {
   "cell_type": "code",
   "execution_count": null,
   "id": "varying-beads",
   "metadata": {},
   "outputs": [],
   "source": [
    "df_i = pd.DataFrame()\n",
    "for i in tickers:\n",
    "    print(i)\n",
    "    results = df_i.append(df[i])\n",
    "    results_2 = pd.concat([df[i]], axis=1)"
   ]
  },
  {
   "cell_type": "code",
   "execution_count": null,
   "id": "previous-adventure",
   "metadata": {},
   "outputs": [],
   "source": [
    "results"
   ]
  },
  {
   "cell_type": "code",
   "execution_count": null,
   "id": "sustained-system",
   "metadata": {},
   "outputs": [],
   "source": [
    "results_2"
   ]
  },
  {
   "cell_type": "code",
   "execution_count": null,
   "id": "quality-keyboard",
   "metadata": {},
   "outputs": [],
   "source": []
  },
  {
   "cell_type": "code",
   "execution_count": null,
   "id": "eleven-replication",
   "metadata": {},
   "outputs": [],
   "source": []
  },
  {
   "cell_type": "code",
   "execution_count": null,
   "id": "known-bankruptcy",
   "metadata": {},
   "outputs": [],
   "source": []
  },
  {
   "cell_type": "code",
   "execution_count": null,
   "id": "junior-minnesota",
   "metadata": {},
   "outputs": [],
   "source": []
  },
  {
   "cell_type": "code",
   "execution_count": null,
   "id": "adjusted-nowhere",
   "metadata": {},
   "outputs": [],
   "source": []
  },
  {
   "cell_type": "code",
   "execution_count": null,
   "id": "fourth-skirt",
   "metadata": {},
   "outputs": [],
   "source": [
    "# data['RSI'] = data.ta.rsi(inplace=True) # Calculate RSI\n",
    "# data['SMA'] = data.ta.sma(inplace=True)\n",
    "# data[['MACD_12_26_9', 'MACDh_12_26_9', 'MACDs_12_26_9']] = data.ta.macd(inplace=True)"
   ]
  },
  {
   "cell_type": "code",
   "execution_count": null,
   "id": "cross-basic",
   "metadata": {},
   "outputs": [],
   "source": []
  },
  {
   "cell_type": "code",
   "execution_count": null,
   "id": "mathematical-label",
   "metadata": {},
   "outputs": [],
   "source": [
    "# def get_data(tickers):\n",
    "    \n",
    "#     data = yf.download(tickers,  # or pdr.get_data_yahoo(...\n",
    "#             # tickers list or string as well\n",
    "#             # tickers = \"PATH\",\n",
    "\n",
    "#             # use \"period\" instead of start/end\n",
    "#             # valid periods: 1d,5d,1mo,3mo,6mo,1y,2y,5y,10y,ytd,max\n",
    "#             # (optional, default is '1mo')\n",
    "#             period = \"6mo\",\n",
    "\n",
    "#             # fetch data by interval (including intraday if period < 60 days)\n",
    "#             # valid intervals: 1m,2m,5m,15m,30m,60m,90m,1h,1d,5d,1wk,1mo,3mo\n",
    "#             # (optional, default is '1d')\n",
    "#             interval = \"1d\",\n",
    "\n",
    "#             # group by ticker (to access via data['SPY'])\n",
    "#             # (optional, default is 'column')\n",
    "#             group_by = 'ticker',\n",
    "\n",
    "#             # adjust all OHLC automatically\n",
    "#             # (optional, default is False)\n",
    "#             auto_adjust = True,\n",
    "\n",
    "#             # download pre/post regular market hours data\n",
    "#             # (optional, default is False)\n",
    "#             prepost = True,\n",
    "\n",
    "#             # use threads for mass downloading? (True/False/Integer)\n",
    "#             # (optional, default is True)\n",
    "#             threads = True,\n",
    "\n",
    "#             # proxy URL scheme use use when downloading?\n",
    "#             # (optional, default is None)\n",
    "#             proxy = None\n",
    "#         )\n",
    "#     # data['Close'].plot(figsize=(16,8));\n",
    "#     data['RSI'] = data.ta.rsi(inplace=True) # Calculate RSI\n",
    "#     data['SMA'] = data.ta.sma(inplace=True)\n",
    "#     data[['MACD_12_26_9', 'MACDh_12_26_9', 'MACDs_12_26_9']] = data.ta.macd(inplace=True)\n",
    "    \n",
    "#     return data"
   ]
  },
  {
   "cell_type": "code",
   "execution_count": null,
   "id": "powered-cruise",
   "metadata": {},
   "outputs": [],
   "source": [
    "data = get_data(stock_symobl).round(2)\n",
    "data"
   ]
  },
  {
   "cell_type": "code",
   "execution_count": null,
   "id": "measured-genealogy",
   "metadata": {},
   "outputs": [],
   "source": []
  },
  {
   "cell_type": "code",
   "execution_count": null,
   "id": "right-significance",
   "metadata": {},
   "outputs": [],
   "source": []
  },
  {
   "cell_type": "code",
   "execution_count": null,
   "id": "dried-obligation",
   "metadata": {},
   "outputs": [],
   "source": []
  },
  {
   "cell_type": "code",
   "execution_count": null,
   "id": "superb-press",
   "metadata": {},
   "outputs": [],
   "source": [
    "\n",
    "def color_negative_red(val):\n",
    "    color = 'red' if val < 30 else 'green'\n",
    "    return 'color: %s' % color"
   ]
  },
  {
   "cell_type": "code",
   "execution_count": null,
   "id": "private-performance",
   "metadata": {},
   "outputs": [],
   "source": [
    "s = data.style.applymap(color_negative_red, subset=['RSI'])"
   ]
  },
  {
   "cell_type": "code",
   "execution_count": null,
   "id": "strategic-defendant",
   "metadata": {},
   "outputs": [],
   "source": []
  },
  {
   "cell_type": "code",
   "execution_count": null,
   "id": "alive-hazard",
   "metadata": {},
   "outputs": [],
   "source": [
    "import schedule\n",
    "import time\n",
    "\n",
    "def job():\n",
    "    data = get_data(stock_symobl)\n",
    "    # data['Close'].plot(figsize=(16,8));\n",
    "\n",
    "# schedule.every(1).seconds.do(job)\n",
    "schedule.every(1).seconds.do(job)\n",
    "# schedule.every().hour.do(job)\n",
    "# schedule.every().day.at(\"10:30\").do(job)\n",
    "# schedule.every(5).to(10).minutes.do(job)\n",
    "# schedule.every().monday.do(job)\n",
    "# schedule.every().wednesday.at(\"13:15\").do(job)\n",
    "# schedule.every().minute.at(\":17\").do(job)\n",
    "\n",
    "while True:\n",
    "    schedule.run_pending()\n",
    "    time.sleep(1)"
   ]
  },
  {
   "cell_type": "code",
   "execution_count": null,
   "id": "fourth-projection",
   "metadata": {},
   "outputs": [],
   "source": []
  },
  {
   "cell_type": "code",
   "execution_count": null,
   "id": "wanted-chain",
   "metadata": {},
   "outputs": [],
   "source": [
    "# API = '9R2V38OOYMP02MHZ'\n",
    "# ti = TechIndicators(key=API, output_format='pandas')\n",
    "# data = ti.get_rsi(symbol=stock_symobl,\n",
    "#                   interval='daily',\n",
    "#                   time_period=14,\n",
    "#                   series_type='close')\n",
    "\n",
    "# data"
   ]
  },
  {
   "cell_type": "code",
   "execution_count": null,
   "id": "designed-efficiency",
   "metadata": {},
   "outputs": [],
   "source": [
    "# # Skip first 14 days to have real values\n",
    "\n",
    "# hist = hist.iloc[14:]\n",
    "\n",
    "# print(hist)\n",
    "# fig, (ax1, ax2) = plt.subplots(2)\n",
    "# ax1.get_xaxis().set_visible(False)\n",
    "# fig.suptitle(f'{stock_symobl}')\n",
    "\n",
    "# hist['Close'].plot(ax=ax1)\n",
    "# ax1.set_ylabel('Price ($)')\n",
    "# hist['RSI'].plot(ax=ax2)\n",
    "# ax2.set_ylim(0,100)\n",
    "# ax2.axhline(30, color='r', linestyle='--')\n",
    "# ax2.axhline(70, color='r', linestyle='--')\n",
    "# ax2.set_ylabel('RSI')\n",
    "\n",
    "# plt.show()"
   ]
  },
  {
   "cell_type": "code",
   "execution_count": null,
   "id": "alleged-breed",
   "metadata": {},
   "outputs": [],
   "source": [
    "# ti = TechIndicators(key='9R2V38OOYMP02MHZ', output_format='pandas')"
   ]
  },
  {
   "cell_type": "code",
   "execution_count": null,
   "id": "ambient-first",
   "metadata": {},
   "outputs": [],
   "source": [
    "# data, meta_data = ti.get_rsi(symbol=stock_symobl,\n",
    "#                              interval='daily',\n",
    "#                              time_period=14,\n",
    "#                              series_type='close')\n",
    "# data.plot()\n",
    "# plt.title(f'RSI indicator for {stock_symobl} stock')\n",
    "# plt.show()"
   ]
  }
 ],
 "metadata": {
  "kernelspec": {
   "display_name": "Python 3",
   "language": "python",
   "name": "python3"
  },
  "language_info": {
   "codemirror_mode": {
    "name": "ipython",
    "version": 3
   },
   "file_extension": ".py",
   "mimetype": "text/x-python",
   "name": "python",
   "nbconvert_exporter": "python",
   "pygments_lexer": "ipython3",
   "version": "3.7.6"
  }
 },
 "nbformat": 4,
 "nbformat_minor": 5
}
