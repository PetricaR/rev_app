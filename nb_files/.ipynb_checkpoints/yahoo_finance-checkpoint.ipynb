{
 "cells": [
  {
   "cell_type": "code",
   "execution_count": 191,
   "id": "neither-scholarship",
   "metadata": {
    "scrolled": false
   },
   "outputs": [],
   "source": [
    "import yfinance as yf\n",
    "import pandas as pd\n",
    "import pandas_datareader as pdr\n",
    "import datetime as dt\n",
    "import matplotlib.pyplot as plt\n",
    "from alpha_vantage.techindicators import TechIndicators\n",
    "import matplotlib.pyplot as plt\n",
    "import pandas_ta as ta\n",
    "pd.options.mode.chained_assignment = None  # default='warn'\n",
    "\n",
    "%matplotlib inline"
   ]
  },
  {
   "cell_type": "code",
   "execution_count": 192,
   "id": "architectural-brick",
   "metadata": {},
   "outputs": [],
   "source": [
    "tickers = ['TSLA', 'DISCA', 'PATH']"
   ]
  },
  {
   "cell_type": "code",
   "execution_count": 193,
   "id": "attempted-maria",
   "metadata": {
    "scrolled": true
   },
   "outputs": [
    {
     "name": "stdout",
     "output_type": "stream",
     "text": [
      "[*********************100%***********************]  3 of 3 completed\n"
     ]
    }
   ],
   "source": [
    "data = yf.download(tickers,  # or pdr.get_data_yahoo(...\n",
    "            # tickers list or string as well\n",
    "            # tickers = \"PATH\",\n",
    "\n",
    "            # use \"period\" instead of start/end\n",
    "            # valid periods: 1d,5d,1mo,3mo,6mo,1y,2y,5y,10y,ytd,max\n",
    "            # (optional, default is '1mo')\n",
    "            period = \"6mo\",\n",
    "\n",
    "            # fetch data by interval (including intraday if period < 60 days)\n",
    "            # valid intervals: 1m,2m,5m,15m,30m,60m,90m,1h,1d,5d,1wk,1mo,3mo\n",
    "            # (optional, default is '1d')\n",
    "            interval = \"1d\",\n",
    "\n",
    "            # group by ticker (to access via data['SPY'])\n",
    "            # (optional, default is 'column')\n",
    "            group_by = 'ticker',\n",
    "\n",
    "            # adjust all OHLC automatically\n",
    "            # (optional, default is False)\n",
    "            auto_adjust = True,\n",
    "\n",
    "            # download pre/post regular market hours data\n",
    "            # (optional, default is False)\n",
    "            prepost = True,\n",
    "\n",
    "            # use threads for mass downloading? (True/False/Integer)\n",
    "            # (optional, default is True)\n",
    "            threads = True,\n",
    "\n",
    "            # proxy URL scheme use use when downloading?\n",
    "            # (optional, default is None)\n",
    "            proxy = None\n",
    "        )"
   ]
  },
  {
   "cell_type": "code",
   "execution_count": 194,
   "id": "laden-deadline",
   "metadata": {
    "scrolled": false
   },
   "outputs": [
    {
     "data": {
      "text/html": [
       "<div>\n",
       "<style scoped>\n",
       "    .dataframe tbody tr th:only-of-type {\n",
       "        vertical-align: middle;\n",
       "    }\n",
       "\n",
       "    .dataframe tbody tr th {\n",
       "        vertical-align: top;\n",
       "    }\n",
       "\n",
       "    .dataframe thead tr th {\n",
       "        text-align: left;\n",
       "    }\n",
       "\n",
       "    .dataframe thead tr:last-of-type th {\n",
       "        text-align: right;\n",
       "    }\n",
       "</style>\n",
       "<table border=\"1\" class=\"dataframe\">\n",
       "  <thead>\n",
       "    <tr>\n",
       "      <th></th>\n",
       "      <th colspan=\"5\" halign=\"left\">TSLA</th>\n",
       "      <th colspan=\"5\" halign=\"left\">PATH</th>\n",
       "      <th colspan=\"5\" halign=\"left\">DISCA</th>\n",
       "    </tr>\n",
       "    <tr>\n",
       "      <th></th>\n",
       "      <th>Open</th>\n",
       "      <th>High</th>\n",
       "      <th>Low</th>\n",
       "      <th>Close</th>\n",
       "      <th>Volume</th>\n",
       "      <th>Open</th>\n",
       "      <th>High</th>\n",
       "      <th>Low</th>\n",
       "      <th>Close</th>\n",
       "      <th>Volume</th>\n",
       "      <th>Open</th>\n",
       "      <th>High</th>\n",
       "      <th>Low</th>\n",
       "      <th>Close</th>\n",
       "      <th>Volume</th>\n",
       "    </tr>\n",
       "    <tr>\n",
       "      <th>Date</th>\n",
       "      <th></th>\n",
       "      <th></th>\n",
       "      <th></th>\n",
       "      <th></th>\n",
       "      <th></th>\n",
       "      <th></th>\n",
       "      <th></th>\n",
       "      <th></th>\n",
       "      <th></th>\n",
       "      <th></th>\n",
       "      <th></th>\n",
       "      <th></th>\n",
       "      <th></th>\n",
       "      <th></th>\n",
       "      <th></th>\n",
       "    </tr>\n",
       "  </thead>\n",
       "  <tbody>\n",
       "    <tr>\n",
       "      <th>2021-06-14</th>\n",
       "      <td>612.229980</td>\n",
       "      <td>625.489990</td>\n",
       "      <td>609.179993</td>\n",
       "      <td>617.690002</td>\n",
       "      <td>20424000</td>\n",
       "      <td>71.980003</td>\n",
       "      <td>72.029999</td>\n",
       "      <td>68.910004</td>\n",
       "      <td>69.800003</td>\n",
       "      <td>3666500.0</td>\n",
       "      <td>30.959999</td>\n",
       "      <td>31.480000</td>\n",
       "      <td>30.660000</td>\n",
       "      <td>30.820000</td>\n",
       "      <td>5182600</td>\n",
       "    </tr>\n",
       "    <tr>\n",
       "      <th>2021-06-15</th>\n",
       "      <td>616.690002</td>\n",
       "      <td>616.789978</td>\n",
       "      <td>598.229980</td>\n",
       "      <td>599.359985</td>\n",
       "      <td>17764100</td>\n",
       "      <td>69.510002</td>\n",
       "      <td>72.400002</td>\n",
       "      <td>69.370003</td>\n",
       "      <td>70.000000</td>\n",
       "      <td>4126400.0</td>\n",
       "      <td>30.820000</td>\n",
       "      <td>31.530001</td>\n",
       "      <td>30.049999</td>\n",
       "      <td>30.070000</td>\n",
       "      <td>6912600</td>\n",
       "    </tr>\n",
       "    <tr>\n",
       "      <th>2021-06-16</th>\n",
       "      <td>597.539978</td>\n",
       "      <td>608.500000</td>\n",
       "      <td>593.500000</td>\n",
       "      <td>604.869995</td>\n",
       "      <td>22144100</td>\n",
       "      <td>69.000000</td>\n",
       "      <td>70.000000</td>\n",
       "      <td>67.800003</td>\n",
       "      <td>69.769997</td>\n",
       "      <td>4769900.0</td>\n",
       "      <td>30.020000</td>\n",
       "      <td>30.590000</td>\n",
       "      <td>29.540001</td>\n",
       "      <td>30.459999</td>\n",
       "      <td>7134200</td>\n",
       "    </tr>\n",
       "    <tr>\n",
       "      <th>2021-06-17</th>\n",
       "      <td>601.890015</td>\n",
       "      <td>621.469971</td>\n",
       "      <td>601.340027</td>\n",
       "      <td>616.599976</td>\n",
       "      <td>22701400</td>\n",
       "      <td>68.500000</td>\n",
       "      <td>70.919998</td>\n",
       "      <td>68.099998</td>\n",
       "      <td>70.000000</td>\n",
       "      <td>3835000.0</td>\n",
       "      <td>30.320000</td>\n",
       "      <td>30.490000</td>\n",
       "      <td>29.340000</td>\n",
       "      <td>29.410000</td>\n",
       "      <td>7729000</td>\n",
       "    </tr>\n",
       "    <tr>\n",
       "      <th>2021-06-18</th>\n",
       "      <td>613.369995</td>\n",
       "      <td>628.349976</td>\n",
       "      <td>611.799988</td>\n",
       "      <td>623.309998</td>\n",
       "      <td>24528400</td>\n",
       "      <td>69.699997</td>\n",
       "      <td>70.400002</td>\n",
       "      <td>69.080002</td>\n",
       "      <td>69.750000</td>\n",
       "      <td>3173400.0</td>\n",
       "      <td>29.260000</td>\n",
       "      <td>29.500000</td>\n",
       "      <td>28.889999</td>\n",
       "      <td>29.080000</td>\n",
       "      <td>10221300</td>\n",
       "    </tr>\n",
       "  </tbody>\n",
       "</table>\n",
       "</div>"
      ],
      "text/plain": [
       "                  TSLA                                                \\\n",
       "                  Open        High         Low       Close    Volume   \n",
       "Date                                                                   \n",
       "2021-06-14  612.229980  625.489990  609.179993  617.690002  20424000   \n",
       "2021-06-15  616.690002  616.789978  598.229980  599.359985  17764100   \n",
       "2021-06-16  597.539978  608.500000  593.500000  604.869995  22144100   \n",
       "2021-06-17  601.890015  621.469971  601.340027  616.599976  22701400   \n",
       "2021-06-18  613.369995  628.349976  611.799988  623.309998  24528400   \n",
       "\n",
       "                 PATH                                                  DISCA  \\\n",
       "                 Open       High        Low      Close     Volume       Open   \n",
       "Date                                                                           \n",
       "2021-06-14  71.980003  72.029999  68.910004  69.800003  3666500.0  30.959999   \n",
       "2021-06-15  69.510002  72.400002  69.370003  70.000000  4126400.0  30.820000   \n",
       "2021-06-16  69.000000  70.000000  67.800003  69.769997  4769900.0  30.020000   \n",
       "2021-06-17  68.500000  70.919998  68.099998  70.000000  3835000.0  30.320000   \n",
       "2021-06-18  69.699997  70.400002  69.080002  69.750000  3173400.0  29.260000   \n",
       "\n",
       "                                                       \n",
       "                 High        Low      Close    Volume  \n",
       "Date                                                   \n",
       "2021-06-14  31.480000  30.660000  30.820000   5182600  \n",
       "2021-06-15  31.530001  30.049999  30.070000   6912600  \n",
       "2021-06-16  30.590000  29.540001  30.459999   7134200  \n",
       "2021-06-17  30.490000  29.340000  29.410000   7729000  \n",
       "2021-06-18  29.500000  28.889999  29.080000  10221300  "
      ]
     },
     "execution_count": 194,
     "metadata": {},
     "output_type": "execute_result"
    }
   ],
   "source": [
    "df = data.copy()\n",
    "df.tail()"
   ]
  },
  {
   "cell_type": "code",
   "execution_count": 205,
   "id": "applicable-minneapolis",
   "metadata": {},
   "outputs": [],
   "source": [
    "for stock in tickers:\n",
    "    df[f'RSI_{stock}'] = df[stock].ta.rsi(inplace=True)"
   ]
  },
  {
   "cell_type": "code",
   "execution_count": 204,
   "id": "strategic-doubt",
   "metadata": {
    "scrolled": true
   },
   "outputs": [
    {
     "data": {
      "text/html": [
       "<div>\n",
       "<style scoped>\n",
       "    .dataframe tbody tr th:only-of-type {\n",
       "        vertical-align: middle;\n",
       "    }\n",
       "\n",
       "    .dataframe tbody tr th {\n",
       "        vertical-align: top;\n",
       "    }\n",
       "\n",
       "    .dataframe thead th {\n",
       "        text-align: right;\n",
       "    }\n",
       "</style>\n",
       "<table border=\"1\" class=\"dataframe\">\n",
       "  <thead>\n",
       "    <tr style=\"text-align: right;\">\n",
       "      <th></th>\n",
       "      <th>date</th>\n",
       "      <th>2021-06-18</th>\n",
       "    </tr>\n",
       "  </thead>\n",
       "  <tbody>\n",
       "    <tr>\n",
       "      <th>RSI_TSLA</th>\n",
       "      <th></th>\n",
       "      <td>52.266302</td>\n",
       "    </tr>\n",
       "    <tr>\n",
       "      <th>RSI_DISCA</th>\n",
       "      <th></th>\n",
       "      <td>29.833880</td>\n",
       "    </tr>\n",
       "    <tr>\n",
       "      <th>RSI_PATH</th>\n",
       "      <th></th>\n",
       "      <td>43.860019</td>\n",
       "    </tr>\n",
       "  </tbody>\n",
       "</table>\n",
       "</div>"
      ],
      "text/plain": [
       "date        2021-06-18\n",
       "RSI_TSLA     52.266302\n",
       "RSI_DISCA    29.833880\n",
       "RSI_PATH     43.860019"
      ]
     },
     "execution_count": 204,
     "metadata": {},
     "output_type": "execute_result"
    }
   ],
   "source": [
    "df.filter(like='RSI').iloc[-1:].T"
   ]
  },
  {
   "cell_type": "code",
   "execution_count": 207,
   "id": "bridal-hopkins",
   "metadata": {},
   "outputs": [
    {
     "data": {
      "text/plain": [
       "date\n",
       "2020-12-21    649.859985\n",
       "2020-12-22    640.340027\n",
       "2020-12-23    645.979980\n",
       "2020-12-24    661.770020\n",
       "2020-12-28    663.690002\n",
       "                 ...    \n",
       "2021-06-14    617.690002\n",
       "2021-06-15    599.359985\n",
       "2021-06-16    604.869995\n",
       "2021-06-17    616.599976\n",
       "2021-06-18    623.309998\n",
       "Name: Close, Length: 124, dtype: float64"
      ]
     },
     "execution_count": 207,
     "metadata": {},
     "output_type": "execute_result"
    }
   ],
   "source": [
    "df['TSLA']['Close']"
   ]
  },
  {
   "cell_type": "code",
   "execution_count": null,
   "id": "operating-amber",
   "metadata": {},
   "outputs": [],
   "source": []
  },
  {
   "cell_type": "code",
   "execution_count": null,
   "id": "parallel-backing",
   "metadata": {},
   "outputs": [],
   "source": []
  },
  {
   "cell_type": "code",
   "execution_count": null,
   "id": "broken-douglas",
   "metadata": {},
   "outputs": [],
   "source": []
  },
  {
   "cell_type": "code",
   "execution_count": 197,
   "id": "included-graph",
   "metadata": {},
   "outputs": [],
   "source": [
    "df1 = df.iloc[-1]"
   ]
  },
  {
   "cell_type": "code",
   "execution_count": 198,
   "id": "insured-fundamentals",
   "metadata": {},
   "outputs": [],
   "source": [
    "df2 = df1.unstack().round(2)"
   ]
  },
  {
   "cell_type": "code",
   "execution_count": 201,
   "id": "binding-joyce",
   "metadata": {},
   "outputs": [
    {
     "data": {
      "text/html": [
       "<div>\n",
       "<style scoped>\n",
       "    .dataframe tbody tr th:only-of-type {\n",
       "        vertical-align: middle;\n",
       "    }\n",
       "\n",
       "    .dataframe tbody tr th {\n",
       "        vertical-align: top;\n",
       "    }\n",
       "\n",
       "    .dataframe thead th {\n",
       "        text-align: right;\n",
       "    }\n",
       "</style>\n",
       "<table border=\"1\" class=\"dataframe\">\n",
       "  <thead>\n",
       "    <tr style=\"text-align: right;\">\n",
       "      <th></th>\n",
       "      <th>Open</th>\n",
       "      <th>High</th>\n",
       "      <th>Low</th>\n",
       "      <th>Close</th>\n",
       "      <th>Volume</th>\n",
       "      <th></th>\n",
       "    </tr>\n",
       "  </thead>\n",
       "  <tbody>\n",
       "    <tr>\n",
       "      <th>TSLA</th>\n",
       "      <td>613.37</td>\n",
       "      <td>628.35</td>\n",
       "      <td>611.80</td>\n",
       "      <td>623.31</td>\n",
       "      <td>24528400.0</td>\n",
       "      <td>NaN</td>\n",
       "    </tr>\n",
       "    <tr>\n",
       "      <th>PATH</th>\n",
       "      <td>69.70</td>\n",
       "      <td>70.40</td>\n",
       "      <td>69.08</td>\n",
       "      <td>69.75</td>\n",
       "      <td>3173400.0</td>\n",
       "      <td>NaN</td>\n",
       "    </tr>\n",
       "    <tr>\n",
       "      <th>DISCA</th>\n",
       "      <td>29.26</td>\n",
       "      <td>29.50</td>\n",
       "      <td>28.89</td>\n",
       "      <td>29.08</td>\n",
       "      <td>10221300.0</td>\n",
       "      <td>NaN</td>\n",
       "    </tr>\n",
       "    <tr>\n",
       "      <th>RSI_TSLA</th>\n",
       "      <td>NaN</td>\n",
       "      <td>NaN</td>\n",
       "      <td>NaN</td>\n",
       "      <td>NaN</td>\n",
       "      <td>NaN</td>\n",
       "      <td>52.27</td>\n",
       "    </tr>\n",
       "    <tr>\n",
       "      <th>RSI_DISCA</th>\n",
       "      <td>NaN</td>\n",
       "      <td>NaN</td>\n",
       "      <td>NaN</td>\n",
       "      <td>NaN</td>\n",
       "      <td>NaN</td>\n",
       "      <td>29.83</td>\n",
       "    </tr>\n",
       "    <tr>\n",
       "      <th>RSI_PATH</th>\n",
       "      <td>NaN</td>\n",
       "      <td>NaN</td>\n",
       "      <td>NaN</td>\n",
       "      <td>NaN</td>\n",
       "      <td>NaN</td>\n",
       "      <td>43.86</td>\n",
       "    </tr>\n",
       "  </tbody>\n",
       "</table>\n",
       "</div>"
      ],
      "text/plain": [
       "             Open    High     Low   Close      Volume       \n",
       "TSLA       613.37  628.35  611.80  623.31  24528400.0    NaN\n",
       "PATH        69.70   70.40   69.08   69.75   3173400.0    NaN\n",
       "DISCA       29.26   29.50   28.89   29.08  10221300.0    NaN\n",
       "RSI_TSLA      NaN     NaN     NaN     NaN         NaN  52.27\n",
       "RSI_DISCA     NaN     NaN     NaN     NaN         NaN  29.83\n",
       "RSI_PATH      NaN     NaN     NaN     NaN         NaN  43.86"
      ]
     },
     "execution_count": 201,
     "metadata": {},
     "output_type": "execute_result"
    }
   ],
   "source": [
    "df2"
   ]
  },
  {
   "cell_type": "code",
   "execution_count": null,
   "id": "rising-throat",
   "metadata": {},
   "outputs": [],
   "source": []
  },
  {
   "cell_type": "code",
   "execution_count": null,
   "id": "royal-italian",
   "metadata": {},
   "outputs": [],
   "source": []
  },
  {
   "cell_type": "code",
   "execution_count": null,
   "id": "deadly-membership",
   "metadata": {},
   "outputs": [],
   "source": []
  },
  {
   "cell_type": "code",
   "execution_count": null,
   "id": "appreciated-tucson",
   "metadata": {},
   "outputs": [],
   "source": []
  },
  {
   "cell_type": "code",
   "execution_count": null,
   "id": "driving-burner",
   "metadata": {},
   "outputs": [],
   "source": []
  },
  {
   "cell_type": "code",
   "execution_count": null,
   "id": "precise-rover",
   "metadata": {},
   "outputs": [],
   "source": []
  },
  {
   "cell_type": "code",
   "execution_count": null,
   "id": "molecular-decrease",
   "metadata": {
    "scrolled": true
   },
   "outputs": [],
   "source": []
  },
  {
   "cell_type": "code",
   "execution_count": null,
   "id": "checked-mission",
   "metadata": {},
   "outputs": [],
   "source": []
  },
  {
   "cell_type": "code",
   "execution_count": null,
   "id": "rational-flash",
   "metadata": {},
   "outputs": [],
   "source": []
  },
  {
   "cell_type": "code",
   "execution_count": null,
   "id": "extreme-contrast",
   "metadata": {},
   "outputs": [],
   "source": []
  },
  {
   "cell_type": "code",
   "execution_count": null,
   "id": "speaking-extra",
   "metadata": {},
   "outputs": [],
   "source": []
  },
  {
   "cell_type": "code",
   "execution_count": 52,
   "id": "charitable-disney",
   "metadata": {},
   "outputs": [
    {
     "name": "stderr",
     "output_type": "stream",
     "text": [
      "c:\\users\\elena\\appdata\\local\\programs\\python\\python37\\lib\\site-packages\\pandas\\core\\frame.py:4446: SettingWithCopyWarning: \n",
      "A value is trying to be set on a copy of a slice from a DataFrame\n",
      "\n",
      "See the caveats in the documentation: https://pandas.pydata.org/pandas-docs/stable/user_guide/indexing.html#returning-a-view-versus-a-copy\n",
      "  errors=errors,\n",
      "c:\\users\\elena\\appdata\\local\\programs\\python\\python37\\lib\\site-packages\\ipykernel_launcher.py:1: SettingWithCopyWarning: \n",
      "A value is trying to be set on a copy of a slice from a DataFrame.\n",
      "Try using .loc[row_indexer,col_indexer] = value instead\n",
      "\n",
      "See the caveats in the documentation: https://pandas.pydata.org/pandas-docs/stable/user_guide/indexing.html#returning-a-view-versus-a-copy\n",
      "  \"\"\"Entry point for launching an IPython kernel.\n"
     ]
    }
   ],
   "source": [
    "tesla['RSI_TSLA'] = tesla.ta.rsi(inplace=True)"
   ]
  },
  {
   "cell_type": "code",
   "execution_count": 56,
   "id": "returning-dublin",
   "metadata": {},
   "outputs": [
    {
     "data": {
      "text/html": [
       "<div>\n",
       "<style scoped>\n",
       "    .dataframe tbody tr th:only-of-type {\n",
       "        vertical-align: middle;\n",
       "    }\n",
       "\n",
       "    .dataframe tbody tr th {\n",
       "        vertical-align: top;\n",
       "    }\n",
       "\n",
       "    .dataframe thead th {\n",
       "        text-align: right;\n",
       "    }\n",
       "</style>\n",
       "<table border=\"1\" class=\"dataframe\">\n",
       "  <thead>\n",
       "    <tr style=\"text-align: right;\">\n",
       "      <th></th>\n",
       "      <th>RSI_TSLA</th>\n",
       "    </tr>\n",
       "    <tr>\n",
       "      <th>date</th>\n",
       "      <th></th>\n",
       "    </tr>\n",
       "  </thead>\n",
       "  <tbody>\n",
       "    <tr>\n",
       "      <th>2020-12-21</th>\n",
       "      <td>NaN</td>\n",
       "    </tr>\n",
       "    <tr>\n",
       "      <th>2020-12-22</th>\n",
       "      <td>NaN</td>\n",
       "    </tr>\n",
       "    <tr>\n",
       "      <th>2020-12-23</th>\n",
       "      <td>NaN</td>\n",
       "    </tr>\n",
       "    <tr>\n",
       "      <th>2020-12-24</th>\n",
       "      <td>NaN</td>\n",
       "    </tr>\n",
       "    <tr>\n",
       "      <th>2020-12-28</th>\n",
       "      <td>NaN</td>\n",
       "    </tr>\n",
       "    <tr>\n",
       "      <th>...</th>\n",
       "      <td>...</td>\n",
       "    </tr>\n",
       "    <tr>\n",
       "      <th>2021-06-14</th>\n",
       "      <td>49.955083</td>\n",
       "    </tr>\n",
       "    <tr>\n",
       "      <th>2021-06-15</th>\n",
       "      <td>44.879661</td>\n",
       "    </tr>\n",
       "    <tr>\n",
       "      <th>2021-06-16</th>\n",
       "      <td>46.634852</td>\n",
       "    </tr>\n",
       "    <tr>\n",
       "      <th>2021-06-17</th>\n",
       "      <td>50.265623</td>\n",
       "    </tr>\n",
       "    <tr>\n",
       "      <th>2021-06-18</th>\n",
       "      <td>52.266302</td>\n",
       "    </tr>\n",
       "  </tbody>\n",
       "</table>\n",
       "<p>124 rows × 1 columns</p>\n",
       "</div>"
      ],
      "text/plain": [
       "             RSI_TSLA\n",
       "date                 \n",
       "2020-12-21        NaN\n",
       "2020-12-22        NaN\n",
       "2020-12-23        NaN\n",
       "2020-12-24        NaN\n",
       "2020-12-28        NaN\n",
       "...               ...\n",
       "2021-06-14  49.955083\n",
       "2021-06-15  44.879661\n",
       "2021-06-16  46.634852\n",
       "2021-06-17  50.265623\n",
       "2021-06-18  52.266302\n",
       "\n",
       "[124 rows x 1 columns]"
      ]
     },
     "execution_count": 56,
     "metadata": {},
     "output_type": "execute_result"
    }
   ],
   "source": [
    "tesla[['RSI_TSLA']]"
   ]
  },
  {
   "cell_type": "code",
   "execution_count": null,
   "id": "balanced-membership",
   "metadata": {},
   "outputs": [],
   "source": []
  },
  {
   "cell_type": "code",
   "execution_count": null,
   "id": "popular-smith",
   "metadata": {},
   "outputs": [],
   "source": []
  },
  {
   "cell_type": "code",
   "execution_count": null,
   "id": "provincial-seller",
   "metadata": {},
   "outputs": [],
   "source": [
    "# data = [expression for item in list]\n",
    "data['RSI_TSLA'] = [data.ta.rsi(inplace=True) for ticker in tickers] "
   ]
  },
  {
   "cell_type": "code",
   "execution_count": null,
   "id": "aging-breath",
   "metadata": {},
   "outputs": [],
   "source": []
  },
  {
   "cell_type": "code",
   "execution_count": null,
   "id": "regulation-twins",
   "metadata": {},
   "outputs": [],
   "source": []
  },
  {
   "cell_type": "code",
   "execution_count": null,
   "id": "frozen-scanning",
   "metadata": {},
   "outputs": [],
   "source": []
  },
  {
   "cell_type": "code",
   "execution_count": null,
   "id": "timely-soviet",
   "metadata": {},
   "outputs": [],
   "source": []
  },
  {
   "cell_type": "code",
   "execution_count": null,
   "id": "judicial-stations",
   "metadata": {},
   "outputs": [],
   "source": []
  },
  {
   "cell_type": "code",
   "execution_count": null,
   "id": "identical-chrome",
   "metadata": {},
   "outputs": [],
   "source": [
    "stock_data = data.iloc[-1:].T"
   ]
  },
  {
   "cell_type": "code",
   "execution_count": null,
   "id": "pressing-midwest",
   "metadata": {
    "scrolled": true
   },
   "outputs": [],
   "source": [
    "stock_data.index.levels"
   ]
  },
  {
   "cell_type": "code",
   "execution_count": null,
   "id": "cardiovascular-argentina",
   "metadata": {},
   "outputs": [],
   "source": []
  },
  {
   "cell_type": "code",
   "execution_count": null,
   "id": "micro-classics",
   "metadata": {},
   "outputs": [],
   "source": []
  },
  {
   "cell_type": "code",
   "execution_count": null,
   "id": "promising-princess",
   "metadata": {},
   "outputs": [],
   "source": [
    "stock_data"
   ]
  },
  {
   "cell_type": "code",
   "execution_count": null,
   "id": "liked-universe",
   "metadata": {
    "scrolled": true
   },
   "outputs": [],
   "source": [
    "stock_data.columns.get_level_values(0)"
   ]
  },
  {
   "cell_type": "code",
   "execution_count": null,
   "id": "living-indonesia",
   "metadata": {},
   "outputs": [],
   "source": [
    "stock_data.columns"
   ]
  },
  {
   "cell_type": "code",
   "execution_count": null,
   "id": "permanent-viewer",
   "metadata": {},
   "outputs": [],
   "source": []
  },
  {
   "cell_type": "code",
   "execution_count": null,
   "id": "lovely-denmark",
   "metadata": {},
   "outputs": [],
   "source": []
  },
  {
   "cell_type": "code",
   "execution_count": null,
   "id": "incorrect-facing",
   "metadata": {},
   "outputs": [],
   "source": []
  },
  {
   "cell_type": "code",
   "execution_count": null,
   "id": "mineral-malaysia",
   "metadata": {},
   "outputs": [],
   "source": [
    "data['RSI'] = data.ta.rsi(inplace=True) # Calculate RSI"
   ]
  },
  {
   "cell_type": "code",
   "execution_count": null,
   "id": "considered-stream",
   "metadata": {},
   "outputs": [],
   "source": []
  },
  {
   "cell_type": "code",
   "execution_count": null,
   "id": "southeast-gothic",
   "metadata": {},
   "outputs": [],
   "source": []
  },
  {
   "cell_type": "code",
   "execution_count": null,
   "id": "portable-decade",
   "metadata": {},
   "outputs": [],
   "source": []
  },
  {
   "cell_type": "code",
   "execution_count": null,
   "id": "descending-element",
   "metadata": {},
   "outputs": [],
   "source": []
  },
  {
   "cell_type": "code",
   "execution_count": null,
   "id": "killing-break",
   "metadata": {},
   "outputs": [],
   "source": []
  },
  {
   "cell_type": "code",
   "execution_count": null,
   "id": "understood-blanket",
   "metadata": {},
   "outputs": [],
   "source": []
  },
  {
   "cell_type": "code",
   "execution_count": null,
   "id": "parallel-blink",
   "metadata": {},
   "outputs": [],
   "source": []
  },
  {
   "cell_type": "code",
   "execution_count": null,
   "id": "cooperative-liechtenstein",
   "metadata": {},
   "outputs": [],
   "source": []
  },
  {
   "cell_type": "code",
   "execution_count": null,
   "id": "frozen-complement",
   "metadata": {},
   "outputs": [],
   "source": []
  },
  {
   "cell_type": "code",
   "execution_count": null,
   "id": "sweet-picnic",
   "metadata": {},
   "outputs": [],
   "source": []
  },
  {
   "cell_type": "code",
   "execution_count": null,
   "id": "concerned-protest",
   "metadata": {
    "scrolled": true
   },
   "outputs": [],
   "source": [
    "data.round().tail()"
   ]
  },
  {
   "cell_type": "code",
   "execution_count": null,
   "id": "personalized-facing",
   "metadata": {},
   "outputs": [],
   "source": [
    "df = data.iloc[-1:]"
   ]
  },
  {
   "cell_type": "code",
   "execution_count": null,
   "id": "inappropriate-klein",
   "metadata": {},
   "outputs": [],
   "source": [
    "df"
   ]
  },
  {
   "cell_type": "code",
   "execution_count": null,
   "id": "mathematical-design",
   "metadata": {},
   "outputs": [],
   "source": [
    "df_i = pd.DataFrame()\n",
    "for i in tickers:\n",
    "    print(i)\n",
    "    results = df_i.append(df[i])\n",
    "    results_2 = pd.concat([df[i]], axis=1)"
   ]
  },
  {
   "cell_type": "code",
   "execution_count": null,
   "id": "chief-printing",
   "metadata": {},
   "outputs": [],
   "source": [
    "results"
   ]
  },
  {
   "cell_type": "code",
   "execution_count": null,
   "id": "automated-durham",
   "metadata": {},
   "outputs": [],
   "source": [
    "results_2"
   ]
  },
  {
   "cell_type": "code",
   "execution_count": null,
   "id": "vietnamese-press",
   "metadata": {},
   "outputs": [],
   "source": []
  },
  {
   "cell_type": "code",
   "execution_count": null,
   "id": "attended-indianapolis",
   "metadata": {},
   "outputs": [],
   "source": []
  },
  {
   "cell_type": "code",
   "execution_count": null,
   "id": "unusual-grave",
   "metadata": {},
   "outputs": [],
   "source": []
  },
  {
   "cell_type": "code",
   "execution_count": null,
   "id": "crude-mineral",
   "metadata": {},
   "outputs": [],
   "source": []
  },
  {
   "cell_type": "code",
   "execution_count": null,
   "id": "parliamentary-differential",
   "metadata": {},
   "outputs": [],
   "source": []
  },
  {
   "cell_type": "code",
   "execution_count": null,
   "id": "developmental-islam",
   "metadata": {},
   "outputs": [],
   "source": [
    "# data['RSI'] = data.ta.rsi(inplace=True) # Calculate RSI\n",
    "# data['SMA'] = data.ta.sma(inplace=True)\n",
    "# data[['MACD_12_26_9', 'MACDh_12_26_9', 'MACDs_12_26_9']] = data.ta.macd(inplace=True)"
   ]
  },
  {
   "cell_type": "code",
   "execution_count": null,
   "id": "environmental-geography",
   "metadata": {},
   "outputs": [],
   "source": []
  },
  {
   "cell_type": "code",
   "execution_count": null,
   "id": "mathematical-label",
   "metadata": {},
   "outputs": [],
   "source": [
    "# def get_data(tickers):\n",
    "    \n",
    "#     data = yf.download(tickers,  # or pdr.get_data_yahoo(...\n",
    "#             # tickers list or string as well\n",
    "#             # tickers = \"PATH\",\n",
    "\n",
    "#             # use \"period\" instead of start/end\n",
    "#             # valid periods: 1d,5d,1mo,3mo,6mo,1y,2y,5y,10y,ytd,max\n",
    "#             # (optional, default is '1mo')\n",
    "#             period = \"6mo\",\n",
    "\n",
    "#             # fetch data by interval (including intraday if period < 60 days)\n",
    "#             # valid intervals: 1m,2m,5m,15m,30m,60m,90m,1h,1d,5d,1wk,1mo,3mo\n",
    "#             # (optional, default is '1d')\n",
    "#             interval = \"1d\",\n",
    "\n",
    "#             # group by ticker (to access via data['SPY'])\n",
    "#             # (optional, default is 'column')\n",
    "#             group_by = 'ticker',\n",
    "\n",
    "#             # adjust all OHLC automatically\n",
    "#             # (optional, default is False)\n",
    "#             auto_adjust = True,\n",
    "\n",
    "#             # download pre/post regular market hours data\n",
    "#             # (optional, default is False)\n",
    "#             prepost = True,\n",
    "\n",
    "#             # use threads for mass downloading? (True/False/Integer)\n",
    "#             # (optional, default is True)\n",
    "#             threads = True,\n",
    "\n",
    "#             # proxy URL scheme use use when downloading?\n",
    "#             # (optional, default is None)\n",
    "#             proxy = None\n",
    "#         )\n",
    "#     # data['Close'].plot(figsize=(16,8));\n",
    "#     data['RSI'] = data.ta.rsi(inplace=True) # Calculate RSI\n",
    "#     data['SMA'] = data.ta.sma(inplace=True)\n",
    "#     data[['MACD_12_26_9', 'MACDh_12_26_9', 'MACDs_12_26_9']] = data.ta.macd(inplace=True)\n",
    "    \n",
    "#     return data"
   ]
  },
  {
   "cell_type": "code",
   "execution_count": null,
   "id": "powered-cruise",
   "metadata": {},
   "outputs": [],
   "source": [
    "data = get_data(stock_symobl).round(2)\n",
    "data"
   ]
  },
  {
   "cell_type": "code",
   "execution_count": null,
   "id": "virgin-crack",
   "metadata": {},
   "outputs": [],
   "source": []
  },
  {
   "cell_type": "code",
   "execution_count": null,
   "id": "right-significance",
   "metadata": {},
   "outputs": [],
   "source": []
  },
  {
   "cell_type": "code",
   "execution_count": null,
   "id": "dried-obligation",
   "metadata": {},
   "outputs": [],
   "source": []
  },
  {
   "cell_type": "code",
   "execution_count": null,
   "id": "superb-press",
   "metadata": {},
   "outputs": [],
   "source": [
    "\n",
    "def color_negative_red(val):\n",
    "    color = 'red' if val < 30 else 'green'\n",
    "    return 'color: %s' % color"
   ]
  },
  {
   "cell_type": "code",
   "execution_count": null,
   "id": "private-performance",
   "metadata": {},
   "outputs": [],
   "source": [
    "s = data.style.applymap(color_negative_red, subset=['RSI'])"
   ]
  },
  {
   "cell_type": "code",
   "execution_count": null,
   "id": "strategic-defendant",
   "metadata": {},
   "outputs": [],
   "source": []
  },
  {
   "cell_type": "code",
   "execution_count": null,
   "id": "alive-hazard",
   "metadata": {},
   "outputs": [],
   "source": [
    "import schedule\n",
    "import time\n",
    "\n",
    "def job():\n",
    "    data = get_data(stock_symobl)\n",
    "    # data['Close'].plot(figsize=(16,8));\n",
    "\n",
    "# schedule.every(1).seconds.do(job)\n",
    "schedule.every(1).seconds.do(job)\n",
    "# schedule.every().hour.do(job)\n",
    "# schedule.every().day.at(\"10:30\").do(job)\n",
    "# schedule.every(5).to(10).minutes.do(job)\n",
    "# schedule.every().monday.do(job)\n",
    "# schedule.every().wednesday.at(\"13:15\").do(job)\n",
    "# schedule.every().minute.at(\":17\").do(job)\n",
    "\n",
    "while True:\n",
    "    schedule.run_pending()\n",
    "    time.sleep(1)"
   ]
  },
  {
   "cell_type": "code",
   "execution_count": null,
   "id": "fourth-projection",
   "metadata": {},
   "outputs": [],
   "source": []
  },
  {
   "cell_type": "code",
   "execution_count": null,
   "id": "verbal-opportunity",
   "metadata": {},
   "outputs": [],
   "source": [
    "# API = '9R2V38OOYMP02MHZ'\n",
    "# ti = TechIndicators(key=API, output_format='pandas')\n",
    "# data = ti.get_rsi(symbol=stock_symobl,\n",
    "#                   interval='daily',\n",
    "#                   time_period=14,\n",
    "#                   series_type='close')\n",
    "\n",
    "# data"
   ]
  },
  {
   "cell_type": "code",
   "execution_count": null,
   "id": "constitutional-optimization",
   "metadata": {},
   "outputs": [],
   "source": [
    "# # Skip first 14 days to have real values\n",
    "\n",
    "# hist = hist.iloc[14:]\n",
    "\n",
    "# print(hist)\n",
    "# fig, (ax1, ax2) = plt.subplots(2)\n",
    "# ax1.get_xaxis().set_visible(False)\n",
    "# fig.suptitle(f'{stock_symobl}')\n",
    "\n",
    "# hist['Close'].plot(ax=ax1)\n",
    "# ax1.set_ylabel('Price ($)')\n",
    "# hist['RSI'].plot(ax=ax2)\n",
    "# ax2.set_ylim(0,100)\n",
    "# ax2.axhline(30, color='r', linestyle='--')\n",
    "# ax2.axhline(70, color='r', linestyle='--')\n",
    "# ax2.set_ylabel('RSI')\n",
    "\n",
    "# plt.show()"
   ]
  },
  {
   "cell_type": "code",
   "execution_count": null,
   "id": "local-indian",
   "metadata": {},
   "outputs": [],
   "source": [
    "# ti = TechIndicators(key='9R2V38OOYMP02MHZ', output_format='pandas')"
   ]
  },
  {
   "cell_type": "code",
   "execution_count": null,
   "id": "italian-luxembourg",
   "metadata": {},
   "outputs": [],
   "source": [
    "# data, meta_data = ti.get_rsi(symbol=stock_symobl,\n",
    "#                              interval='daily',\n",
    "#                              time_period=14,\n",
    "#                              series_type='close')\n",
    "# data.plot()\n",
    "# plt.title(f'RSI indicator for {stock_symobl} stock')\n",
    "# plt.show()"
   ]
  }
 ],
 "metadata": {
  "kernelspec": {
   "display_name": "Python 3",
   "language": "python",
   "name": "python3"
  },
  "language_info": {
   "codemirror_mode": {
    "name": "ipython",
    "version": 3
   },
   "file_extension": ".py",
   "mimetype": "text/x-python",
   "name": "python",
   "nbconvert_exporter": "python",
   "pygments_lexer": "ipython3",
   "version": "3.7.6"
  }
 },
 "nbformat": 4,
 "nbformat_minor": 5
}
