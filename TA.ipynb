{
 "cells": [
  {
   "cell_type": "code",
   "execution_count": 1,
   "metadata": {},
   "outputs": [],
   "source": [
    "import yfinance as yf\r\n",
    "import pandas as pd\r\n",
    "import pandas_datareader as pdr\r\n",
    "import datetime as dt\r\n",
    "import matplotlib.pyplot as plt\r\n",
    "from alpha_vantage.techindicators import TechIndicators\r\n",
    "import matplotlib.pyplot as plt\r\n",
    "import pandas_ta as ta\r\n"
   ]
  },
  {
   "cell_type": "code",
   "execution_count": 5,
   "metadata": {},
   "outputs": [],
   "source": [
    "stock_symobl = \"AMC\"\r\n",
    "stock = yf.Ticker(stock_symobl)"
   ]
  },
  {
   "cell_type": "code",
   "execution_count": 6,
   "metadata": {},
   "outputs": [],
   "source": [
    "# get historical market data\r\n",
    "hist = stock.history(period=\"1y\")"
   ]
  },
  {
   "cell_type": "code",
   "execution_count": 7,
   "metadata": {},
   "outputs": [
    {
     "data": {
      "text/html": "<div>\n<style scoped>\n    .dataframe tbody tr th:only-of-type {\n        vertical-align: middle;\n    }\n\n    .dataframe tbody tr th {\n        vertical-align: top;\n    }\n\n    .dataframe thead th {\n        text-align: right;\n    }\n</style>\n<table border=\"1\" class=\"dataframe\">\n  <thead>\n    <tr style=\"text-align: right;\">\n      <th></th>\n      <th>Open</th>\n      <th>High</th>\n      <th>Low</th>\n      <th>Close</th>\n      <th>Volume</th>\n      <th>Dividends</th>\n      <th>Stock Splits</th>\n    </tr>\n    <tr>\n      <th>Date</th>\n      <th></th>\n      <th></th>\n      <th></th>\n      <th></th>\n      <th></th>\n      <th></th>\n      <th></th>\n    </tr>\n  </thead>\n  <tbody>\n    <tr>\n      <th>2020-05-29</th>\n      <td>5.000000</td>\n      <td>5.380000</td>\n      <td>4.830000</td>\n      <td>5.130000</td>\n      <td>5153000</td>\n      <td>0</td>\n      <td>0</td>\n    </tr>\n    <tr>\n      <th>2020-06-01</th>\n      <td>5.030000</td>\n      <td>5.370000</td>\n      <td>5.020000</td>\n      <td>5.310000</td>\n      <td>3913100</td>\n      <td>0</td>\n      <td>0</td>\n    </tr>\n    <tr>\n      <th>2020-06-02</th>\n      <td>5.350000</td>\n      <td>5.650000</td>\n      <td>5.330000</td>\n      <td>5.590000</td>\n      <td>6877800</td>\n      <td>0</td>\n      <td>0</td>\n    </tr>\n    <tr>\n      <th>2020-06-03</th>\n      <td>5.270000</td>\n      <td>5.990000</td>\n      <td>5.090000</td>\n      <td>5.450000</td>\n      <td>15353700</td>\n      <td>0</td>\n      <td>0</td>\n    </tr>\n    <tr>\n      <th>2020-06-04</th>\n      <td>5.170000</td>\n      <td>5.400000</td>\n      <td>5.000000</td>\n      <td>5.380000</td>\n      <td>8572600</td>\n      <td>0</td>\n      <td>0</td>\n    </tr>\n    <tr>\n      <th>...</th>\n      <td>...</td>\n      <td>...</td>\n      <td>...</td>\n      <td>...</td>\n      <td>...</td>\n      <td>...</td>\n      <td>...</td>\n    </tr>\n    <tr>\n      <th>2021-05-24</th>\n      <td>12.380000</td>\n      <td>13.960000</td>\n      <td>12.170000</td>\n      <td>13.680000</td>\n      <td>113319200</td>\n      <td>0</td>\n      <td>0</td>\n    </tr>\n    <tr>\n      <th>2021-05-25</th>\n      <td>13.610000</td>\n      <td>16.670000</td>\n      <td>13.550000</td>\n      <td>16.410000</td>\n      <td>213644100</td>\n      <td>0</td>\n      <td>0</td>\n    </tr>\n    <tr>\n      <th>2021-05-26</th>\n      <td>17.760000</td>\n      <td>19.950001</td>\n      <td>17.260000</td>\n      <td>19.559999</td>\n      <td>379064100</td>\n      <td>0</td>\n      <td>0</td>\n    </tr>\n    <tr>\n      <th>2021-05-27</th>\n      <td>18.610001</td>\n      <td>29.760000</td>\n      <td>18.309999</td>\n      <td>26.520000</td>\n      <td>705545700</td>\n      <td>0</td>\n      <td>0</td>\n    </tr>\n    <tr>\n      <th>2021-05-28</th>\n      <td>31.809999</td>\n      <td>36.720001</td>\n      <td>24.170000</td>\n      <td>26.120001</td>\n      <td>659070200</td>\n      <td>0</td>\n      <td>0</td>\n    </tr>\n  </tbody>\n</table>\n<p>253 rows × 7 columns</p>\n</div>",
      "text/plain": "                 Open       High        Low      Close     Volume  Dividends  \\\nDate                                                                           \n2020-05-29   5.000000   5.380000   4.830000   5.130000    5153000          0   \n2020-06-01   5.030000   5.370000   5.020000   5.310000    3913100          0   \n2020-06-02   5.350000   5.650000   5.330000   5.590000    6877800          0   \n2020-06-03   5.270000   5.990000   5.090000   5.450000   15353700          0   \n2020-06-04   5.170000   5.400000   5.000000   5.380000    8572600          0   \n...               ...        ...        ...        ...        ...        ...   \n2021-05-24  12.380000  13.960000  12.170000  13.680000  113319200          0   \n2021-05-25  13.610000  16.670000  13.550000  16.410000  213644100          0   \n2021-05-26  17.760000  19.950001  17.260000  19.559999  379064100          0   \n2021-05-27  18.610001  29.760000  18.309999  26.520000  705545700          0   \n2021-05-28  31.809999  36.720001  24.170000  26.120001  659070200          0   \n\n            Stock Splits  \nDate                      \n2020-05-29             0  \n2020-06-01             0  \n2020-06-02             0  \n2020-06-03             0  \n2020-06-04             0  \n...                  ...  \n2021-05-24             0  \n2021-05-25             0  \n2021-05-26             0  \n2021-05-27             0  \n2021-05-28             0  \n\n[253 rows x 7 columns]"
     },
     "execution_count": 7,
     "metadata": {},
     "output_type": "execute_result"
    }
   ],
   "source": [
    "hist"
   ]
  },
  {
   "cell_type": "code",
   "execution_count": 9,
   "metadata": {},
   "outputs": [
    {
     "name": "stdout",
     "output_type": "stream",
     "text": [
      "[*********************100%***********************]  3 of 3 completed\n"
     ]
    }
   ],
   "source": [
    "data = yf.download(  # or pdr.get_data_yahoo(...\r\n",
    "        # tickers list or string as well\r\n",
    "        tickers = \"SPY AAPL MSFT\",\r\n",
    "        period = \"1d\",\r\n",
    "        interval = \"1m\",\r\n",
    "        group_by = 'ticker',\r\n",
    "        auto_adjust = True,\r\n",
    "        prepost = True,\r\n",
    "        threads = True,\r\n",
    "        proxy = None\r\n",
    "    )"
   ]
  },
  {
   "cell_type": "code",
   "execution_count": 10,
   "metadata": {},
   "outputs": [
    {
     "data": {
      "text/html": "<div>\n<style scoped>\n    .dataframe tbody tr th:only-of-type {\n        vertical-align: middle;\n    }\n\n    .dataframe tbody tr th {\n        vertical-align: top;\n    }\n\n    .dataframe thead tr th {\n        text-align: left;\n    }\n\n    .dataframe thead tr:last-of-type th {\n        text-align: right;\n    }\n</style>\n<table border=\"1\" class=\"dataframe\">\n  <thead>\n    <tr>\n      <th></th>\n      <th colspan=\"5\" halign=\"left\">MSFT</th>\n      <th colspan=\"5\" halign=\"left\">SPY</th>\n      <th colspan=\"5\" halign=\"left\">AAPL</th>\n    </tr>\n    <tr>\n      <th></th>\n      <th>Open</th>\n      <th>High</th>\n      <th>Low</th>\n      <th>Close</th>\n      <th>Volume</th>\n      <th>Open</th>\n      <th>High</th>\n      <th>Low</th>\n      <th>Close</th>\n      <th>Volume</th>\n      <th>Open</th>\n      <th>High</th>\n      <th>Low</th>\n      <th>Close</th>\n      <th>Volume</th>\n    </tr>\n    <tr>\n      <th>Datetime</th>\n      <th></th>\n      <th></th>\n      <th></th>\n      <th></th>\n      <th></th>\n      <th></th>\n      <th></th>\n      <th></th>\n      <th></th>\n      <th></th>\n      <th></th>\n      <th></th>\n      <th></th>\n      <th></th>\n      <th></th>\n    </tr>\n  </thead>\n  <tbody>\n    <tr>\n      <th>2021-05-28 04:00:00-04:00</th>\n      <td>249.82</td>\n      <td>249.82</td>\n      <td>249.74</td>\n      <td>249.74</td>\n      <td>0.0</td>\n      <td>420.87</td>\n      <td>420.87</td>\n      <td>420.83</td>\n      <td>420.87</td>\n      <td>0.0</td>\n      <td>126.04</td>\n      <td>126.10</td>\n      <td>126.00</td>\n      <td>126.00</td>\n      <td>0.0</td>\n    </tr>\n    <tr>\n      <th>2021-05-28 04:01:00-04:00</th>\n      <td>250.00</td>\n      <td>250.00</td>\n      <td>250.00</td>\n      <td>250.00</td>\n      <td>0.0</td>\n      <td>420.90</td>\n      <td>420.90</td>\n      <td>420.87</td>\n      <td>420.87</td>\n      <td>0.0</td>\n      <td>126.00</td>\n      <td>126.00</td>\n      <td>126.00</td>\n      <td>126.00</td>\n      <td>0.0</td>\n    </tr>\n    <tr>\n      <th>2021-05-28 04:02:00-04:00</th>\n      <td>250.40</td>\n      <td>250.40</td>\n      <td>250.40</td>\n      <td>250.40</td>\n      <td>0.0</td>\n      <td>420.92</td>\n      <td>420.97</td>\n      <td>420.92</td>\n      <td>420.97</td>\n      <td>0.0</td>\n      <td>126.00</td>\n      <td>126.18</td>\n      <td>125.95</td>\n      <td>126.00</td>\n      <td>0.0</td>\n    </tr>\n    <tr>\n      <th>2021-05-28 04:03:00-04:00</th>\n      <td>250.40</td>\n      <td>250.50</td>\n      <td>250.40</td>\n      <td>250.50</td>\n      <td>0.0</td>\n      <td>420.93</td>\n      <td>420.95</td>\n      <td>420.93</td>\n      <td>420.95</td>\n      <td>0.0</td>\n      <td>126.00</td>\n      <td>126.18</td>\n      <td>125.98</td>\n      <td>126.00</td>\n      <td>0.0</td>\n    </tr>\n    <tr>\n      <th>2021-05-28 04:04:00-04:00</th>\n      <td>250.40</td>\n      <td>250.40</td>\n      <td>250.40</td>\n      <td>250.40</td>\n      <td>0.0</td>\n      <td>420.97</td>\n      <td>420.97</td>\n      <td>420.97</td>\n      <td>420.97</td>\n      <td>0.0</td>\n      <td>126.00</td>\n      <td>126.05</td>\n      <td>126.00</td>\n      <td>126.00</td>\n      <td>0.0</td>\n    </tr>\n    <tr>\n      <th>...</th>\n      <td>...</td>\n      <td>...</td>\n      <td>...</td>\n      <td>...</td>\n      <td>...</td>\n      <td>...</td>\n      <td>...</td>\n      <td>...</td>\n      <td>...</td>\n      <td>...</td>\n      <td>...</td>\n      <td>...</td>\n      <td>...</td>\n      <td>...</td>\n      <td>...</td>\n    </tr>\n    <tr>\n      <th>2021-05-28 19:55:00-04:00</th>\n      <td>249.95</td>\n      <td>249.95</td>\n      <td>249.95</td>\n      <td>249.95</td>\n      <td>0.0</td>\n      <td>NaN</td>\n      <td>NaN</td>\n      <td>NaN</td>\n      <td>NaN</td>\n      <td>NaN</td>\n      <td>124.64</td>\n      <td>124.64</td>\n      <td>124.62</td>\n      <td>124.63</td>\n      <td>0.0</td>\n    </tr>\n    <tr>\n      <th>2021-05-28 19:56:00-04:00</th>\n      <td>249.86</td>\n      <td>249.86</td>\n      <td>249.85</td>\n      <td>249.85</td>\n      <td>0.0</td>\n      <td>NaN</td>\n      <td>NaN</td>\n      <td>NaN</td>\n      <td>NaN</td>\n      <td>NaN</td>\n      <td>124.63</td>\n      <td>124.64</td>\n      <td>124.61</td>\n      <td>124.64</td>\n      <td>0.0</td>\n    </tr>\n    <tr>\n      <th>2021-05-28 19:57:00-04:00</th>\n      <td>249.95</td>\n      <td>249.95</td>\n      <td>249.95</td>\n      <td>249.95</td>\n      <td>0.0</td>\n      <td>419.98</td>\n      <td>420.02</td>\n      <td>419.97</td>\n      <td>419.97</td>\n      <td>0.0</td>\n      <td>124.64</td>\n      <td>124.64</td>\n      <td>124.63</td>\n      <td>124.64</td>\n      <td>0.0</td>\n    </tr>\n    <tr>\n      <th>2021-05-28 19:58:00-04:00</th>\n      <td>NaN</td>\n      <td>NaN</td>\n      <td>NaN</td>\n      <td>NaN</td>\n      <td>NaN</td>\n      <td>420.02</td>\n      <td>420.02</td>\n      <td>419.97</td>\n      <td>420.00</td>\n      <td>0.0</td>\n      <td>124.65</td>\n      <td>124.65</td>\n      <td>124.64</td>\n      <td>124.65</td>\n      <td>0.0</td>\n    </tr>\n    <tr>\n      <th>2021-05-28 19:59:00-04:00</th>\n      <td>249.85</td>\n      <td>249.95</td>\n      <td>249.83</td>\n      <td>249.83</td>\n      <td>0.0</td>\n      <td>420.00</td>\n      <td>420.05</td>\n      <td>419.96</td>\n      <td>420.04</td>\n      <td>0.0</td>\n      <td>124.65</td>\n      <td>124.67</td>\n      <td>124.61</td>\n      <td>124.61</td>\n      <td>0.0</td>\n    </tr>\n  </tbody>\n</table>\n<p>945 rows × 15 columns</p>\n</div>",
      "text/plain": "                             MSFT                                    SPY  \\\n                             Open    High     Low   Close Volume    Open   \nDatetime                                                                   \n2021-05-28 04:00:00-04:00  249.82  249.82  249.74  249.74    0.0  420.87   \n2021-05-28 04:01:00-04:00  250.00  250.00  250.00  250.00    0.0  420.90   \n2021-05-28 04:02:00-04:00  250.40  250.40  250.40  250.40    0.0  420.92   \n2021-05-28 04:03:00-04:00  250.40  250.50  250.40  250.50    0.0  420.93   \n2021-05-28 04:04:00-04:00  250.40  250.40  250.40  250.40    0.0  420.97   \n...                           ...     ...     ...     ...    ...     ...   \n2021-05-28 19:55:00-04:00  249.95  249.95  249.95  249.95    0.0     NaN   \n2021-05-28 19:56:00-04:00  249.86  249.86  249.85  249.85    0.0     NaN   \n2021-05-28 19:57:00-04:00  249.95  249.95  249.95  249.95    0.0  419.98   \n2021-05-28 19:58:00-04:00     NaN     NaN     NaN     NaN    NaN  420.02   \n2021-05-28 19:59:00-04:00  249.85  249.95  249.83  249.83    0.0  420.00   \n\n                                                            AAPL          \\\n                             High     Low   Close Volume    Open    High   \nDatetime                                                                   \n2021-05-28 04:00:00-04:00  420.87  420.83  420.87    0.0  126.04  126.10   \n2021-05-28 04:01:00-04:00  420.90  420.87  420.87    0.0  126.00  126.00   \n2021-05-28 04:02:00-04:00  420.97  420.92  420.97    0.0  126.00  126.18   \n2021-05-28 04:03:00-04:00  420.95  420.93  420.95    0.0  126.00  126.18   \n2021-05-28 04:04:00-04:00  420.97  420.97  420.97    0.0  126.00  126.05   \n...                           ...     ...     ...    ...     ...     ...   \n2021-05-28 19:55:00-04:00     NaN     NaN     NaN    NaN  124.64  124.64   \n2021-05-28 19:56:00-04:00     NaN     NaN     NaN    NaN  124.63  124.64   \n2021-05-28 19:57:00-04:00  420.02  419.97  419.97    0.0  124.64  124.64   \n2021-05-28 19:58:00-04:00  420.02  419.97  420.00    0.0  124.65  124.65   \n2021-05-28 19:59:00-04:00  420.05  419.96  420.04    0.0  124.65  124.67   \n\n                                                  \n                              Low   Close Volume  \nDatetime                                          \n2021-05-28 04:00:00-04:00  126.00  126.00    0.0  \n2021-05-28 04:01:00-04:00  126.00  126.00    0.0  \n2021-05-28 04:02:00-04:00  125.95  126.00    0.0  \n2021-05-28 04:03:00-04:00  125.98  126.00    0.0  \n2021-05-28 04:04:00-04:00  126.00  126.00    0.0  \n...                           ...     ...    ...  \n2021-05-28 19:55:00-04:00  124.62  124.63    0.0  \n2021-05-28 19:56:00-04:00  124.61  124.64    0.0  \n2021-05-28 19:57:00-04:00  124.63  124.64    0.0  \n2021-05-28 19:58:00-04:00  124.64  124.65    0.0  \n2021-05-28 19:59:00-04:00  124.61  124.61    0.0  \n\n[945 rows x 15 columns]"
     },
     "execution_count": 10,
     "metadata": {},
     "output_type": "execute_result"
    }
   ],
   "source": [
    "data"
   ]
  },
  {
   "cell_type": "code",
   "execution_count": null,
   "metadata": {},
   "outputs": [],
   "source": []
  },
  {
   "cell_type": "code",
   "execution_count": null,
   "metadata": {},
   "outputs": [],
   "source": []
  }
 ],
 "metadata": {
  "kernelspec": {
   "display_name": "Python 3.7.6 64-bit ('rev_env': venv)",
   "name": "python376jvsc74a57bd06b62ff5e049cb4720063cc682ee157cf0ca3ffbe58af01e7973c62c7c1571b3f"
  },
  "language_info": {
   "name": "python",
   "version": ""
  },
  "orig_nbformat": 2
 },
 "nbformat": 4,
 "nbformat_minor": 2
}