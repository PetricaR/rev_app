{
 "cells": [
  {
   "cell_type": "code",
   "execution_count": 6,
   "metadata": {},
   "outputs": [],
   "source": [
    "import yfinance as yf\n",
    "import pandas as pd\n",
    "import pandas_datareader as pdr\n",
    "import datetime as dt\n",
    "import matplotlib.pyplot as plt\n",
    "from alpha_vantage.techindicators import TechIndicators\n",
    "import matplotlib.pyplot as plt\n",
    "import pandas_ta as ta\n",
    "import streamlit as st\n",
    "import schedule\n",
    "import time"
   ]
  },
  {
   "cell_type": "code",
   "execution_count": 18,
   "metadata": {},
   "outputs": [],
   "source": [
    "# Market title web page:\n",
    "# @st.cache(allow_output_mutation=True)\n",
    "def stock_list():\n",
    "    stock_list = list(pd.read_excel('stocks_list.xlsx', sheet_name='stocks_list')['Symbol'])[300:301] \n",
    "    return stock_list"
   ]
  },
  {
   "cell_type": "code",
   "execution_count": 19,
   "metadata": {},
   "outputs": [
    {
     "data": {
      "text/plain": [
       "['EVR']"
      ]
     },
     "execution_count": 19,
     "metadata": {},
     "output_type": "execute_result"
    }
   ],
   "source": [
    "symbols = stock_list()\n",
    "symbols"
   ]
  },
  {
   "cell_type": "code",
   "execution_count": 20,
   "metadata": {},
   "outputs": [
    {
     "name": "stdout",
     "output_type": "stream",
     "text": [
      "[*********************100%***********************]  1 of 1 completed\n"
     ]
    },
    {
     "data": {
      "text/html": [
       "<div>\n",
       "<style scoped>\n",
       "    .dataframe tbody tr th:only-of-type {\n",
       "        vertical-align: middle;\n",
       "    }\n",
       "\n",
       "    .dataframe tbody tr th {\n",
       "        vertical-align: top;\n",
       "    }\n",
       "\n",
       "    .dataframe thead th {\n",
       "        text-align: right;\n",
       "    }\n",
       "</style>\n",
       "<table border=\"1\" class=\"dataframe\">\n",
       "  <thead>\n",
       "    <tr style=\"text-align: right;\">\n",
       "      <th></th>\n",
       "      <th>Open</th>\n",
       "      <th>High</th>\n",
       "      <th>Low</th>\n",
       "      <th>Close</th>\n",
       "      <th>Volume</th>\n",
       "    </tr>\n",
       "    <tr>\n",
       "      <th>Datetime</th>\n",
       "      <th></th>\n",
       "      <th></th>\n",
       "      <th></th>\n",
       "      <th></th>\n",
       "      <th></th>\n",
       "    </tr>\n",
       "  </thead>\n",
       "  <tbody>\n",
       "    <tr>\n",
       "      <th>2021-05-28 09:30:00-04:00</th>\n",
       "      <td>147.639999</td>\n",
       "      <td>147.639999</td>\n",
       "      <td>147.639999</td>\n",
       "      <td>147.639999</td>\n",
       "      <td>0</td>\n",
       "    </tr>\n",
       "    <tr>\n",
       "      <th>2021-05-28 09:31:00-04:00</th>\n",
       "      <td>147.250000</td>\n",
       "      <td>147.250000</td>\n",
       "      <td>147.250000</td>\n",
       "      <td>147.250000</td>\n",
       "      <td>238</td>\n",
       "    </tr>\n",
       "    <tr>\n",
       "      <th>2021-05-28 09:32:00-04:00</th>\n",
       "      <td>147.024994</td>\n",
       "      <td>147.024994</td>\n",
       "      <td>147.024994</td>\n",
       "      <td>147.024994</td>\n",
       "      <td>294</td>\n",
       "    </tr>\n",
       "    <tr>\n",
       "      <th>2021-05-28 09:33:00-04:00</th>\n",
       "      <td>146.259995</td>\n",
       "      <td>146.259995</td>\n",
       "      <td>146.100006</td>\n",
       "      <td>146.100006</td>\n",
       "      <td>1174</td>\n",
       "    </tr>\n",
       "    <tr>\n",
       "      <th>2021-05-28 09:34:00-04:00</th>\n",
       "      <td>146.419998</td>\n",
       "      <td>146.419998</td>\n",
       "      <td>146.419998</td>\n",
       "      <td>146.419998</td>\n",
       "      <td>100</td>\n",
       "    </tr>\n",
       "    <tr>\n",
       "      <th>...</th>\n",
       "      <td>...</td>\n",
       "      <td>...</td>\n",
       "      <td>...</td>\n",
       "      <td>...</td>\n",
       "      <td>...</td>\n",
       "    </tr>\n",
       "    <tr>\n",
       "      <th>2021-05-28 16:01:00-04:00</th>\n",
       "      <td>145.860000</td>\n",
       "      <td>145.860000</td>\n",
       "      <td>145.860000</td>\n",
       "      <td>145.860000</td>\n",
       "      <td>0</td>\n",
       "    </tr>\n",
       "    <tr>\n",
       "      <th>2021-05-28 16:04:00-04:00</th>\n",
       "      <td>145.860000</td>\n",
       "      <td>145.861000</td>\n",
       "      <td>145.860000</td>\n",
       "      <td>145.861000</td>\n",
       "      <td>0</td>\n",
       "    </tr>\n",
       "    <tr>\n",
       "      <th>2021-05-28 16:50:00-04:00</th>\n",
       "      <td>145.520000</td>\n",
       "      <td>145.520000</td>\n",
       "      <td>145.520000</td>\n",
       "      <td>145.520000</td>\n",
       "      <td>0</td>\n",
       "    </tr>\n",
       "    <tr>\n",
       "      <th>2021-05-28 17:38:00-04:00</th>\n",
       "      <td>145.520000</td>\n",
       "      <td>145.520000</td>\n",
       "      <td>145.520000</td>\n",
       "      <td>145.520000</td>\n",
       "      <td>0</td>\n",
       "    </tr>\n",
       "    <tr>\n",
       "      <th>2021-05-28 18:23:00-04:00</th>\n",
       "      <td>145.650000</td>\n",
       "      <td>145.650000</td>\n",
       "      <td>145.650000</td>\n",
       "      <td>145.650000</td>\n",
       "      <td>0</td>\n",
       "    </tr>\n",
       "  </tbody>\n",
       "</table>\n",
       "<p>274 rows × 5 columns</p>\n",
       "</div>"
      ],
      "text/plain": [
       "                                 Open        High         Low       Close  \\\n",
       "Datetime                                                                    \n",
       "2021-05-28 09:30:00-04:00  147.639999  147.639999  147.639999  147.639999   \n",
       "2021-05-28 09:31:00-04:00  147.250000  147.250000  147.250000  147.250000   \n",
       "2021-05-28 09:32:00-04:00  147.024994  147.024994  147.024994  147.024994   \n",
       "2021-05-28 09:33:00-04:00  146.259995  146.259995  146.100006  146.100006   \n",
       "2021-05-28 09:34:00-04:00  146.419998  146.419998  146.419998  146.419998   \n",
       "...                               ...         ...         ...         ...   \n",
       "2021-05-28 16:01:00-04:00  145.860000  145.860000  145.860000  145.860000   \n",
       "2021-05-28 16:04:00-04:00  145.860000  145.861000  145.860000  145.861000   \n",
       "2021-05-28 16:50:00-04:00  145.520000  145.520000  145.520000  145.520000   \n",
       "2021-05-28 17:38:00-04:00  145.520000  145.520000  145.520000  145.520000   \n",
       "2021-05-28 18:23:00-04:00  145.650000  145.650000  145.650000  145.650000   \n",
       "\n",
       "                           Volume  \n",
       "Datetime                           \n",
       "2021-05-28 09:30:00-04:00       0  \n",
       "2021-05-28 09:31:00-04:00     238  \n",
       "2021-05-28 09:32:00-04:00     294  \n",
       "2021-05-28 09:33:00-04:00    1174  \n",
       "2021-05-28 09:34:00-04:00     100  \n",
       "...                           ...  \n",
       "2021-05-28 16:01:00-04:00       0  \n",
       "2021-05-28 16:04:00-04:00       0  \n",
       "2021-05-28 16:50:00-04:00       0  \n",
       "2021-05-28 17:38:00-04:00       0  \n",
       "2021-05-28 18:23:00-04:00       0  \n",
       "\n",
       "[274 rows x 5 columns]"
      ]
     },
     "execution_count": 20,
     "metadata": {},
     "output_type": "execute_result"
    }
   ],
   "source": [
    "data = yf.download(\n",
    "        tickers = symbols,\n",
    "        period = \"1d\",\n",
    "        interval = \"1m\",\n",
    "        group_by = 'ticker',\n",
    "        auto_adjust = True,\n",
    "        prepost = True,\n",
    "        threads = True,\n",
    "        proxy = None\n",
    "    )\n",
    "data"
   ]
  },
  {
   "cell_type": "code",
   "execution_count": null,
   "metadata": {},
   "outputs": [],
   "source": []
  },
  {
   "cell_type": "code",
   "execution_count": null,
   "metadata": {},
   "outputs": [],
   "source": []
  },
  {
   "cell_type": "code",
   "execution_count": null,
   "metadata": {},
   "outputs": [],
   "source": []
  },
  {
   "cell_type": "code",
   "execution_count": null,
   "metadata": {},
   "outputs": [],
   "source": []
  },
  {
   "cell_type": "code",
   "execution_count": null,
   "metadata": {},
   "outputs": [],
   "source": []
  }
 ],
 "metadata": {
  "kernelspec": {
   "display_name": "rev_env",
   "language": "python",
   "name": "rev_env"
  },
  "language_info": {
   "codemirror_mode": {
    "name": "ipython",
    "version": 3
   },
   "file_extension": ".py",
   "mimetype": "text/x-python",
   "name": "python",
   "nbconvert_exporter": "python",
   "pygments_lexer": "ipython3",
   "version": "3.8.5"
  }
 },
 "nbformat": 4,
 "nbformat_minor": 2
}
